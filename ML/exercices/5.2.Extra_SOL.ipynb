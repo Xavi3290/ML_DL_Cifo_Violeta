{
 "cells": [
  {
   "cell_type": "markdown",
   "metadata": {},
   "source": [
    "# Libraries"
   ]
  },
  {
   "cell_type": "code",
   "execution_count": 1,
   "metadata": {},
   "outputs": [],
   "source": [
    "import pandas as pd\n",
    "import numpy as np\n",
    "import matplotlib.pyplot as plt\n",
    "import seaborn as sns\n",
    "import time\n",
    "\n",
    "# metrics\n",
    "from sklearn.metrics import make_scorer, mean_absolute_error, median_absolute_error, mean_squared_error, r2_score\n",
    "\n",
    "# cross-validation\n",
    "from sklearn.model_selection import train_test_split, cross_validate, KFold, GridSearchCV, RandomizedSearchCV\n",
    "\n",
    "# preprocessing\n",
    "from sklearn.pipeline import Pipeline\n",
    "from sklearn.preprocessing import MinMaxScaler, RobustScaler, StandardScaler\n",
    "from sklearn.compose import TransformedTargetRegressor\n",
    "\n",
    "# regression models\n",
    "from sklearn import tree\n",
    "from sklearn.linear_model import LinearRegression, Ridge, Lasso, ElasticNet\n",
    "from sklearn.neighbors import KNeighborsRegressor\n",
    "from sklearn.tree import DecisionTreeRegressor\n",
    "from sklearn.ensemble import RandomForestRegressor, GradientBoostingRegressor, StackingRegressor, VotingRegressor"
   ]
  },
  {
   "cell_type": "markdown",
   "metadata": {},
   "source": [
    "# Feature Eng"
   ]
  },
  {
   "cell_type": "code",
   "execution_count": 2,
   "metadata": {},
   "outputs": [
    {
     "data": {
      "text/html": [
       "<div>\n",
       "<style scoped>\n",
       "    .dataframe tbody tr th:only-of-type {\n",
       "        vertical-align: middle;\n",
       "    }\n",
       "\n",
       "    .dataframe tbody tr th {\n",
       "        vertical-align: top;\n",
       "    }\n",
       "\n",
       "    .dataframe thead th {\n",
       "        text-align: right;\n",
       "    }\n",
       "</style>\n",
       "<table border=\"1\" class=\"dataframe\">\n",
       "  <thead>\n",
       "    <tr style=\"text-align: right;\">\n",
       "      <th></th>\n",
       "      <th>LotArea</th>\n",
       "      <th>Street</th>\n",
       "      <th>LandSlope</th>\n",
       "      <th>YearBuilt</th>\n",
       "      <th>YearRemodAdd</th>\n",
       "      <th>TotalBsmtSF</th>\n",
       "      <th>CentralAir</th>\n",
       "      <th>1stFlrSF</th>\n",
       "      <th>2ndFlrSF</th>\n",
       "      <th>GrLivArea</th>\n",
       "      <th>...</th>\n",
       "      <th>Electrical_FuseP</th>\n",
       "      <th>Electrical_Mix</th>\n",
       "      <th>Electrical_SBrkr</th>\n",
       "      <th>GarageType_2Types</th>\n",
       "      <th>GarageType_Attchd</th>\n",
       "      <th>GarageType_Basment</th>\n",
       "      <th>GarageType_BuiltIn</th>\n",
       "      <th>GarageType_CarPort</th>\n",
       "      <th>GarageType_Detchd</th>\n",
       "      <th>GarageType_NoGarage</th>\n",
       "    </tr>\n",
       "  </thead>\n",
       "  <tbody>\n",
       "    <tr>\n",
       "      <th>0</th>\n",
       "      <td>8450</td>\n",
       "      <td>1.0</td>\n",
       "      <td>0.0</td>\n",
       "      <td>2003</td>\n",
       "      <td>2003</td>\n",
       "      <td>856</td>\n",
       "      <td>1.0</td>\n",
       "      <td>856</td>\n",
       "      <td>854</td>\n",
       "      <td>1710</td>\n",
       "      <td>...</td>\n",
       "      <td>0</td>\n",
       "      <td>0</td>\n",
       "      <td>1</td>\n",
       "      <td>0</td>\n",
       "      <td>1</td>\n",
       "      <td>0</td>\n",
       "      <td>0</td>\n",
       "      <td>0</td>\n",
       "      <td>0</td>\n",
       "      <td>0</td>\n",
       "    </tr>\n",
       "    <tr>\n",
       "      <th>1</th>\n",
       "      <td>9600</td>\n",
       "      <td>1.0</td>\n",
       "      <td>0.0</td>\n",
       "      <td>1976</td>\n",
       "      <td>1976</td>\n",
       "      <td>1262</td>\n",
       "      <td>1.0</td>\n",
       "      <td>1262</td>\n",
       "      <td>0</td>\n",
       "      <td>1262</td>\n",
       "      <td>...</td>\n",
       "      <td>0</td>\n",
       "      <td>0</td>\n",
       "      <td>1</td>\n",
       "      <td>0</td>\n",
       "      <td>1</td>\n",
       "      <td>0</td>\n",
       "      <td>0</td>\n",
       "      <td>0</td>\n",
       "      <td>0</td>\n",
       "      <td>0</td>\n",
       "    </tr>\n",
       "    <tr>\n",
       "      <th>2</th>\n",
       "      <td>11250</td>\n",
       "      <td>1.0</td>\n",
       "      <td>0.0</td>\n",
       "      <td>2001</td>\n",
       "      <td>2002</td>\n",
       "      <td>920</td>\n",
       "      <td>1.0</td>\n",
       "      <td>920</td>\n",
       "      <td>866</td>\n",
       "      <td>1786</td>\n",
       "      <td>...</td>\n",
       "      <td>0</td>\n",
       "      <td>0</td>\n",
       "      <td>1</td>\n",
       "      <td>0</td>\n",
       "      <td>1</td>\n",
       "      <td>0</td>\n",
       "      <td>0</td>\n",
       "      <td>0</td>\n",
       "      <td>0</td>\n",
       "      <td>0</td>\n",
       "    </tr>\n",
       "    <tr>\n",
       "      <th>3</th>\n",
       "      <td>9550</td>\n",
       "      <td>1.0</td>\n",
       "      <td>0.0</td>\n",
       "      <td>1915</td>\n",
       "      <td>1970</td>\n",
       "      <td>756</td>\n",
       "      <td>1.0</td>\n",
       "      <td>961</td>\n",
       "      <td>756</td>\n",
       "      <td>1717</td>\n",
       "      <td>...</td>\n",
       "      <td>0</td>\n",
       "      <td>0</td>\n",
       "      <td>1</td>\n",
       "      <td>0</td>\n",
       "      <td>0</td>\n",
       "      <td>0</td>\n",
       "      <td>0</td>\n",
       "      <td>0</td>\n",
       "      <td>1</td>\n",
       "      <td>0</td>\n",
       "    </tr>\n",
       "    <tr>\n",
       "      <th>4</th>\n",
       "      <td>14260</td>\n",
       "      <td>1.0</td>\n",
       "      <td>0.0</td>\n",
       "      <td>2000</td>\n",
       "      <td>2000</td>\n",
       "      <td>1145</td>\n",
       "      <td>1.0</td>\n",
       "      <td>1145</td>\n",
       "      <td>1053</td>\n",
       "      <td>2198</td>\n",
       "      <td>...</td>\n",
       "      <td>0</td>\n",
       "      <td>0</td>\n",
       "      <td>1</td>\n",
       "      <td>0</td>\n",
       "      <td>1</td>\n",
       "      <td>0</td>\n",
       "      <td>0</td>\n",
       "      <td>0</td>\n",
       "      <td>0</td>\n",
       "      <td>0</td>\n",
       "    </tr>\n",
       "  </tbody>\n",
       "</table>\n",
       "<p>5 rows × 69 columns</p>\n",
       "</div>"
      ],
      "text/plain": [
       "   LotArea  Street  LandSlope  YearBuilt  YearRemodAdd  TotalBsmtSF  \\\n",
       "0     8450     1.0        0.0       2003          2003          856   \n",
       "1     9600     1.0        0.0       1976          1976         1262   \n",
       "2    11250     1.0        0.0       2001          2002          920   \n",
       "3     9550     1.0        0.0       1915          1970          756   \n",
       "4    14260     1.0        0.0       2000          2000         1145   \n",
       "\n",
       "   CentralAir  1stFlrSF  2ndFlrSF  GrLivArea  ...  Electrical_FuseP  \\\n",
       "0         1.0       856       854       1710  ...                 0   \n",
       "1         1.0      1262         0       1262  ...                 0   \n",
       "2         1.0       920       866       1786  ...                 0   \n",
       "3         1.0       961       756       1717  ...                 0   \n",
       "4         1.0      1145      1053       2198  ...                 0   \n",
       "\n",
       "   Electrical_Mix  Electrical_SBrkr  GarageType_2Types  GarageType_Attchd  \\\n",
       "0               0                 1                  0                  1   \n",
       "1               0                 1                  0                  1   \n",
       "2               0                 1                  0                  1   \n",
       "3               0                 1                  0                  0   \n",
       "4               0                 1                  0                  1   \n",
       "\n",
       "   GarageType_Basment  GarageType_BuiltIn  GarageType_CarPort  \\\n",
       "0                   0                   0                   0   \n",
       "1                   0                   0                   0   \n",
       "2                   0                   0                   0   \n",
       "3                   0                   0                   0   \n",
       "4                   0                   0                   0   \n",
       "\n",
       "   GarageType_Detchd  GarageType_NoGarage  \n",
       "0                  0                    0  \n",
       "1                  0                    0  \n",
       "2                  0                    0  \n",
       "3                  1                    0  \n",
       "4                  0                    0  \n",
       "\n",
       "[5 rows x 69 columns]"
      ]
     },
     "execution_count": 2,
     "metadata": {},
     "output_type": "execute_result"
    }
   ],
   "source": [
    "df = pd.read_csv('data/house_pricing_features.csv')\n",
    "df.head()"
   ]
  },
  {
   "cell_type": "code",
   "execution_count": 3,
   "metadata": {},
   "outputs": [],
   "source": [
    "# Percentage of garage area\n",
    "df['GaragePercArea'] = df['GarageArea'] / df['LotArea']\n",
    "# Percentage of cars / garage area\n",
    "df['GarageCarsPerc'] = (df['GarageCars'] / df['GarageArea']).fillna(0)\n",
    "# Percentage of ground / total area\n",
    "df['GrLivAreaPerc'] = df['GrLivArea'] / df['LotArea']\n",
    "# Total SF for house\n",
    "df['GrSF'] = df['GrLivArea'] + df['TotalBsmtSF']\n",
    "# Total SF for 1st + 2nd floors\n",
    "df['TotalFlrsSF'] = df['1stFlrSF'] + df['2ndFlrSF']\n",
    "# Total SF for porch\n",
    "df['TotalPorchSF'] = df['OpenPorchSF'] + df['EnclosedPorch']\n",
    "# Total SF for basement + 1st + 2nd floors\n",
    "df['TotalSF'] = df['TotalBsmtSF'] + df['1stFlrSF'] + df['2ndFlrSF']"
   ]
  },
  {
   "cell_type": "code",
   "execution_count": 4,
   "metadata": {},
   "outputs": [],
   "source": [
    "# Polynomial features, because\n",
    "feat1 = ['GrSF', 'TotalFlrsSF', 'GrLivArea', 'GarageCars']\n",
    "for ft in feat1:\n",
    "    df[ft+'_2'] = df[ft] ** 2\n",
    "    df[ft+'_3'] = df[ft] ** 3\n",
    "    df[ft+'_sqrt'] = np.sqrt(df[ft])"
   ]
  },
  {
   "cell_type": "code",
   "execution_count": 5,
   "metadata": {},
   "outputs": [],
   "source": [
    "# Log features because of skewness\n",
    "log_features = ['LotArea', '1stFlrSF','2ndFlrSF','GrLivArea',\n",
    "                'Fireplaces','GarageCars','GarageArea',\n",
    "                'PoolArea','YearRemodAdd','TotalSF']\n",
    "for feat in log_features:\n",
    "    df[feat+'_log'] =  np.log1p(df[feat])"
   ]
  },
  {
   "cell_type": "code",
   "execution_count": null,
   "metadata": {},
   "outputs": [],
   "source": []
  },
  {
   "cell_type": "code",
   "execution_count": null,
   "metadata": {},
   "outputs": [],
   "source": [
    "from sklearn.model_selection import train_test_split, cross_validate, KFold\n",
    "from sklearn.metrics import make_scorer, mean_absolute_error, median_absolute_error, mean_squared_error, r2_score\n",
    "from sklearn.ensemble import RandomForestRegressor"
   ]
  },
  {
   "cell_type": "code",
   "execution_count": null,
   "metadata": {},
   "outputs": [
    {
     "name": "stdout",
     "output_type": "stream",
     "text": [
      "Train MAE: 7490.1\n",
      "Validation MAE: 19767.9\n"
     ]
    }
   ],
   "source": [
    "target_ft = 'SalePrice'\n",
    "test_size = 0.2\n",
    "shuffle = True\n",
    "\n",
    "X = df.drop(target_ft, axis=1)\n",
    "y = df[target_ft]\n",
    "\n",
    "X_train, X_test, y_train, y_test = train_test_split(X, y, test_size=test_size, shuffle=shuffle, random_state=42)\n",
    "main_kfold = KFold(5, shuffle=True, random_state=42)\n",
    "\n",
    "scoring = {\n",
    "    'MAE': make_scorer(mean_absolute_error),\n",
    "    'MedAE': make_scorer(median_absolute_error),\n",
    "    'MSE': make_scorer(mean_squared_error)\n",
    "}\n",
    "\n",
    "rf = RandomForestRegressor(100, max_depth=None, n_jobs=-1, random_state=42)\n",
    "rf_cv = cross_validate(rf, X_train, y_train, cv=main_kfold, scoring=scoring, return_train_score=True, n_jobs=-1)\n",
    "print('Train MAE:', rf_cv['train_MAE'].mean().round(1).round(1))\n",
    "print('Validation MAE:', rf_cv['test_MAE'].mean().round(1).round(1))"
   ]
  },
  {
   "cell_type": "code",
   "execution_count": null,
   "metadata": {},
   "outputs": [
    {
     "data": {
      "text/html": [
       "<div>\n",
       "<style scoped>\n",
       "    .dataframe tbody tr th:only-of-type {\n",
       "        vertical-align: middle;\n",
       "    }\n",
       "\n",
       "    .dataframe tbody tr th {\n",
       "        vertical-align: top;\n",
       "    }\n",
       "\n",
       "    .dataframe thead th {\n",
       "        text-align: right;\n",
       "    }\n",
       "</style>\n",
       "<table border=\"1\" class=\"dataframe\">\n",
       "  <thead>\n",
       "    <tr style=\"text-align: right;\">\n",
       "      <th></th>\n",
       "      <th>feature</th>\n",
       "      <th>importance</th>\n",
       "    </tr>\n",
       "  </thead>\n",
       "  <tbody>\n",
       "    <tr>\n",
       "      <th>97</th>\n",
       "      <td>TotalSF_log</td>\n",
       "      <td>0.274</td>\n",
       "    </tr>\n",
       "    <tr>\n",
       "      <th>75</th>\n",
       "      <td>TotalSF</td>\n",
       "      <td>0.246</td>\n",
       "    </tr>\n",
       "    <tr>\n",
       "      <th>74</th>\n",
       "      <td>YrBltAndRemod</td>\n",
       "      <td>0.057</td>\n",
       "    </tr>\n",
       "    <tr>\n",
       "      <th>3</th>\n",
       "      <td>YearBuilt</td>\n",
       "      <td>0.030</td>\n",
       "    </tr>\n",
       "    <tr>\n",
       "      <th>78</th>\n",
       "      <td>AllSF_sq</td>\n",
       "      <td>0.028</td>\n",
       "    </tr>\n",
       "    <tr>\n",
       "      <th>103</th>\n",
       "      <td>GrSF_sq</td>\n",
       "      <td>0.025</td>\n",
       "    </tr>\n",
       "    <tr>\n",
       "      <th>71</th>\n",
       "      <td>AllSF</td>\n",
       "      <td>0.022</td>\n",
       "    </tr>\n",
       "    <tr>\n",
       "      <th>76</th>\n",
       "      <td>AllSF_2</td>\n",
       "      <td>0.022</td>\n",
       "    </tr>\n",
       "    <tr>\n",
       "      <th>98</th>\n",
       "      <td>GrSF</td>\n",
       "      <td>0.016</td>\n",
       "    </tr>\n",
       "    <tr>\n",
       "      <th>96</th>\n",
       "      <td>YearRemodAdd_log</td>\n",
       "      <td>0.016</td>\n",
       "    </tr>\n",
       "  </tbody>\n",
       "</table>\n",
       "</div>"
      ],
      "text/plain": [
       "              feature  importance\n",
       "97        TotalSF_log       0.274\n",
       "75            TotalSF       0.246\n",
       "74      YrBltAndRemod       0.057\n",
       "3           YearBuilt       0.030\n",
       "78           AllSF_sq       0.028\n",
       "103           GrSF_sq       0.025\n",
       "71              AllSF       0.022\n",
       "76            AllSF_2       0.022\n",
       "98               GrSF       0.016\n",
       "96   YearRemodAdd_log       0.016"
      ]
     },
     "metadata": {},
     "output_type": "display_data"
    }
   ],
   "source": [
    "rf.fit(X_train, y_train)\n",
    "\n",
    "rf_ft_imps = pd.DataFrame({\n",
    "    'feature': X_train.columns,\n",
    "    'importance': rf.feature_importances_\n",
    "}).sort_values('importance', ascending=False).round(3)\n",
    "\n",
    "rf_ft_imps.head(10)"
   ]
  },
  {
   "cell_type": "markdown",
   "metadata": {},
   "source": [
    "# Train / test split\n",
    "Keep test split totally isolated from cross-validation."
   ]
  },
  {
   "cell_type": "code",
   "execution_count": 9,
   "metadata": {},
   "outputs": [],
   "source": [
    "target_ft = 'SalePrice'\n",
    "X = df.drop(target_ft, axis=1)\n",
    "y = df[target_ft]\n",
    "\n",
    "X_train, X_test, y_train, y_test = train_test_split(X, y, test_size=0.2, shuffle=True, random_state=42)"
   ]
  },
  {
   "cell_type": "markdown",
   "metadata": {},
   "source": [
    "# Cross-validation"
   ]
  },
  {
   "cell_type": "code",
   "execution_count": 10,
   "metadata": {},
   "outputs": [],
   "source": [
    "main_kfold = KFold(5, shuffle=True, random_state=42)\n",
    "\n",
    "scoring = {\n",
    "    'MAE': make_scorer(mean_absolute_error),\n",
    "    'MedAE': make_scorer(median_absolute_error),\n",
    "    'MSE': make_scorer(mean_squared_error)\n",
    "}"
   ]
  },
  {
   "cell_type": "markdown",
   "metadata": {},
   "source": [
    "# Models"
   ]
  },
  {
   "cell_type": "markdown",
   "metadata": {},
   "source": [
    "## Ridge"
   ]
  },
  {
   "cell_type": "code",
   "execution_count": 13,
   "metadata": {},
   "outputs": [
    {
     "name": "stdout",
     "output_type": "stream",
     "text": [
      "Best:\n",
      "{'scaler': RobustScaler(), 'ridge__solver': 'svd', 'ridge__alpha': 10.0}\n",
      "21852.2\n"
     ]
    }
   ],
   "source": [
    "ridge_pipe = Pipeline([\n",
    "    ('scaler', None),\n",
    "    ('ridge', Ridge())\n",
    "])\n",
    "\n",
    "params = {\n",
    "    'scaler': [MinMaxScaler(), RobustScaler(), StandardScaler()],\n",
    "    'ridge__alpha': [0.1, 1.0, 10.0, 100.0],\n",
    "    'ridge__solver': ['auto', 'svd', 'cholesky', 'lsqr', 'sparse_cg', 'sag', 'saga'],\n",
    "}\n",
    "\n",
    "ridge = RandomizedSearchCV(ridge_pipe,\n",
    "                           n_iter=50,\n",
    "                           param_distributions=params,\n",
    "                           scoring=scoring,\n",
    "                           cv=main_kfold,\n",
    "                           refit=lambda x: x[\"mean_test_MAE\"].argmin(),\n",
    "                           return_train_score=True,\n",
    "                           n_jobs=-1)\n",
    "\n",
    "ridge.fit(X_train, y_train)\n",
    "\n",
    "print('Best:')\n",
    "print(ridge.best_params_)\n",
    "print(ridge.cv_results_['mean_test_MAE'].min().round(1))"
   ]
  },
  {
   "cell_type": "code",
   "execution_count": 36,
   "metadata": {},
   "outputs": [
    {
     "name": "stdout",
     "output_type": "stream",
     "text": [
      "17259.7\n"
     ]
    }
   ],
   "source": [
    "ridge_pipe = Pipeline([\n",
    "    ('scaler', None),\n",
    "    ('ridge', Ridge(solver='svd', alpha=10))\n",
    "])\n",
    "ridge_trans = TransformedTargetRegressor(regressor=ridge_pipe,\n",
    "                                         func=np.log1p,\n",
    "                                         inverse_func=np.expm1)\n",
    "ridge_cv = cross_validate(ridge_trans, X_train, y_train, cv=main_kfold,\n",
    "                          scoring=scoring, return_train_score=True, n_jobs=-1)\n",
    "\n",
    "print(ridge_cv['test_MAE'].min().round(1))"
   ]
  },
  {
   "cell_type": "markdown",
   "metadata": {},
   "source": [
    "## ElasticNet"
   ]
  },
  {
   "cell_type": "code",
   "execution_count": 41,
   "metadata": {},
   "outputs": [
    {
     "name": "stderr",
     "output_type": "stream",
     "text": [
      "/home/ibci/.local/lib/python3.10/site-packages/sklearn/model_selection/_search.py:306: UserWarning: The total space of parameters 27 is smaller than n_iter=50. Running 27 iterations. For exhaustive searches, use GridSearchCV.\n",
      "  warnings.warn(\n"
     ]
    },
    {
     "name": "stdout",
     "output_type": "stream",
     "text": [
      "Best:\n",
      "{'scaler': RobustScaler(), 'en__l1_ratio': 0.8, 'en__alpha': 0.1}\n",
      "21722.5\n"
     ]
    }
   ],
   "source": [
    "en_pipe = Pipeline([\n",
    "    ('scaler', None),\n",
    "    ('en', ElasticNet(max_iter=100_000))\n",
    "])\n",
    "\n",
    "params = {\n",
    "    'scaler': [MinMaxScaler(), RobustScaler(), StandardScaler()],\n",
    "    'en__alpha': [0.1, 1, 10],\n",
    "    'en__l1_ratio': [0.2, 0.5, 0.8],\n",
    "}\n",
    "\n",
    "en = RandomizedSearchCV(en_pipe,\n",
    "                           n_iter=50,\n",
    "                           param_distributions=params,\n",
    "                           scoring=scoring,\n",
    "                           cv=main_kfold,\n",
    "                           refit=lambda x: x[\"mean_test_MAE\"].argmin(),\n",
    "                           return_train_score=True,\n",
    "                           n_jobs=-1)\n",
    "\n",
    "en.fit(X_train, y_train)\n",
    "\n",
    "print('Best:')\n",
    "print(en.best_params_)\n",
    "print(en.cv_results_['mean_test_MAE'].min().round(1))"
   ]
  },
  {
   "cell_type": "code",
   "execution_count": 44,
   "metadata": {},
   "outputs": [
    {
     "name": "stdout",
     "output_type": "stream",
     "text": [
      "19808.0\n"
     ]
    },
    {
     "name": "stderr",
     "output_type": "stream",
     "text": [
      "/home/ibci/.local/lib/python3.10/site-packages/sklearn/linear_model/_coordinate_descent.py:648: ConvergenceWarning: Objective did not converge. You might want to increase the number of iterations, check the scale of the features or consider increasing regularisation. Duality gap: 1.298e+01, tolerance: 1.458e-02\n",
      "  model = cd_fast.enet_coordinate_descent(\n"
     ]
    }
   ],
   "source": [
    "en_pipe = Pipeline([\n",
    "    ('scaler', None),\n",
    "    ('en', ElasticNet(l1_ratio=0.8, alpha=0.1, max_iter=300_000))\n",
    "])\n",
    "en_trans = TransformedTargetRegressor(regressor=en_pipe,\n",
    "                                         func=np.log1p,\n",
    "                                         inverse_func=np.expm1)\n",
    "en_cv = cross_validate(en_trans, X_train, y_train, cv=main_kfold,\n",
    "                          scoring=scoring, return_train_score=True, n_jobs=-1)\n",
    "\n",
    "print(en_cv['test_MAE'].min().round(1))"
   ]
  },
  {
   "cell_type": "markdown",
   "metadata": {},
   "source": [
    "## RF"
   ]
  },
  {
   "cell_type": "code",
   "execution_count": 26,
   "metadata": {},
   "outputs": [
    {
     "name": "stdout",
     "output_type": "stream",
     "text": [
      "Best:\n",
      "{'n_estimators': 100, 'min_weight_fraction_leaf': 0.0, 'min_samples_split': 2, 'min_samples_leaf': 2, 'max_samples': None, 'max_leaf_nodes': None, 'max_features': 0.5, 'max_depth': 20, 'criterion': 'friedman_mse'}\n",
      "20075.8\n"
     ]
    }
   ],
   "source": [
    "rf = RandomForestRegressor(n_jobs=-1, random_state=42)\n",
    "\n",
    "params = {\n",
    "    'n_estimators': [100, 200, 300],\n",
    "    'criterion': ['friedman_mse', 'squared_error', 'absolute_error'],\n",
    "    'min_samples_split': [2, 5, 10, 20],\n",
    "    'min_samples_leaf': [1, 2, 4, 6],\n",
    "    'max_depth': [3, 4, 5, 6, 8, 10, 20],\n",
    "    'max_features': [None, 'sqrt', 'log2', 0.5, 0.7, 0.9],\n",
    "    'max_samples': [None, 0.5, 0.7, 0.9],\n",
    "    'max_leaf_nodes': [None, 5, 10, 20],\n",
    "    'min_weight_fraction_leaf': np.arange(0, 0.51, 0.1),\n",
    "}\n",
    "\n",
    "rf = RandomizedSearchCV(rf,\n",
    "                        n_iter=50,\n",
    "                        param_distributions=params,\n",
    "                        scoring=scoring,\n",
    "                        cv=main_kfold,\n",
    "                        refit=lambda x: x[\"mean_test_MAE\"].argmin(),\n",
    "                        return_train_score=True,\n",
    "                        n_jobs=-1)\n",
    "\n",
    "rf.fit(X_train, y_train)\n",
    "\n",
    "print('Best:')\n",
    "print(rf.best_params_)\n",
    "print(rf.cv_results_['mean_test_MAE'].min().round(1))"
   ]
  },
  {
   "cell_type": "code",
   "execution_count": 45,
   "metadata": {},
   "outputs": [
    {
     "name": "stdout",
     "output_type": "stream",
     "text": [
      "18392.6\n"
     ]
    }
   ],
   "source": [
    "rf_trans = TransformedTargetRegressor(regressor=rf.best_estimator_,\n",
    "                                      func=np.log1p,\n",
    "                                      inverse_func=np.expm1)\n",
    "rf_cv = cross_validate(rf_trans, X_train, y_train, cv=main_kfold,\n",
    "                       scoring=scoring, return_train_score=True, n_jobs=-1)\n",
    "\n",
    "print(rf_cv['test_MAE'].min().round(1))"
   ]
  },
  {
   "cell_type": "code",
   "execution_count": 66,
   "metadata": {},
   "outputs": [
    {
     "data": {
      "text/html": [
       "<div>\n",
       "<style scoped>\n",
       "    .dataframe tbody tr th:only-of-type {\n",
       "        vertical-align: middle;\n",
       "    }\n",
       "\n",
       "    .dataframe tbody tr th {\n",
       "        vertical-align: top;\n",
       "    }\n",
       "\n",
       "    .dataframe thead th {\n",
       "        text-align: right;\n",
       "    }\n",
       "</style>\n",
       "<table border=\"1\" class=\"dataframe\">\n",
       "  <thead>\n",
       "    <tr style=\"text-align: right;\">\n",
       "      <th></th>\n",
       "      <th>feature</th>\n",
       "      <th>importance</th>\n",
       "    </tr>\n",
       "  </thead>\n",
       "  <tbody>\n",
       "    <tr>\n",
       "      <th>74</th>\n",
       "      <td>TotalSF</td>\n",
       "      <td>0.215</td>\n",
       "    </tr>\n",
       "    <tr>\n",
       "      <th>96</th>\n",
       "      <td>TotalSF_log</td>\n",
       "      <td>0.198</td>\n",
       "    </tr>\n",
       "    <tr>\n",
       "      <th>76</th>\n",
       "      <td>GrSF_3</td>\n",
       "      <td>0.094</td>\n",
       "    </tr>\n",
       "    <tr>\n",
       "      <th>77</th>\n",
       "      <td>GrSF_sqrt</td>\n",
       "      <td>0.065</td>\n",
       "    </tr>\n",
       "    <tr>\n",
       "      <th>71</th>\n",
       "      <td>GrSF</td>\n",
       "      <td>0.063</td>\n",
       "    </tr>\n",
       "    <tr>\n",
       "      <th>75</th>\n",
       "      <td>GrSF_2</td>\n",
       "      <td>0.050</td>\n",
       "    </tr>\n",
       "    <tr>\n",
       "      <th>3</th>\n",
       "      <td>YearBuilt</td>\n",
       "      <td>0.046</td>\n",
       "    </tr>\n",
       "    <tr>\n",
       "      <th>95</th>\n",
       "      <td>YearRemodAdd_log</td>\n",
       "      <td>0.023</td>\n",
       "    </tr>\n",
       "    <tr>\n",
       "      <th>4</th>\n",
       "      <td>YearRemodAdd</td>\n",
       "      <td>0.022</td>\n",
       "    </tr>\n",
       "    <tr>\n",
       "      <th>16</th>\n",
       "      <td>GarageYrBlt</td>\n",
       "      <td>0.021</td>\n",
       "    </tr>\n",
       "  </tbody>\n",
       "</table>\n",
       "</div>"
      ],
      "text/plain": [
       "             feature  importance\n",
       "74           TotalSF       0.215\n",
       "96       TotalSF_log       0.198\n",
       "76            GrSF_3       0.094\n",
       "77         GrSF_sqrt       0.065\n",
       "71              GrSF       0.063\n",
       "75            GrSF_2       0.050\n",
       "3          YearBuilt       0.046\n",
       "95  YearRemodAdd_log       0.023\n",
       "4       YearRemodAdd       0.022\n",
       "16       GarageYrBlt       0.021"
      ]
     },
     "execution_count": 66,
     "metadata": {},
     "output_type": "execute_result"
    }
   ],
   "source": [
    "rf_trans.fit(X_train, y_train)\n",
    "\n",
    "rf_ft_imps = pd.DataFrame({\n",
    "    'feature': X_train.columns,\n",
    "    'importance': rf_trans.regressor.feature_importances_\n",
    "}).sort_values('importance', ascending=False).round(3)\n",
    "\n",
    "rf_ft_imps.head(10)"
   ]
  },
  {
   "cell_type": "markdown",
   "metadata": {},
   "source": [
    "## GB"
   ]
  },
  {
   "cell_type": "code",
   "execution_count": 56,
   "metadata": {},
   "outputs": [
    {
     "name": "stdout",
     "output_type": "stream",
     "text": [
      "Best:\n",
      "{'warm_start': True, 'validation_fraction': 0.2, 'tol': 0.0001, 'subsample': 1.0, 'n_iter_no_change': None, 'n_estimators': 1000, 'min_weight_fraction_leaf': 0.0, 'min_samples_split': 5, 'min_samples_leaf': 2, 'min_impurity_decrease': 0.01, 'max_leaf_nodes': 20, 'max_features': 'log2', 'max_depth': 20, 'loss': 'huber', 'learning_rate': 0.01, 'criterion': 'squared_error', 'alpha': 0.95}\n",
      "17821.8\n"
     ]
    }
   ],
   "source": [
    "gb = GradientBoostingRegressor(random_state=42)\n",
    "\n",
    "params = {\n",
    "    'loss': ['quantile', 'squared_error', 'absolute_error', 'huber'],\n",
    "    'learning_rate': np.logspace(-3, 0, 10),\n",
    "    'n_estimators': [20, 50, 100, 200, 300, 500, 1000],\n",
    "    'subsample': [0.5, 0.7, 0.9, 1.0],\n",
    "    'criterion': ['friedman_mse', 'squared_error'],\n",
    "    'min_samples_split': [2, 5, 10, 20],\n",
    "    'min_samples_leaf': [1, 2, 4, 6],\n",
    "    'min_weight_fraction_leaf': [0.0, 0.1, 0.2, 0.3],\n",
    "    'max_depth': [3, 4, 5, 6, 8, 10, 20],\n",
    "    'min_impurity_decrease': [0.0, 0.01, 0.1],\n",
    "    'max_features': [None, 'sqrt', 'log2', 0.5, 0.7],\n",
    "    'alpha': [0.9, 0.95, 0.99],\n",
    "    'max_leaf_nodes': [None, 5, 10, 20],\n",
    "    'warm_start': [True, False],\n",
    "    'validation_fraction': [0.1, 0.2],\n",
    "    'n_iter_no_change': [None, 5, 10],\n",
    "    'tol': [1e-4, 1e-3, 1e-2]\n",
    "}\n",
    "\n",
    "gb = RandomizedSearchCV(gb,\n",
    "                        n_iter=50,\n",
    "                        param_distributions=params,\n",
    "                        scoring=scoring,\n",
    "                        cv=main_kfold,\n",
    "                        refit=lambda x: x[\"mean_test_MAE\"].argmin(),\n",
    "                        return_train_score=True,\n",
    "                        n_jobs=-1)\n",
    "\n",
    "gb.fit(X_train, y_train)\n",
    "\n",
    "print('Best:')\n",
    "print(gb.best_params_)\n",
    "print(gb.cv_results_['mean_test_MAE'].min().round(1))"
   ]
  },
  {
   "cell_type": "code",
   "execution_count": 57,
   "metadata": {},
   "outputs": [
    {
     "name": "stdout",
     "output_type": "stream",
     "text": [
      "29449.6\n"
     ]
    }
   ],
   "source": [
    "gb_trans = TransformedTargetRegressor(regressor=gb.best_estimator_,\n",
    "                                      func=np.log1p,\n",
    "                                      inverse_func=np.expm1)\n",
    "gb_cv = cross_validate(gb_trans, X_train, y_train, cv=main_kfold,\n",
    "                       scoring=scoring, return_train_score=True, n_jobs=-1)\n",
    "\n",
    "print(gb_cv['test_MAE'].min().round(1))"
   ]
  },
  {
   "cell_type": "markdown",
   "metadata": {},
   "source": [
    "## LGBM"
   ]
  },
  {
   "cell_type": "code",
   "execution_count": 59,
   "metadata": {},
   "outputs": [],
   "source": [
    "from lightgbm import LGBMRegressor"
   ]
  },
  {
   "cell_type": "code",
   "execution_count": 61,
   "metadata": {},
   "outputs": [
    {
     "name": "stdout",
     "output_type": "stream",
     "text": [
      "Best:\n",
      "{'subsample': 1, 'n_estimators': 200, 'min_child_samples': 1, 'max_depth': 3, 'learning_rate': 0.1, 'colsample_bytree': 1}\n",
      "18785.4\n"
     ]
    }
   ],
   "source": [
    "lb_gbdt = LGBMRegressor(n_jobs=-1)\n",
    "\n",
    "params = {\n",
    "    'n_estimators': [50, 100, 200, 300, 600, 1000],\n",
    "    'max_depth': [3, 5, 10, None],\n",
    "    'min_child_samples': [1, 5, 10, 50],\n",
    "    'learning_rate': [0.001, 0.01, 0.1, 1],\n",
    "    'subsample': [0.6, 0.8, 1],\n",
    "    'colsample_bytree': [0.6, 0.8, 1],\n",
    "}\n",
    "\n",
    "lg_gb = RandomizedSearchCV(lb_gbdt,\n",
    "                        n_iter=50,\n",
    "                        param_distributions=params,\n",
    "                        scoring=scoring,\n",
    "                        cv=main_kfold,\n",
    "                        refit=lambda x: x[\"mean_test_MAE\"].argmin(),\n",
    "                        return_train_score=True,\n",
    "                        n_jobs=-1)\n",
    "\n",
    "lg_gb.fit(X_train, y_train)\n",
    "\n",
    "print('Best:')\n",
    "print(lg_gb.best_params_)\n",
    "print(lg_gb.cv_results_['mean_test_MAE'].min().round(1))"
   ]
  },
  {
   "cell_type": "code",
   "execution_count": 62,
   "metadata": {},
   "outputs": [
    {
     "name": "stdout",
     "output_type": "stream",
     "text": [
      "17326.9\n"
     ]
    }
   ],
   "source": [
    "lg_gb_trans = TransformedTargetRegressor(regressor=lg_gb.best_estimator_,\n",
    "                                      func=np.log1p,\n",
    "                                      inverse_func=np.expm1)\n",
    "lg_gb_cv = cross_validate(lg_gb_trans, X_train, y_train, cv=main_kfold,\n",
    "                       scoring=scoring, return_train_score=True, n_jobs=-1)\n",
    "\n",
    "print(lg_gb_cv['test_MAE'].min().round(1))"
   ]
  },
  {
   "cell_type": "markdown",
   "metadata": {},
   "source": [
    "## XGBoost"
   ]
  },
  {
   "cell_type": "code",
   "execution_count": 68,
   "metadata": {},
   "outputs": [],
   "source": [
    "from xgboost import XGBRegressor"
   ]
  },
  {
   "cell_type": "code",
   "execution_count": 73,
   "metadata": {},
   "outputs": [
    {
     "name": "stdout",
     "output_type": "stream",
     "text": [
      "Best:\n",
      "{'subsample': 0.7, 'n_estimators': 1000, 'max_depth': 6, 'learning_rate': 0.01, 'colsample_bytree': 0.7}\n",
      "18277.5\n"
     ]
    }
   ],
   "source": [
    "xgb = XGBRegressor(n_jobs=-1)\n",
    "\n",
    "params = {\n",
    "    'n_estimators': [50, 100, 500, 1000],\n",
    "    'learning_rate': [0.01, 0.1, 0.5],\n",
    "    'max_depth': [3, 6, 9],\n",
    "    'colsample_bytree': [0.3, 0.7, 1.0],\n",
    "    'subsample': [0.5, 0.7, 1.0],\n",
    "}\n",
    "\n",
    "xgb = RandomizedSearchCV(xgb,\n",
    "                        n_iter=50,\n",
    "                        param_distributions=params,\n",
    "                        scoring=scoring,\n",
    "                        cv=main_kfold,\n",
    "                        refit=lambda x: x[\"mean_test_MAE\"].argmin(),\n",
    "                        return_train_score=True,\n",
    "                        n_jobs=-1)\n",
    "\n",
    "xgb.fit(X_train, y_train)\n",
    "\n",
    "print('Best:')\n",
    "print(xgb.best_params_)\n",
    "print(xgb.cv_results_['mean_test_MAE'].min().round(1))"
   ]
  },
  {
   "cell_type": "code",
   "execution_count": 74,
   "metadata": {},
   "outputs": [
    {
     "name": "stdout",
     "output_type": "stream",
     "text": [
      "16221.2\n"
     ]
    }
   ],
   "source": [
    "xgb_trans = TransformedTargetRegressor(regressor=xgb.best_estimator_,\n",
    "                                      func=np.log1p,\n",
    "                                      inverse_func=np.expm1)\n",
    "xgb_cv = cross_validate(xgb_trans, X_train, y_train, cv=main_kfold,\n",
    "                       scoring=scoring, return_train_score=True, n_jobs=-1)\n",
    "\n",
    "print(xgb_cv['test_MAE'].min().round(1))"
   ]
  },
  {
   "cell_type": "markdown",
   "metadata": {},
   "source": [
    "## Stacking"
   ]
  },
  {
   "cell_type": "code",
   "execution_count": 80,
   "metadata": {},
   "outputs": [],
   "source": [
    "from sklearn.ensemble import StackingRegressor"
   ]
  },
  {
   "cell_type": "code",
   "execution_count": 100,
   "metadata": {},
   "outputs": [
    {
     "name": "stdout",
     "output_type": "stream",
     "text": [
      "16431.2\n"
     ]
    }
   ],
   "source": [
    "model_stack = [\n",
    "    ('ridge', ridge_trans),\n",
    "    ('rf', rf_trans),\n",
    "    ('gb', gb.best_estimator_),\n",
    "    ('lg_gb', lg_gb_trans),\n",
    "    ('xgb', xgb_trans),\n",
    "]\n",
    "\n",
    "stck = StackingRegressor(model_stack, final_estimator=LinearRegression())\n",
    "stck_cv = cross_validate(stck, X_train, y_train, cv=main_kfold,\n",
    "                       scoring=scoring, return_train_score=True, n_jobs=-1)\n",
    "\n",
    "print(stck_cv['test_MAE'].min().round(1))"
   ]
  },
  {
   "cell_type": "code",
   "execution_count": 101,
   "metadata": {},
   "outputs": [
    {
     "name": "stdout",
     "output_type": "stream",
     "text": [
      "16150.9\n"
     ]
    }
   ],
   "source": [
    "stck_trans = TransformedTargetRegressor(regressor=stck,\n",
    "                                      func=np.log1p,\n",
    "                                      inverse_func=np.expm1)\n",
    "stck_cv = cross_validate(stck_trans, X_train, y_train, cv=main_kfold,\n",
    "                       scoring=scoring, return_train_score=True, n_jobs=-1)\n",
    "\n",
    "print(stck_cv['test_MAE'].min().round(1))"
   ]
  },
  {
   "cell_type": "markdown",
   "metadata": {},
   "source": [
    "## Blending"
   ]
  },
  {
   "cell_type": "code",
   "execution_count": 112,
   "metadata": {},
   "outputs": [
    {
     "name": "stdout",
     "output_type": "stream",
     "text": [
      "Test MAE: 17118.7\n",
      "Test MedAE: 9289.4\n"
     ]
    }
   ],
   "source": [
    "models = [\n",
    "    ('ridge', 0.1, ridge_trans),\n",
    "    ('gb', 0.15, gb.best_estimator_),\n",
    "    ('lg_gb', 0.15, lg_gb_trans),\n",
    "    ('xgb', 0.3, xgb_trans),\n",
    "    ('stack', 0.3, stck_trans)\n",
    "]\n",
    "\n",
    "preds = 0\n",
    "for name, pct, model in models:\n",
    "    model.fit(X_train, y_train)\n",
    "    preds += pct * model.predict(X_test)\n",
    "\n",
    "print('Test MAE:', mean_absolute_error(y_test, preds).round(1))\n",
    "print('Test MedAE:', median_absolute_error(y_test, preds).round(1))"
   ]
  },
  {
   "cell_type": "code",
   "execution_count": 111,
   "metadata": {},
   "outputs": [
    {
     "data": {
      "image/png": "[encoded data removed]",
      "text/plain": [
       "<Figure size 640x480 with 1 Axes>"
      ]
     },
     "metadata": {},
     "output_type": "display_data"
    }
   ],
   "source": [
    "plt.boxplot(abs(y_test - preds))\n",
    "plt.yscale('log')\n",
    "plt.show()"
   ]
  },
  {
   "cell_type": "markdown",
   "metadata": {},
   "source": [
    "# Test"
   ]
  },
  {
   "cell_type": "code",
   "execution_count": 114,
   "metadata": {},
   "outputs": [
    {
     "name": "stdout",
     "output_type": "stream",
     "text": [
      "ridge\n",
      "Test MAE: 19754.7\n",
      "Test MedAE: 11591.8\n",
      "\n",
      "rf\n",
      "Test MAE: 20386.4\n",
      "Test MedAE: 11603.5\n",
      "\n",
      "gb\n",
      "Test MAE: 17817.0\n",
      "Test MedAE: 9637.3\n",
      "\n",
      "lg_gb\n",
      "Test MAE: 17820.1\n",
      "Test MedAE: 10509.1\n",
      "\n",
      "xgb\n",
      "Test MAE: 17280.3\n",
      "Test MedAE: 9938.2\n",
      "\n",
      "stack\n",
      "Test MAE: 17192.7\n",
      "Test MedAE: 10078.1\n",
      "\n"
     ]
    }
   ],
   "source": [
    "models = [\n",
    "    ('ridge', ridge_trans),\n",
    "    ('rf', rf_trans),\n",
    "    ('gb', gb.best_estimator_),\n",
    "    ('lg_gb', lg_gb_trans),\n",
    "    ('xgb', xgb_trans),\n",
    "    ('stack', stck_trans)\n",
    "]\n",
    "\n",
    "for name, model in models:\n",
    "    model.fit(X_train, y_train)\n",
    "    y_pred = model.predict(X_test)\n",
    "    print(name)\n",
    "    print('Test MAE:', mean_absolute_error(y_test, y_pred).round(1))\n",
    "    print('Test MedAE:', median_absolute_error(y_test, y_pred).round(1))\n",
    "    print()"
   ]
  }
 ],
 "metadata": {
  "kernelspec": {
   "display_name": "Python 3",
   "language": "python",
   "name": "python3"
  },
  "language_info": {
   "codemirror_mode": {
    "name": "ipython",
    "version": 3
   },
   "file_extension": ".py",
   "mimetype": "text/x-python",
   "name": "python",
   "nbconvert_exporter": "python",
   "pygments_lexer": "ipython3",
   "version": "3.10.12"
  }
 },
 "nbformat": 4,
 "nbformat_minor": 2
}
