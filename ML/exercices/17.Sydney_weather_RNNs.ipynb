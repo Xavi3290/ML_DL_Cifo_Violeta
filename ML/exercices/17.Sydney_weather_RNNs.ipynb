{
 "cells": [
  {
   "attachments": {},
   "cell_type": "markdown",
   "id": "b5318819",
   "metadata": {},
   "source": [
    "# Libraries"
   ]
  },
  {
   "cell_type": "code",
   "execution_count": 1,
   "id": "598f87e1",
   "metadata": {},
   "outputs": [
    {
     "name": "stdout",
     "output_type": "stream",
     "text": [
      "WARNING:tensorflow:From c:\\Users\\Alumne_mati1\\anaconda3\\Lib\\site-packages\\keras\\src\\losses.py:2976: The name tf.losses.sparse_softmax_cross_entropy is deprecated. Please use tf.compat.v1.losses.sparse_softmax_cross_entropy instead.\n",
      "\n"
     ]
    }
   ],
   "source": [
    "import pandas as pd\n",
    "import numpy as np\n",
    "\n",
    "from sklearn.model_selection import train_test_split\n",
    "\n",
    "from tensorflow.keras.models import Sequential\n",
    "from tensorflow.keras.layers import Input, Normalization, Dense, SimpleRNN, LSTM, GRU\n",
    "from tensorflow.keras.optimizers import Adam\n",
    "from tensorflow.keras.callbacks import EarlyStopping"
   ]
  },
  {
   "attachments": {},
   "cell_type": "markdown",
   "id": "317495b5",
   "metadata": {},
   "source": [
    "# Load data"
   ]
  },
  {
   "cell_type": "code",
   "execution_count": 2,
   "id": "eb3200af",
   "metadata": {},
   "outputs": [
    {
     "data": {
      "text/html": [
       "<div>\n",
       "<style scoped>\n",
       "    .dataframe tbody tr th:only-of-type {\n",
       "        vertical-align: middle;\n",
       "    }\n",
       "\n",
       "    .dataframe tbody tr th {\n",
       "        vertical-align: top;\n",
       "    }\n",
       "\n",
       "    .dataframe thead th {\n",
       "        text-align: right;\n",
       "    }\n",
       "</style>\n",
       "<table border=\"1\" class=\"dataframe\">\n",
       "  <thead>\n",
       "    <tr style=\"text-align: right;\">\n",
       "      <th></th>\n",
       "      <th>Date</th>\n",
       "      <th>MedTemp</th>\n",
       "    </tr>\n",
       "  </thead>\n",
       "  <tbody>\n",
       "    <tr>\n",
       "      <th>0</th>\n",
       "      <td>2008-02-01</td>\n",
       "      <td>20.95</td>\n",
       "    </tr>\n",
       "    <tr>\n",
       "      <th>1</th>\n",
       "      <td>2008-02-02</td>\n",
       "      <td>22.55</td>\n",
       "    </tr>\n",
       "    <tr>\n",
       "      <th>2</th>\n",
       "      <td>2008-02-03</td>\n",
       "      <td>23.05</td>\n",
       "    </tr>\n",
       "    <tr>\n",
       "      <th>3</th>\n",
       "      <td>2008-02-04</td>\n",
       "      <td>21.50</td>\n",
       "    </tr>\n",
       "    <tr>\n",
       "      <th>4</th>\n",
       "      <td>2008-02-05</td>\n",
       "      <td>22.70</td>\n",
       "    </tr>\n",
       "    <tr>\n",
       "      <th>...</th>\n",
       "      <td>...</td>\n",
       "      <td>...</td>\n",
       "    </tr>\n",
       "    <tr>\n",
       "      <th>3339</th>\n",
       "      <td>2017-06-21</td>\n",
       "      <td>14.10</td>\n",
       "    </tr>\n",
       "    <tr>\n",
       "      <th>3340</th>\n",
       "      <td>2017-06-22</td>\n",
       "      <td>14.25</td>\n",
       "    </tr>\n",
       "    <tr>\n",
       "      <th>3341</th>\n",
       "      <td>2017-06-23</td>\n",
       "      <td>13.55</td>\n",
       "    </tr>\n",
       "    <tr>\n",
       "      <th>3342</th>\n",
       "      <td>2017-06-24</td>\n",
       "      <td>14.70</td>\n",
       "    </tr>\n",
       "    <tr>\n",
       "      <th>3343</th>\n",
       "      <td>2017-06-25</td>\n",
       "      <td>13.45</td>\n",
       "    </tr>\n",
       "  </tbody>\n",
       "</table>\n",
       "<p>3344 rows × 2 columns</p>\n",
       "</div>"
      ],
      "text/plain": [
       "           Date  MedTemp\n",
       "0    2008-02-01    20.95\n",
       "1    2008-02-02    22.55\n",
       "2    2008-02-03    23.05\n",
       "3    2008-02-04    21.50\n",
       "4    2008-02-05    22.70\n",
       "...         ...      ...\n",
       "3339 2017-06-21    14.10\n",
       "3340 2017-06-22    14.25\n",
       "3341 2017-06-23    13.55\n",
       "3342 2017-06-24    14.70\n",
       "3343 2017-06-25    13.45\n",
       "\n",
       "[3344 rows x 2 columns]"
      ]
     },
     "execution_count": 2,
     "metadata": {},
     "output_type": "execute_result"
    }
   ],
   "source": [
    "# Read in the weather data csv\n",
    "df = pd.read_csv('data/sydney_weather.csv', parse_dates=['Date'])\n",
    "# For simplicity, keep necessary columns only\n",
    "df = df[['Date', 'MedTemp']]\n",
    "df"
   ]
  },
  {
   "attachments": {},
   "cell_type": "markdown",
   "id": "9bf759cb",
   "metadata": {},
   "source": [
    "## Date and time features"
   ]
  },
  {
   "attachments": {},
   "cell_type": "markdown",
   "id": "34e1550e",
   "metadata": {},
   "source": [
    "Add date and time features (columns) such as year, month, day, season, day of the week, etc.\n",
    "\n",
    "Example:"
   ]
  },
  {
   "cell_type": "code",
   "execution_count": 3,
   "id": "eeccf737",
   "metadata": {},
   "outputs": [
    {
     "data": {
      "text/html": [
       "<div>\n",
       "<style scoped>\n",
       "    .dataframe tbody tr th:only-of-type {\n",
       "        vertical-align: middle;\n",
       "    }\n",
       "\n",
       "    .dataframe tbody tr th {\n",
       "        vertical-align: top;\n",
       "    }\n",
       "\n",
       "    .dataframe thead th {\n",
       "        text-align: right;\n",
       "    }\n",
       "</style>\n",
       "<table border=\"1\" class=\"dataframe\">\n",
       "  <thead>\n",
       "    <tr style=\"text-align: right;\">\n",
       "      <th></th>\n",
       "      <th>Date</th>\n",
       "      <th>MedTemp</th>\n",
       "      <th>Day_of_week</th>\n",
       "      <th>Month</th>\n",
       "      <th>Season</th>\n",
       "    </tr>\n",
       "  </thead>\n",
       "  <tbody>\n",
       "    <tr>\n",
       "      <th>0</th>\n",
       "      <td>2008-02-01</td>\n",
       "      <td>20.95</td>\n",
       "      <td>4</td>\n",
       "      <td>2</td>\n",
       "      <td>1</td>\n",
       "    </tr>\n",
       "    <tr>\n",
       "      <th>1</th>\n",
       "      <td>2008-02-02</td>\n",
       "      <td>22.55</td>\n",
       "      <td>5</td>\n",
       "      <td>2</td>\n",
       "      <td>1</td>\n",
       "    </tr>\n",
       "    <tr>\n",
       "      <th>2</th>\n",
       "      <td>2008-02-03</td>\n",
       "      <td>23.05</td>\n",
       "      <td>6</td>\n",
       "      <td>2</td>\n",
       "      <td>1</td>\n",
       "    </tr>\n",
       "    <tr>\n",
       "      <th>3</th>\n",
       "      <td>2008-02-04</td>\n",
       "      <td>21.50</td>\n",
       "      <td>0</td>\n",
       "      <td>2</td>\n",
       "      <td>1</td>\n",
       "    </tr>\n",
       "    <tr>\n",
       "      <th>4</th>\n",
       "      <td>2008-02-05</td>\n",
       "      <td>22.70</td>\n",
       "      <td>1</td>\n",
       "      <td>2</td>\n",
       "      <td>1</td>\n",
       "    </tr>\n",
       "  </tbody>\n",
       "</table>\n",
       "</div>"
      ],
      "text/plain": [
       "        Date  MedTemp  Day_of_week  Month  Season\n",
       "0 2008-02-01    20.95            4      2       1\n",
       "1 2008-02-02    22.55            5      2       1\n",
       "2 2008-02-03    23.05            6      2       1\n",
       "3 2008-02-04    21.50            0      2       1\n",
       "4 2008-02-05    22.70            1      2       1"
      ]
     },
     "execution_count": 3,
     "metadata": {},
     "output_type": "execute_result"
    }
   ],
   "source": [
    "df['Day_of_week'] = df['Date'].dt.dayofweek\n",
    "df['Month'] = df['Date'].dt.month\n",
    "df['Season'] = df['Date'].dt.quarter\n",
    "df.head()"
   ]
  },
  {
   "attachments": {},
   "cell_type": "markdown",
   "id": "b1540776",
   "metadata": {},
   "source": [
    "## Target"
   ]
  },
  {
   "attachments": {},
   "cell_type": "markdown",
   "id": "0cd254a6",
   "metadata": {},
   "source": [
    "Compute the target value we want to predict with a prediction window of 1 day.\n",
    "\n",
    "Feel free to try other prediction windows, e.g. forecasting 2, 3 or 7 days. Further predictions should have worse results, as the current temperature values are less informative of the far future."
   ]
  },
  {
   "cell_type": "code",
   "execution_count": 4,
   "id": "46c04d02",
   "metadata": {
    "scrolled": true
   },
   "outputs": [
    {
     "data": {
      "text/html": [
       "<div>\n",
       "<style scoped>\n",
       "    .dataframe tbody tr th:only-of-type {\n",
       "        vertical-align: middle;\n",
       "    }\n",
       "\n",
       "    .dataframe tbody tr th {\n",
       "        vertical-align: top;\n",
       "    }\n",
       "\n",
       "    .dataframe thead th {\n",
       "        text-align: right;\n",
       "    }\n",
       "</style>\n",
       "<table border=\"1\" class=\"dataframe\">\n",
       "  <thead>\n",
       "    <tr style=\"text-align: right;\">\n",
       "      <th></th>\n",
       "      <th>Date</th>\n",
       "      <th>MedTemp</th>\n",
       "      <th>Day_of_week</th>\n",
       "      <th>Month</th>\n",
       "      <th>Season</th>\n",
       "      <th>target</th>\n",
       "    </tr>\n",
       "  </thead>\n",
       "  <tbody>\n",
       "    <tr>\n",
       "      <th>3339</th>\n",
       "      <td>2017-06-21</td>\n",
       "      <td>14.10</td>\n",
       "      <td>2</td>\n",
       "      <td>6</td>\n",
       "      <td>2</td>\n",
       "      <td>14.25</td>\n",
       "    </tr>\n",
       "    <tr>\n",
       "      <th>3340</th>\n",
       "      <td>2017-06-22</td>\n",
       "      <td>14.25</td>\n",
       "      <td>3</td>\n",
       "      <td>6</td>\n",
       "      <td>2</td>\n",
       "      <td>13.55</td>\n",
       "    </tr>\n",
       "    <tr>\n",
       "      <th>3341</th>\n",
       "      <td>2017-06-23</td>\n",
       "      <td>13.55</td>\n",
       "      <td>4</td>\n",
       "      <td>6</td>\n",
       "      <td>2</td>\n",
       "      <td>14.70</td>\n",
       "    </tr>\n",
       "    <tr>\n",
       "      <th>3342</th>\n",
       "      <td>2017-06-24</td>\n",
       "      <td>14.70</td>\n",
       "      <td>5</td>\n",
       "      <td>6</td>\n",
       "      <td>2</td>\n",
       "      <td>13.45</td>\n",
       "    </tr>\n",
       "    <tr>\n",
       "      <th>3343</th>\n",
       "      <td>2017-06-25</td>\n",
       "      <td>13.45</td>\n",
       "      <td>6</td>\n",
       "      <td>6</td>\n",
       "      <td>2</td>\n",
       "      <td>NaN</td>\n",
       "    </tr>\n",
       "  </tbody>\n",
       "</table>\n",
       "</div>"
      ],
      "text/plain": [
       "           Date  MedTemp  Day_of_week  Month  Season  target\n",
       "3339 2017-06-21    14.10            2      6       2   14.25\n",
       "3340 2017-06-22    14.25            3      6       2   13.55\n",
       "3341 2017-06-23    13.55            4      6       2   14.70\n",
       "3342 2017-06-24    14.70            5      6       2   13.45\n",
       "3343 2017-06-25    13.45            6      6       2     NaN"
      ]
     },
     "execution_count": 4,
     "metadata": {},
     "output_type": "execute_result"
    }
   ],
   "source": [
    "df['target'] = df['MedTemp'].shift(-1).values\n",
    "df.tail()"
   ]
  },
  {
   "attachments": {},
   "cell_type": "markdown",
   "id": "40fd1ded",
   "metadata": {},
   "source": [
    "## Clean NaNs"
   ]
  },
  {
   "attachments": {},
   "cell_type": "markdown",
   "id": "bde29008",
   "metadata": {},
   "source": [
    "Drop the NaNs that have appeared during the feature engineering process."
   ]
  },
  {
   "cell_type": "code",
   "execution_count": 5,
   "id": "e448178c",
   "metadata": {},
   "outputs": [
    {
     "data": {
      "text/plain": [
       "(3343, 6)"
      ]
     },
     "execution_count": 5,
     "metadata": {},
     "output_type": "execute_result"
    }
   ],
   "source": [
    "df = df.dropna()\n",
    "df.shape"
   ]
  },
  {
   "attachments": {},
   "cell_type": "markdown",
   "id": "d3d1fe7b",
   "metadata": {},
   "source": [
    "# Prepare train / test"
   ]
  },
  {
   "cell_type": "code",
   "execution_count": 6,
   "metadata": {},
   "outputs": [],
   "source": [
    "def create_data_for_rnns(X, y, look_back=7):\n",
    "    dataX, dataY = [], []\n",
    "    for i in range(len(X) - look_back):\n",
    "        # Take sequence of length `look_back`\n",
    "        seqX = X.iloc[i:(i + look_back)].values\n",
    "        seqY = y.iloc[i:(i + look_back)].values\n",
    "        dataX.append(seqX)\n",
    "        dataY.append(seqY)\n",
    "    return np.array(dataX), np.array(dataY)"
   ]
  },
  {
   "cell_type": "code",
   "execution_count": 7,
   "id": "b2c0376c",
   "metadata": {},
   "outputs": [],
   "source": [
    "X = df.drop(['Date', 'target'], axis=1)\n",
    "y = df['target']\n",
    "\n",
    "X_train, X_test, y_train, y_test = train_test_split(X, y, test_size=0.2, shuffle=False)"
   ]
  },
  {
   "cell_type": "code",
   "execution_count": 8,
   "metadata": {},
   "outputs": [
    {
     "data": {
      "text/html": [
       "<div>\n",
       "<style scoped>\n",
       "    .dataframe tbody tr th:only-of-type {\n",
       "        vertical-align: middle;\n",
       "    }\n",
       "\n",
       "    .dataframe tbody tr th {\n",
       "        vertical-align: top;\n",
       "    }\n",
       "\n",
       "    .dataframe thead th {\n",
       "        text-align: right;\n",
       "    }\n",
       "</style>\n",
       "<table border=\"1\" class=\"dataframe\">\n",
       "  <thead>\n",
       "    <tr style=\"text-align: right;\">\n",
       "      <th></th>\n",
       "      <th>MedTemp</th>\n",
       "      <th>Day_of_week</th>\n",
       "      <th>Month</th>\n",
       "      <th>Season</th>\n",
       "    </tr>\n",
       "  </thead>\n",
       "  <tbody>\n",
       "    <tr>\n",
       "      <th>0</th>\n",
       "      <td>20.95</td>\n",
       "      <td>4</td>\n",
       "      <td>2</td>\n",
       "      <td>1</td>\n",
       "    </tr>\n",
       "    <tr>\n",
       "      <th>1</th>\n",
       "      <td>22.55</td>\n",
       "      <td>5</td>\n",
       "      <td>2</td>\n",
       "      <td>1</td>\n",
       "    </tr>\n",
       "    <tr>\n",
       "      <th>2</th>\n",
       "      <td>23.05</td>\n",
       "      <td>6</td>\n",
       "      <td>2</td>\n",
       "      <td>1</td>\n",
       "    </tr>\n",
       "    <tr>\n",
       "      <th>3</th>\n",
       "      <td>21.50</td>\n",
       "      <td>0</td>\n",
       "      <td>2</td>\n",
       "      <td>1</td>\n",
       "    </tr>\n",
       "    <tr>\n",
       "      <th>4</th>\n",
       "      <td>22.70</td>\n",
       "      <td>1</td>\n",
       "      <td>2</td>\n",
       "      <td>1</td>\n",
       "    </tr>\n",
       "  </tbody>\n",
       "</table>\n",
       "</div>"
      ],
      "text/plain": [
       "   MedTemp  Day_of_week  Month  Season\n",
       "0    20.95            4      2       1\n",
       "1    22.55            5      2       1\n",
       "2    23.05            6      2       1\n",
       "3    21.50            0      2       1\n",
       "4    22.70            1      2       1"
      ]
     },
     "execution_count": 8,
     "metadata": {},
     "output_type": "execute_result"
    }
   ],
   "source": [
    "X_train.head()"
   ]
  },
  {
   "cell_type": "code",
   "execution_count": 10,
   "metadata": {},
   "outputs": [
    {
     "data": {
      "text/html": [
       "<div>\n",
       "<style scoped>\n",
       "    .dataframe tbody tr th:only-of-type {\n",
       "        vertical-align: middle;\n",
       "    }\n",
       "\n",
       "    .dataframe tbody tr th {\n",
       "        vertical-align: top;\n",
       "    }\n",
       "\n",
       "    .dataframe thead th {\n",
       "        text-align: right;\n",
       "    }\n",
       "</style>\n",
       "<table border=\"1\" class=\"dataframe\">\n",
       "  <thead>\n",
       "    <tr style=\"text-align: right;\">\n",
       "      <th></th>\n",
       "      <th>MedTemp</th>\n",
       "      <th>Day_of_week</th>\n",
       "      <th>Month</th>\n",
       "      <th>Season</th>\n",
       "    </tr>\n",
       "  </thead>\n",
       "  <tbody>\n",
       "    <tr>\n",
       "      <th>0</th>\n",
       "      <td>20.95</td>\n",
       "      <td>4.0</td>\n",
       "      <td>2.0</td>\n",
       "      <td>1.0</td>\n",
       "    </tr>\n",
       "    <tr>\n",
       "      <th>1</th>\n",
       "      <td>22.55</td>\n",
       "      <td>5.0</td>\n",
       "      <td>2.0</td>\n",
       "      <td>1.0</td>\n",
       "    </tr>\n",
       "    <tr>\n",
       "      <th>2</th>\n",
       "      <td>23.05</td>\n",
       "      <td>6.0</td>\n",
       "      <td>2.0</td>\n",
       "      <td>1.0</td>\n",
       "    </tr>\n",
       "    <tr>\n",
       "      <th>3</th>\n",
       "      <td>21.50</td>\n",
       "      <td>0.0</td>\n",
       "      <td>2.0</td>\n",
       "      <td>1.0</td>\n",
       "    </tr>\n",
       "    <tr>\n",
       "      <th>4</th>\n",
       "      <td>22.70</td>\n",
       "      <td>1.0</td>\n",
       "      <td>2.0</td>\n",
       "      <td>1.0</td>\n",
       "    </tr>\n",
       "    <tr>\n",
       "      <th>5</th>\n",
       "      <td>23.70</td>\n",
       "      <td>2.0</td>\n",
       "      <td>2.0</td>\n",
       "      <td>1.0</td>\n",
       "    </tr>\n",
       "    <tr>\n",
       "      <th>6</th>\n",
       "      <td>22.45</td>\n",
       "      <td>3.0</td>\n",
       "      <td>2.0</td>\n",
       "      <td>1.0</td>\n",
       "    </tr>\n",
       "  </tbody>\n",
       "</table>\n",
       "</div>"
      ],
      "text/plain": [
       "   MedTemp  Day_of_week  Month  Season\n",
       "0    20.95          4.0    2.0     1.0\n",
       "1    22.55          5.0    2.0     1.0\n",
       "2    23.05          6.0    2.0     1.0\n",
       "3    21.50          0.0    2.0     1.0\n",
       "4    22.70          1.0    2.0     1.0\n",
       "5    23.70          2.0    2.0     1.0\n",
       "6    22.45          3.0    2.0     1.0"
      ]
     },
     "execution_count": 10,
     "metadata": {},
     "output_type": "execute_result"
    }
   ],
   "source": [
    "X_train_rnn, y_train_rnn = create_data_for_rnns(X_train, y_train, look_back=7)\n",
    "X_test_rnn, y_test_rnn = create_data_for_rnns(X_test, y_test, look_back=7)\n",
    "\n",
    "# Sample of first sequence\n",
    "pd.DataFrame(X_train_rnn[0], columns=X_train.columns)"
   ]
  },
  {
   "attachments": {},
   "cell_type": "markdown",
   "metadata": {},
   "source": [
    "# Models"
   ]
  },
  {
   "attachments": {},
   "cell_type": "markdown",
   "metadata": {},
   "source": [
    "## Simple"
   ]
  },
  {
   "cell_type": "code",
   "execution_count": 105,
   "metadata": {},
   "outputs": [],
   "source": [
    "rnn = Sequential([\n",
    "    Input(shape=(X_train_rnn.shape[1], X_train_rnn.shape[2])),\n",
    "    Normalization(),\n",
    "    SimpleRNN(16, activation='tanh', return_sequences=True),\n",
    "    SimpleRNN(16, activation='tanh', return_sequences=False),\n",
    "    Dense(8, activation='relu'),\n",
    "    Dense(1, activation='linear')\n",
    "])\n",
    "\n",
    "rnn.compile(optimizer=Adam(learning_rate=0.001), loss='mean_absolute_error')"
   ]
  },
  {
   "cell_type": "code",
   "execution_count": 106,
   "metadata": {},
   "outputs": [
    {
     "name": "stdout",
     "output_type": "stream",
     "text": [
      "Epoch 1/1000\n"
     ]
    },
    {
     "name": "stdout",
     "output_type": "stream",
     "text": [
      "34/34 [==============================] - 2s 14ms/step - loss: 16.4281 - val_loss: 14.8137\n",
      "Epoch 2/1000\n",
      "34/34 [==============================] - 0s 5ms/step - loss: 13.9234 - val_loss: 12.4439\n",
      "Epoch 3/1000\n",
      "34/34 [==============================] - 0s 5ms/step - loss: 11.5676 - val_loss: 10.0347\n",
      "Epoch 4/1000\n",
      "34/34 [==============================] - 0s 6ms/step - loss: 8.9485 - val_loss: 7.1723\n",
      "Epoch 5/1000\n",
      "34/34 [==============================] - 0s 5ms/step - loss: 6.1489 - val_loss: 4.8076\n",
      "Epoch 6/1000\n",
      "34/34 [==============================] - 0s 5ms/step - loss: 4.3552 - val_loss: 3.8908\n",
      "Epoch 7/1000\n",
      "34/34 [==============================] - 0s 5ms/step - loss: 3.7375 - val_loss: 3.6841\n",
      "Epoch 8/1000\n",
      "34/34 [==============================] - 0s 5ms/step - loss: 3.5856 - val_loss: 3.6416\n",
      "Epoch 9/1000\n",
      "34/34 [==============================] - 0s 5ms/step - loss: 3.5463 - val_loss: 3.6337\n",
      "Epoch 10/1000\n",
      "34/34 [==============================] - 0s 5ms/step - loss: 3.5247 - val_loss: 3.5936\n",
      "Epoch 11/1000\n",
      "34/34 [==============================] - 0s 5ms/step - loss: 3.1958 - val_loss: 2.6499\n",
      "Epoch 12/1000\n",
      "34/34 [==============================] - 0s 5ms/step - loss: 2.2939 - val_loss: 1.9402\n",
      "Epoch 13/1000\n",
      "34/34 [==============================] - 0s 5ms/step - loss: 1.7843 - val_loss: 1.5734\n",
      "Epoch 14/1000\n",
      "34/34 [==============================] - 0s 5ms/step - loss: 1.5872 - val_loss: 1.4238\n",
      "Epoch 15/1000\n",
      "34/34 [==============================] - 0s 5ms/step - loss: 1.5263 - val_loss: 1.4012\n",
      "Epoch 16/1000\n",
      "34/34 [==============================] - 0s 5ms/step - loss: 1.4895 - val_loss: 1.3374\n",
      "Epoch 17/1000\n",
      "34/34 [==============================] - 0s 5ms/step - loss: 1.4655 - val_loss: 1.3190\n",
      "Epoch 18/1000\n",
      "34/34 [==============================] - 0s 5ms/step - loss: 1.4590 - val_loss: 1.3129\n",
      "Epoch 19/1000\n",
      "34/34 [==============================] - 0s 6ms/step - loss: 1.4502 - val_loss: 1.3126\n",
      "Epoch 20/1000\n",
      "34/34 [==============================] - 0s 5ms/step - loss: 1.4445 - val_loss: 1.2918\n",
      "Epoch 21/1000\n",
      "34/34 [==============================] - 0s 6ms/step - loss: 1.4381 - val_loss: 1.2860\n",
      "Epoch 22/1000\n",
      "34/34 [==============================] - 0s 5ms/step - loss: 1.4327 - val_loss: 1.2948\n",
      "Epoch 23/1000\n",
      "34/34 [==============================] - 0s 5ms/step - loss: 1.4289 - val_loss: 1.2778\n",
      "Epoch 24/1000\n",
      "34/34 [==============================] - 0s 5ms/step - loss: 1.4241 - val_loss: 1.2753\n",
      "Epoch 25/1000\n",
      "34/34 [==============================] - 0s 5ms/step - loss: 1.4231 - val_loss: 1.2871\n",
      "Epoch 26/1000\n",
      "34/34 [==============================] - 0s 5ms/step - loss: 1.4250 - val_loss: 1.2743\n",
      "Epoch 27/1000\n",
      "34/34 [==============================] - 0s 5ms/step - loss: 1.4222 - val_loss: 1.2694\n",
      "Epoch 28/1000\n",
      "34/34 [==============================] - 0s 5ms/step - loss: 1.4187 - val_loss: 1.2757\n",
      "Epoch 29/1000\n",
      "34/34 [==============================] - 0s 5ms/step - loss: 1.4268 - val_loss: 1.2668\n",
      "Epoch 30/1000\n",
      "34/34 [==============================] - 0s 5ms/step - loss: 1.4201 - val_loss: 1.2742\n",
      "Epoch 31/1000\n",
      "34/34 [==============================] - 0s 6ms/step - loss: 1.4179 - val_loss: 1.2756\n",
      "Epoch 32/1000\n",
      "34/34 [==============================] - 0s 5ms/step - loss: 1.4180 - val_loss: 1.2668\n",
      "Epoch 33/1000\n",
      "34/34 [==============================] - 0s 5ms/step - loss: 1.4136 - val_loss: 1.2629\n",
      "Epoch 34/1000\n",
      "34/34 [==============================] - 0s 5ms/step - loss: 1.4198 - val_loss: 1.2617\n",
      "Epoch 35/1000\n",
      "34/34 [==============================] - 0s 6ms/step - loss: 1.4190 - val_loss: 1.2631\n",
      "Epoch 36/1000\n",
      "34/34 [==============================] - 0s 7ms/step - loss: 1.4135 - val_loss: 1.2744\n",
      "Epoch 37/1000\n",
      "34/34 [==============================] - 0s 6ms/step - loss: 1.4166 - val_loss: 1.2718\n",
      "Epoch 38/1000\n",
      "34/34 [==============================] - 0s 5ms/step - loss: 1.4129 - val_loss: 1.2644\n",
      "Epoch 39/1000\n",
      "34/34 [==============================] - 0s 6ms/step - loss: 1.4181 - val_loss: 1.2618\n"
     ]
    },
    {
     "data": {
      "text/plain": [
       "<keras.callbacks.History at 0x7f184fb3e830>"
      ]
     },
     "execution_count": 106,
     "metadata": {},
     "output_type": "execute_result"
    }
   ],
   "source": [
    "es = EarlyStopping(patience=5, restore_best_weights=True)\n",
    "rnn.fit(X_train_rnn, y_train_rnn, epochs=1000, batch_size=64, validation_split=0.2, callbacks=[es])"
   ]
  },
  {
   "cell_type": "code",
   "execution_count": 107,
   "metadata": {},
   "outputs": [
    {
     "data": {
      "text/plain": [
       "1.3812681436538696"
      ]
     },
     "execution_count": 107,
     "metadata": {},
     "output_type": "execute_result"
    }
   ],
   "source": [
    "rnn.evaluate(X_train_rnn, y_train_rnn, verbose=0)"
   ]
  },
  {
   "cell_type": "code",
   "execution_count": 70,
   "id": "53da3747",
   "metadata": {},
   "outputs": [],
   "source": [
    "rnn2 = Sequential([\n",
    "    Input(shape=(X_train_rnn.shape[1], X_train_rnn.shape[2])),\n",
    "    Normalization(),\n",
    "    #SimpleRNN(128, activation='tanh', return_sequences=True),\n",
    "    SimpleRNN(64, activation='tanh', return_sequences=True),\n",
    "    SimpleRNN(32, activation='tanh', return_sequences=True),\n",
    "    SimpleRNN(16, activation='tanh', return_sequences=False),\n",
    "    Dense(16, activation='relu'),\n",
    "    #Dense(8, activation='relu'),\n",
    "    Dense(1, activation='linear')\n",
    "])\n",
    "\n",
    "rnn2.compile(optimizer=Adam(learning_rate=0.001), loss='mean_absolute_error')"
   ]
  },
  {
   "cell_type": "code",
   "execution_count": 71,
   "id": "ca25f80f",
   "metadata": {},
   "outputs": [
    {
     "name": "stdout",
     "output_type": "stream",
     "text": [
      "Epoch 1/1000\n",
      "34/34 [==============================] - 2s 13ms/step - loss: 15.1169 - val_loss: 12.9530\n",
      "Epoch 2/1000\n",
      "34/34 [==============================] - 0s 4ms/step - loss: 11.2532 - val_loss: 8.7243\n",
      "Epoch 3/1000\n",
      "34/34 [==============================] - 0s 4ms/step - loss: 6.8062 - val_loss: 4.6527\n",
      "Epoch 4/1000\n",
      "34/34 [==============================] - 0s 4ms/step - loss: 4.0064 - val_loss: 3.6829\n",
      "Epoch 5/1000\n",
      "34/34 [==============================] - 0s 3ms/step - loss: 3.5713 - val_loss: 3.6547\n",
      "Epoch 6/1000\n",
      "34/34 [==============================] - 0s 4ms/step - loss: 3.5486 - val_loss: 3.6541\n",
      "Epoch 7/1000\n",
      "34/34 [==============================] - 0s 3ms/step - loss: 3.5489 - val_loss: 3.6563\n",
      "Epoch 8/1000\n",
      "34/34 [==============================] - 0s 4ms/step - loss: 3.5471 - val_loss: 3.6480\n",
      "Epoch 9/1000\n",
      "34/34 [==============================] - 0s 3ms/step - loss: 3.5325 - val_loss: 3.5511\n",
      "Epoch 10/1000\n",
      "34/34 [==============================] - 0s 3ms/step - loss: 2.4747 - val_loss: 1.6535\n",
      "Epoch 11/1000\n",
      "34/34 [==============================] - 0s 3ms/step - loss: 1.5923 - val_loss: 1.3913\n",
      "Epoch 12/1000\n",
      "34/34 [==============================] - 0s 3ms/step - loss: 1.4773 - val_loss: 1.3152\n",
      "Epoch 13/1000\n",
      "34/34 [==============================] - 0s 3ms/step - loss: 1.4487 - val_loss: 1.3388\n",
      "Epoch 14/1000\n",
      "34/34 [==============================] - 0s 3ms/step - loss: 1.4370 - val_loss: 1.2762\n",
      "Epoch 15/1000\n",
      "34/34 [==============================] - 0s 3ms/step - loss: 1.4250 - val_loss: 1.2773\n",
      "Epoch 16/1000\n",
      "34/34 [==============================] - 0s 3ms/step - loss: 1.4314 - val_loss: 1.2971\n",
      "Epoch 17/1000\n",
      "34/34 [==============================] - 0s 5ms/step - loss: 1.4205 - val_loss: 1.2714\n",
      "Epoch 18/1000\n",
      "34/34 [==============================] - 0s 3ms/step - loss: 1.4158 - val_loss: 1.2804\n",
      "Epoch 19/1000\n",
      "34/34 [==============================] - 0s 3ms/step - loss: 1.4177 - val_loss: 1.2733\n",
      "Epoch 20/1000\n",
      "34/34 [==============================] - 0s 3ms/step - loss: 1.4169 - val_loss: 1.2506\n",
      "Epoch 21/1000\n",
      "34/34 [==============================] - 0s 3ms/step - loss: 1.4087 - val_loss: 1.2560\n",
      "Epoch 22/1000\n",
      "34/34 [==============================] - 0s 3ms/step - loss: 1.4095 - val_loss: 1.2611\n",
      "Epoch 23/1000\n",
      "34/34 [==============================] - 0s 4ms/step - loss: 1.4076 - val_loss: 1.2968\n",
      "Epoch 24/1000\n",
      "34/34 [==============================] - 0s 3ms/step - loss: 1.4141 - val_loss: 1.2518\n",
      "Epoch 25/1000\n",
      "34/34 [==============================] - 0s 4ms/step - loss: 1.4465 - val_loss: 1.2568\n"
     ]
    },
    {
     "data": {
      "text/plain": [
       "<keras.src.callbacks.History at 0x21a79ef4b50>"
      ]
     },
     "execution_count": 71,
     "metadata": {},
     "output_type": "execute_result"
    }
   ],
   "source": [
    "es = EarlyStopping(patience=5, restore_best_weights=True)\n",
    "rnn2.fit(X_train_rnn, y_train_rnn, epochs=1000, batch_size=64, validation_split=0.2, callbacks=[es])"
   ]
  },
  {
   "cell_type": "code",
   "execution_count": 72,
   "id": "38414aa1",
   "metadata": {},
   "outputs": [
    {
     "data": {
      "text/plain": [
       "1.3733042478561401"
      ]
     },
     "execution_count": 72,
     "metadata": {},
     "output_type": "execute_result"
    }
   ],
   "source": [
    "rnn2.evaluate(X_train_rnn, y_train_rnn, verbose=0)"
   ]
  },
  {
   "cell_type": "code",
   "execution_count": 73,
   "id": "29583016",
   "metadata": {},
   "outputs": [
    {
     "data": {
      "text/plain": [
       "1.4600353240966797"
      ]
     },
     "execution_count": 73,
     "metadata": {},
     "output_type": "execute_result"
    }
   ],
   "source": [
    "rnn2.evaluate(X_test_rnn, y_test_rnn, verbose=0)"
   ]
  },
  {
   "attachments": {},
   "cell_type": "markdown",
   "metadata": {},
   "source": [
    "## LSTM"
   ]
  },
  {
   "cell_type": "code",
   "execution_count": 108,
   "metadata": {},
   "outputs": [],
   "source": [
    "lstm = Sequential([\n",
    "    Input(shape=(X_train_rnn.shape[1], X_train_rnn.shape[2])),\n",
    "    Normalization(),\n",
    "    LSTM(16, return_sequences=True),\n",
    "    LSTM(16, return_sequences=False),\n",
    "    Dense(8, activation='relu'),\n",
    "    Dense(1, activation='linear')\n",
    "])\n",
    "\n",
    "lstm.compile(optimizer=Adam(learning_rate=0.001), loss='mean_absolute_error')"
   ]
  },
  {
   "cell_type": "code",
   "execution_count": 109,
   "metadata": {},
   "outputs": [
    {
     "name": "stdout",
     "output_type": "stream",
     "text": [
      "Epoch 1/1000\n",
      "34/34 [==============================] - 4s 34ms/step - loss: 17.7294 - val_loss: 16.3399\n",
      "Epoch 2/1000\n",
      "34/34 [==============================] - 0s 9ms/step - loss: 15.0299 - val_loss: 12.9354\n",
      "Epoch 3/1000\n",
      "34/34 [==============================] - 0s 10ms/step - loss: 11.5083 - val_loss: 9.4693\n",
      "Epoch 4/1000\n",
      "34/34 [==============================] - 0s 9ms/step - loss: 8.1724 - val_loss: 6.2877\n",
      "Epoch 5/1000\n",
      "34/34 [==============================] - 0s 9ms/step - loss: 5.3364 - val_loss: 4.2669\n",
      "Epoch 6/1000\n",
      "34/34 [==============================] - 0s 10ms/step - loss: 3.9475 - val_loss: 3.7378\n",
      "Epoch 7/1000\n",
      "34/34 [==============================] - 0s 8ms/step - loss: 3.6114 - val_loss: 3.6505\n",
      "Epoch 8/1000\n",
      "34/34 [==============================] - 0s 8ms/step - loss: 3.5535 - val_loss: 3.6537\n",
      "Epoch 9/1000\n",
      "34/34 [==============================] - 0s 8ms/step - loss: 3.5491 - val_loss: 3.6552\n",
      "Epoch 10/1000\n",
      "34/34 [==============================] - 0s 9ms/step - loss: 3.5492 - val_loss: 3.6564\n",
      "Epoch 11/1000\n",
      "34/34 [==============================] - 0s 8ms/step - loss: 3.5499 - val_loss: 3.6550\n",
      "Epoch 12/1000\n",
      "34/34 [==============================] - 0s 8ms/step - loss: 3.5488 - val_loss: 3.6557\n",
      "Epoch 13/1000\n",
      "34/34 [==============================] - 0s 8ms/step - loss: 3.5490 - val_loss: 3.6537\n",
      "Epoch 14/1000\n",
      "34/34 [==============================] - 0s 8ms/step - loss: 3.5463 - val_loss: 3.6524\n",
      "Epoch 15/1000\n",
      "34/34 [==============================] - 0s 8ms/step - loss: 3.5432 - val_loss: 3.6412\n",
      "Epoch 16/1000\n",
      "34/34 [==============================] - 0s 8ms/step - loss: 3.5255 - val_loss: 3.6118\n",
      "Epoch 17/1000\n",
      "34/34 [==============================] - 0s 11ms/step - loss: 3.3104 - val_loss: 2.8006\n",
      "Epoch 18/1000\n",
      "34/34 [==============================] - 0s 8ms/step - loss: 2.3195 - val_loss: 1.7836\n",
      "Epoch 19/1000\n",
      "34/34 [==============================] - 0s 8ms/step - loss: 1.6190 - val_loss: 1.3890\n",
      "Epoch 20/1000\n",
      "34/34 [==============================] - 0s 9ms/step - loss: 1.4727 - val_loss: 1.3386\n",
      "Epoch 21/1000\n",
      "34/34 [==============================] - 0s 8ms/step - loss: 1.4612 - val_loss: 1.3155\n",
      "Epoch 22/1000\n",
      "34/34 [==============================] - 0s 8ms/step - loss: 1.4405 - val_loss: 1.2952\n",
      "Epoch 23/1000\n",
      "34/34 [==============================] - 0s 8ms/step - loss: 1.4337 - val_loss: 1.2892\n",
      "Epoch 24/1000\n",
      "34/34 [==============================] - 0s 9ms/step - loss: 1.4280 - val_loss: 1.2803\n",
      "Epoch 25/1000\n",
      "34/34 [==============================] - 0s 9ms/step - loss: 1.4237 - val_loss: 1.2782\n",
      "Epoch 26/1000\n",
      "34/34 [==============================] - 0s 9ms/step - loss: 1.4221 - val_loss: 1.2711\n",
      "Epoch 27/1000\n",
      "34/34 [==============================] - 0s 9ms/step - loss: 1.4177 - val_loss: 1.2692\n",
      "Epoch 28/1000\n",
      "34/34 [==============================] - 0s 10ms/step - loss: 1.4170 - val_loss: 1.2636\n",
      "Epoch 29/1000\n",
      "34/34 [==============================] - 0s 9ms/step - loss: 1.4143 - val_loss: 1.2572\n",
      "Epoch 30/1000\n",
      "34/34 [==============================] - 0s 8ms/step - loss: 1.4156 - val_loss: 1.2721\n",
      "Epoch 31/1000\n",
      "34/34 [==============================] - 0s 9ms/step - loss: 1.4175 - val_loss: 1.2745\n",
      "Epoch 32/1000\n",
      "34/34 [==============================] - 0s 9ms/step - loss: 1.4146 - val_loss: 1.2665\n",
      "Epoch 33/1000\n",
      "34/34 [==============================] - 0s 9ms/step - loss: 1.4154 - val_loss: 1.3038\n",
      "Epoch 34/1000\n",
      "34/34 [==============================] - 0s 9ms/step - loss: 1.4145 - val_loss: 1.2603\n",
      "Epoch 35/1000\n",
      "34/34 [==============================] - 0s 9ms/step - loss: 1.4097 - val_loss: 1.2579\n",
      "Epoch 36/1000\n",
      "34/34 [==============================] - 0s 9ms/step - loss: 1.4098 - val_loss: 1.2621\n",
      "Epoch 37/1000\n",
      "34/34 [==============================] - 0s 8ms/step - loss: 1.4105 - val_loss: 1.2537\n",
      "Epoch 38/1000\n",
      "34/34 [==============================] - 0s 8ms/step - loss: 1.4056 - val_loss: 1.2557\n",
      "Epoch 39/1000\n",
      "34/34 [==============================] - 0s 8ms/step - loss: 1.4069 - val_loss: 1.2632\n",
      "Epoch 40/1000\n",
      "34/34 [==============================] - 0s 10ms/step - loss: 1.4071 - val_loss: 1.2537\n",
      "Epoch 41/1000\n",
      "34/34 [==============================] - 0s 9ms/step - loss: 1.4073 - val_loss: 1.2564\n",
      "Epoch 42/1000\n",
      "34/34 [==============================] - 0s 9ms/step - loss: 1.4096 - val_loss: 1.2630\n",
      "Epoch 43/1000\n",
      "34/34 [==============================] - 0s 9ms/step - loss: 1.4073 - val_loss: 1.2552\n",
      "Epoch 44/1000\n",
      "34/34 [==============================] - 0s 8ms/step - loss: 1.4090 - val_loss: 1.2561\n",
      "Epoch 45/1000\n",
      "34/34 [==============================] - 0s 8ms/step - loss: 1.4046 - val_loss: 1.2575\n",
      "Epoch 46/1000\n",
      "34/34 [==============================] - 0s 8ms/step - loss: 1.4081 - val_loss: 1.2535\n",
      "Epoch 47/1000\n",
      "34/34 [==============================] - 0s 8ms/step - loss: 1.4041 - val_loss: 1.2510\n",
      "Epoch 48/1000\n",
      "34/34 [==============================] - 0s 8ms/step - loss: 1.4041 - val_loss: 1.2519\n",
      "Epoch 49/1000\n",
      "34/34 [==============================] - 0s 8ms/step - loss: 1.4041 - val_loss: 1.2544\n",
      "Epoch 50/1000\n",
      "34/34 [==============================] - 0s 10ms/step - loss: 1.4060 - val_loss: 1.2519\n",
      "Epoch 51/1000\n",
      "34/34 [==============================] - 0s 8ms/step - loss: 1.4034 - val_loss: 1.2533\n",
      "Epoch 52/1000\n",
      "34/34 [==============================] - 0s 8ms/step - loss: 1.4033 - val_loss: 1.2510\n",
      "Epoch 53/1000\n",
      "34/34 [==============================] - 0s 8ms/step - loss: 1.4027 - val_loss: 1.2514\n",
      "Epoch 54/1000\n",
      "34/34 [==============================] - 0s 9ms/step - loss: 1.4082 - val_loss: 1.2604\n",
      "Epoch 55/1000\n",
      "34/34 [==============================] - 0s 8ms/step - loss: 1.4041 - val_loss: 1.2535\n",
      "Epoch 56/1000\n",
      "34/34 [==============================] - 0s 8ms/step - loss: 1.4048 - val_loss: 1.2504\n",
      "Epoch 57/1000\n",
      "34/34 [==============================] - 0s 8ms/step - loss: 1.4053 - val_loss: 1.2621\n",
      "Epoch 58/1000\n",
      "34/34 [==============================] - 0s 8ms/step - loss: 1.4027 - val_loss: 1.2499\n",
      "Epoch 59/1000\n",
      "34/34 [==============================] - 0s 8ms/step - loss: 1.4030 - val_loss: 1.2580\n",
      "Epoch 60/1000\n",
      "34/34 [==============================] - 0s 8ms/step - loss: 1.4058 - val_loss: 1.2529\n",
      "Epoch 61/1000\n",
      "34/34 [==============================] - 0s 8ms/step - loss: 1.4023 - val_loss: 1.2492\n",
      "Epoch 62/1000\n",
      "34/34 [==============================] - 0s 10ms/step - loss: 1.4003 - val_loss: 1.2488\n",
      "Epoch 63/1000\n",
      "34/34 [==============================] - 0s 8ms/step - loss: 1.4009 - val_loss: 1.2618\n",
      "Epoch 64/1000\n",
      "34/34 [==============================] - 0s 8ms/step - loss: 1.4033 - val_loss: 1.2490\n",
      "Epoch 65/1000\n",
      "34/34 [==============================] - 0s 8ms/step - loss: 1.4014 - val_loss: 1.2495\n",
      "Epoch 66/1000\n",
      "34/34 [==============================] - 0s 8ms/step - loss: 1.4056 - val_loss: 1.2491\n",
      "Epoch 67/1000\n",
      "34/34 [==============================] - 0s 8ms/step - loss: 1.4006 - val_loss: 1.2519\n",
      "Epoch 68/1000\n",
      "34/34 [==============================] - 0s 8ms/step - loss: 1.4093 - val_loss: 1.2523\n",
      "Epoch 69/1000\n",
      "34/34 [==============================] - 0s 8ms/step - loss: 1.4039 - val_loss: 1.2560\n",
      "Epoch 70/1000\n",
      "34/34 [==============================] - 0s 8ms/step - loss: 1.4009 - val_loss: 1.2504\n",
      "Epoch 71/1000\n",
      "34/34 [==============================] - 0s 8ms/step - loss: 1.4009 - val_loss: 1.2537\n",
      "Epoch 72/1000\n",
      "34/34 [==============================] - 0s 9ms/step - loss: 1.4031 - val_loss: 1.2592\n"
     ]
    },
    {
     "data": {
      "text/plain": [
       "<keras.callbacks.History at 0x7f1916932ad0>"
      ]
     },
     "execution_count": 109,
     "metadata": {},
     "output_type": "execute_result"
    }
   ],
   "source": [
    "es = EarlyStopping(patience=10, monitor='val_loss', restore_best_weights=True)\n",
    "lstm.fit(X_train_rnn, y_train_rnn, epochs=1000, batch_size=64, validation_split=0.2, callbacks=[es])"
   ]
  },
  {
   "cell_type": "code",
   "execution_count": 110,
   "metadata": {},
   "outputs": [
    {
     "data": {
      "text/plain": [
       "1.369399905204773"
      ]
     },
     "execution_count": 110,
     "metadata": {},
     "output_type": "execute_result"
    }
   ],
   "source": [
    "lstm.evaluate(X_train_rnn, y_train_rnn, verbose=0)"
   ]
  },
  {
   "cell_type": "code",
   "execution_count": 150,
   "id": "b991d4c3",
   "metadata": {},
   "outputs": [],
   "source": [
    "lstm2 = Sequential([\n",
    "    Input(shape=(X_train_rnn.shape[1], X_train_rnn.shape[2])),\n",
    "    Normalization(), \n",
    "    LSTM(32, return_sequences=True),   \n",
    "    LSTM(32, return_sequences=False),\n",
    "    #Dense(16, activation='relu'),\n",
    "    Dense(8, activation='relu'),\n",
    "    Dense(4, activation='relu'),\n",
    "    Dense(1, activation='linear')\n",
    "])\n",
    "\n",
    "lstm2.compile(optimizer=Adam(learning_rate=0.001), loss='mean_absolute_error')"
   ]
  },
  {
   "cell_type": "code",
   "execution_count": 151,
   "id": "4be96c53",
   "metadata": {},
   "outputs": [
    {
     "name": "stdout",
     "output_type": "stream",
     "text": [
      "Epoch 1/1000\n",
      "34/34 [==============================] - 4s 23ms/step - loss: 18.5586 - val_loss: 18.0174\n",
      "Epoch 2/1000\n",
      "34/34 [==============================] - 0s 5ms/step - loss: 17.5317 - val_loss: 16.3867\n",
      "Epoch 3/1000\n",
      "34/34 [==============================] - 0s 5ms/step - loss: 15.6581 - val_loss: 14.1885\n",
      "Epoch 4/1000\n",
      "34/34 [==============================] - 0s 5ms/step - loss: 13.0873 - val_loss: 11.2087\n",
      "Epoch 5/1000\n",
      "34/34 [==============================] - 0s 5ms/step - loss: 9.6343 - val_loss: 7.1834\n",
      "Epoch 6/1000\n",
      "34/34 [==============================] - 0s 5ms/step - loss: 5.5576 - val_loss: 4.0252\n",
      "Epoch 7/1000\n",
      "34/34 [==============================] - 0s 5ms/step - loss: 3.7135 - val_loss: 3.6481\n",
      "Epoch 8/1000\n",
      "34/34 [==============================] - 0s 5ms/step - loss: 3.5522 - val_loss: 3.6582\n",
      "Epoch 9/1000\n",
      "34/34 [==============================] - 0s 5ms/step - loss: 3.5478 - val_loss: 3.6498\n",
      "Epoch 10/1000\n",
      "34/34 [==============================] - 0s 5ms/step - loss: 3.5373 - val_loss: 3.6339\n",
      "Epoch 11/1000\n",
      "34/34 [==============================] - 0s 5ms/step - loss: 3.4832 - val_loss: 3.4667\n",
      "Epoch 12/1000\n",
      "34/34 [==============================] - 0s 6ms/step - loss: 2.7674 - val_loss: 1.8099\n",
      "Epoch 13/1000\n",
      "34/34 [==============================] - 0s 5ms/step - loss: 1.6396 - val_loss: 1.4060\n",
      "Epoch 14/1000\n",
      "34/34 [==============================] - 0s 5ms/step - loss: 1.4725 - val_loss: 1.3642\n",
      "Epoch 15/1000\n",
      "34/34 [==============================] - 0s 5ms/step - loss: 1.4508 - val_loss: 1.2962\n",
      "Epoch 16/1000\n",
      "34/34 [==============================] - 0s 5ms/step - loss: 1.4275 - val_loss: 1.2877\n",
      "Epoch 17/1000\n",
      "34/34 [==============================] - 0s 5ms/step - loss: 1.4269 - val_loss: 1.2737\n",
      "Epoch 18/1000\n",
      "34/34 [==============================] - 0s 5ms/step - loss: 1.4175 - val_loss: 1.2701\n",
      "Epoch 19/1000\n",
      "34/34 [==============================] - 0s 5ms/step - loss: 1.4189 - val_loss: 1.2721\n",
      "Epoch 20/1000\n",
      "34/34 [==============================] - 0s 5ms/step - loss: 1.4189 - val_loss: 1.2715\n",
      "Epoch 21/1000\n",
      "34/34 [==============================] - 0s 5ms/step - loss: 1.4145 - val_loss: 1.2616\n",
      "Epoch 22/1000\n",
      "34/34 [==============================] - 0s 5ms/step - loss: 1.4172 - val_loss: 1.2599\n",
      "Epoch 23/1000\n",
      "34/34 [==============================] - 0s 5ms/step - loss: 1.4109 - val_loss: 1.2735\n",
      "Epoch 24/1000\n",
      "34/34 [==============================] - 0s 5ms/step - loss: 1.4099 - val_loss: 1.2527\n",
      "Epoch 25/1000\n",
      "34/34 [==============================] - 0s 5ms/step - loss: 1.4055 - val_loss: 1.2680\n",
      "Epoch 26/1000\n",
      "34/34 [==============================] - 0s 5ms/step - loss: 1.4101 - val_loss: 1.2572\n",
      "Epoch 27/1000\n",
      "34/34 [==============================] - 0s 5ms/step - loss: 1.4106 - val_loss: 1.2853\n",
      "Epoch 28/1000\n",
      "34/34 [==============================] - 0s 5ms/step - loss: 1.4077 - val_loss: 1.2669\n",
      "Epoch 29/1000\n",
      "34/34 [==============================] - 0s 5ms/step - loss: 1.4117 - val_loss: 1.2553\n",
      "Epoch 30/1000\n",
      "34/34 [==============================] - 0s 5ms/step - loss: 1.4068 - val_loss: 1.2547\n",
      "Epoch 31/1000\n",
      "34/34 [==============================] - 0s 5ms/step - loss: 1.4081 - val_loss: 1.2591\n",
      "Epoch 32/1000\n",
      "34/34 [==============================] - 0s 5ms/step - loss: 1.4039 - val_loss: 1.2546\n",
      "Epoch 33/1000\n",
      "34/34 [==============================] - 0s 5ms/step - loss: 1.4041 - val_loss: 1.2605\n",
      "Epoch 34/1000\n",
      "34/34 [==============================] - 0s 5ms/step - loss: 1.4089 - val_loss: 1.2544\n"
     ]
    },
    {
     "data": {
      "text/plain": [
       "<keras.src.callbacks.History at 0x21aad6b3bd0>"
      ]
     },
     "execution_count": 151,
     "metadata": {},
     "output_type": "execute_result"
    }
   ],
   "source": [
    "es = EarlyStopping(patience=10, monitor='val_loss', restore_best_weights=True)\n",
    "lstm2.fit(X_train_rnn, y_train_rnn, epochs=1000, batch_size=64, validation_split=0.2, callbacks=[es])"
   ]
  },
  {
   "cell_type": "code",
   "execution_count": 152,
   "id": "fba52005",
   "metadata": {},
   "outputs": [
    {
     "data": {
      "text/plain": [
       "1.3733494281768799"
      ]
     },
     "execution_count": 152,
     "metadata": {},
     "output_type": "execute_result"
    }
   ],
   "source": [
    "lstm2.evaluate(X_train_rnn, y_train_rnn, verbose=0)"
   ]
  },
  {
   "cell_type": "code",
   "execution_count": 153,
   "id": "5002f1db",
   "metadata": {},
   "outputs": [
    {
     "data": {
      "text/plain": [
       "1.4625808000564575"
      ]
     },
     "execution_count": 153,
     "metadata": {},
     "output_type": "execute_result"
    }
   ],
   "source": [
    "lstm2.evaluate(X_test_rnn, y_test_rnn, verbose=0)"
   ]
  },
  {
   "attachments": {},
   "cell_type": "markdown",
   "metadata": {},
   "source": [
    "## GRU"
   ]
  },
  {
   "cell_type": "code",
   "execution_count": 111,
   "metadata": {},
   "outputs": [],
   "source": [
    "gru = Sequential([\n",
    "    Input(shape=(X_train_rnn.shape[1], X_train_rnn.shape[2])),\n",
    "    Normalization(),\n",
    "    GRU(16, return_sequences=True),\n",
    "    GRU(16, return_sequences=False),\n",
    "    Dense(8, activation='relu'),\n",
    "    Dense(1, activation='linear')\n",
    "])\n",
    "\n",
    "gru.compile(optimizer=Adam(learning_rate=0.001), loss='mean_absolute_error')"
   ]
  },
  {
   "cell_type": "code",
   "execution_count": 112,
   "metadata": {},
   "outputs": [
    {
     "name": "stdout",
     "output_type": "stream",
     "text": [
      "Epoch 1/1000\n",
      "34/34 [==============================] - 4s 31ms/step - loss: 18.4429 - val_loss: 17.2931\n",
      "Epoch 2/1000\n",
      "34/34 [==============================] - 0s 9ms/step - loss: 16.6333 - val_loss: 15.4137\n",
      "Epoch 3/1000\n",
      "34/34 [==============================] - 0s 10ms/step - loss: 14.9724 - val_loss: 14.0426\n",
      "Epoch 4/1000\n",
      "34/34 [==============================] - 0s 9ms/step - loss: 13.7381 - val_loss: 12.9070\n",
      "Epoch 5/1000\n",
      "34/34 [==============================] - 0s 9ms/step - loss: 12.6394 - val_loss: 11.8149\n",
      "Epoch 6/1000\n",
      "34/34 [==============================] - 0s 9ms/step - loss: 11.5113 - val_loss: 10.6515\n",
      "Epoch 7/1000\n",
      "34/34 [==============================] - 0s 9ms/step - loss: 10.3244 - val_loss: 9.4367\n",
      "Epoch 8/1000\n",
      "34/34 [==============================] - 0s 9ms/step - loss: 9.0822 - val_loss: 8.1656\n",
      "Epoch 9/1000\n",
      "34/34 [==============================] - 0s 9ms/step - loss: 7.7921 - val_loss: 6.8733\n",
      "Epoch 10/1000\n",
      "34/34 [==============================] - 0s 10ms/step - loss: 6.5317 - val_loss: 5.7168\n",
      "Epoch 11/1000\n",
      "34/34 [==============================] - 0s 9ms/step - loss: 5.4597 - val_loss: 4.8457\n",
      "Epoch 12/1000\n",
      "34/34 [==============================] - 0s 10ms/step - loss: 4.6958 - val_loss: 4.3011\n",
      "Epoch 13/1000\n",
      "34/34 [==============================] - 0s 11ms/step - loss: 4.1992 - val_loss: 3.9820\n",
      "Epoch 14/1000\n",
      "34/34 [==============================] - 0s 11ms/step - loss: 3.9093 - val_loss: 3.8174\n",
      "Epoch 15/1000\n",
      "34/34 [==============================] - 0s 9ms/step - loss: 3.7486 - val_loss: 3.7334\n",
      "Epoch 16/1000\n",
      "34/34 [==============================] - 0s 10ms/step - loss: 3.6585 - val_loss: 3.6825\n",
      "Epoch 17/1000\n",
      "34/34 [==============================] - 0s 10ms/step - loss: 3.6064 - val_loss: 3.6595\n",
      "Epoch 18/1000\n",
      "34/34 [==============================] - 0s 9ms/step - loss: 3.5788 - val_loss: 3.6504\n",
      "Epoch 19/1000\n",
      "34/34 [==============================] - 0s 9ms/step - loss: 3.5630 - val_loss: 3.6478\n",
      "Epoch 20/1000\n",
      "34/34 [==============================] - 0s 9ms/step - loss: 3.5543 - val_loss: 3.6480\n",
      "Epoch 21/1000\n",
      "34/34 [==============================] - 0s 9ms/step - loss: 3.5510 - val_loss: 3.6503\n",
      "Epoch 22/1000\n",
      "34/34 [==============================] - 0s 9ms/step - loss: 3.5492 - val_loss: 3.6515\n",
      "Epoch 23/1000\n",
      "34/34 [==============================] - 0s 9ms/step - loss: 3.5476 - val_loss: 3.6519\n",
      "Epoch 24/1000\n",
      "34/34 [==============================] - 0s 9ms/step - loss: 3.5321 - val_loss: 3.5871\n",
      "Epoch 25/1000\n",
      "34/34 [==============================] - 0s 11ms/step - loss: 3.4088 - val_loss: 3.3418\n",
      "Epoch 26/1000\n",
      "34/34 [==============================] - 0s 9ms/step - loss: 3.1995 - val_loss: 3.0419\n",
      "Epoch 27/1000\n",
      "34/34 [==============================] - 0s 10ms/step - loss: 2.8601 - val_loss: 2.4387\n",
      "Epoch 28/1000\n",
      "34/34 [==============================] - 0s 9ms/step - loss: 2.0656 - val_loss: 1.7375\n",
      "Epoch 29/1000\n",
      "34/34 [==============================] - 0s 9ms/step - loss: 1.7184 - val_loss: 1.5697\n",
      "Epoch 30/1000\n",
      "34/34 [==============================] - 0s 9ms/step - loss: 1.6005 - val_loss: 1.4729\n",
      "Epoch 31/1000\n",
      "34/34 [==============================] - 0s 10ms/step - loss: 1.5361 - val_loss: 1.4181\n",
      "Epoch 32/1000\n",
      "34/34 [==============================] - 0s 11ms/step - loss: 1.5011 - val_loss: 1.3954\n",
      "Epoch 33/1000\n",
      "34/34 [==============================] - 0s 9ms/step - loss: 1.4883 - val_loss: 1.3664\n",
      "Epoch 34/1000\n",
      "34/34 [==============================] - 0s 9ms/step - loss: 1.4768 - val_loss: 1.3533\n",
      "Epoch 35/1000\n",
      "34/34 [==============================] - 0s 9ms/step - loss: 1.4604 - val_loss: 1.3348\n",
      "Epoch 36/1000\n",
      "34/34 [==============================] - 0s 9ms/step - loss: 1.4511 - val_loss: 1.3234\n",
      "Epoch 37/1000\n",
      "34/34 [==============================] - 0s 10ms/step - loss: 1.4459 - val_loss: 1.3237\n",
      "Epoch 38/1000\n",
      "34/34 [==============================] - 0s 9ms/step - loss: 1.4386 - val_loss: 1.3094\n",
      "Epoch 39/1000\n",
      "34/34 [==============================] - 0s 9ms/step - loss: 1.4372 - val_loss: 1.3019\n",
      "Epoch 40/1000\n",
      "34/34 [==============================] - 0s 9ms/step - loss: 1.4318 - val_loss: 1.2941\n",
      "Epoch 41/1000\n",
      "34/34 [==============================] - 0s 9ms/step - loss: 1.4264 - val_loss: 1.2974\n",
      "Epoch 42/1000\n",
      "34/34 [==============================] - 0s 9ms/step - loss: 1.4259 - val_loss: 1.2856\n",
      "Epoch 43/1000\n",
      "34/34 [==============================] - 0s 9ms/step - loss: 1.4234 - val_loss: 1.2790\n",
      "Epoch 44/1000\n",
      "34/34 [==============================] - 0s 9ms/step - loss: 1.4252 - val_loss: 1.2744\n",
      "Epoch 45/1000\n",
      "34/34 [==============================] - 0s 9ms/step - loss: 1.4182 - val_loss: 1.2701\n",
      "Epoch 46/1000\n",
      "34/34 [==============================] - 0s 9ms/step - loss: 1.4154 - val_loss: 1.2666\n",
      "Epoch 47/1000\n",
      "34/34 [==============================] - 0s 9ms/step - loss: 1.4128 - val_loss: 1.2691\n",
      "Epoch 48/1000\n",
      "34/34 [==============================] - 0s 9ms/step - loss: 1.4132 - val_loss: 1.2654\n",
      "Epoch 49/1000\n",
      "34/34 [==============================] - 0s 12ms/step - loss: 1.4121 - val_loss: 1.2654\n",
      "Epoch 50/1000\n",
      "34/34 [==============================] - 0s 9ms/step - loss: 1.4122 - val_loss: 1.2585\n",
      "Epoch 51/1000\n",
      "34/34 [==============================] - 0s 9ms/step - loss: 1.4090 - val_loss: 1.2582\n",
      "Epoch 52/1000\n",
      "34/34 [==============================] - 0s 9ms/step - loss: 1.4096 - val_loss: 1.2591\n",
      "Epoch 53/1000\n",
      "34/34 [==============================] - 0s 9ms/step - loss: 1.4074 - val_loss: 1.2584\n",
      "Epoch 54/1000\n",
      "34/34 [==============================] - 0s 14ms/step - loss: 1.4073 - val_loss: 1.2661\n",
      "Epoch 55/1000\n",
      "34/34 [==============================] - 0s 10ms/step - loss: 1.4067 - val_loss: 1.2589\n",
      "Epoch 56/1000\n",
      "34/34 [==============================] - 0s 10ms/step - loss: 1.4059 - val_loss: 1.2523\n",
      "Epoch 57/1000\n",
      "34/34 [==============================] - 0s 10ms/step - loss: 1.4078 - val_loss: 1.2522\n",
      "Epoch 58/1000\n",
      "34/34 [==============================] - 0s 10ms/step - loss: 1.4052 - val_loss: 1.2555\n",
      "Epoch 59/1000\n",
      "34/34 [==============================] - 0s 10ms/step - loss: 1.4050 - val_loss: 1.2574\n",
      "Epoch 60/1000\n",
      "34/34 [==============================] - 0s 11ms/step - loss: 1.4038 - val_loss: 1.2536\n",
      "Epoch 61/1000\n",
      "34/34 [==============================] - 0s 9ms/step - loss: 1.4034 - val_loss: 1.2566\n",
      "Epoch 62/1000\n",
      "34/34 [==============================] - 0s 9ms/step - loss: 1.4044 - val_loss: 1.2564\n",
      "Epoch 63/1000\n",
      "34/34 [==============================] - 0s 9ms/step - loss: 1.4031 - val_loss: 1.2516\n",
      "Epoch 64/1000\n",
      "34/34 [==============================] - 0s 9ms/step - loss: 1.4030 - val_loss: 1.2503\n",
      "Epoch 65/1000\n",
      "34/34 [==============================] - 0s 11ms/step - loss: 1.4038 - val_loss: 1.2681\n",
      "Epoch 66/1000\n",
      "34/34 [==============================] - 0s 12ms/step - loss: 1.4040 - val_loss: 1.2496\n",
      "Epoch 67/1000\n",
      "34/34 [==============================] - 0s 13ms/step - loss: 1.4014 - val_loss: 1.2491\n",
      "Epoch 68/1000\n",
      "34/34 [==============================] - 0s 11ms/step - loss: 1.4015 - val_loss: 1.2518\n",
      "Epoch 69/1000\n",
      "34/34 [==============================] - 0s 10ms/step - loss: 1.4005 - val_loss: 1.2515\n",
      "Epoch 70/1000\n",
      "34/34 [==============================] - 0s 10ms/step - loss: 1.4011 - val_loss: 1.2528\n",
      "Epoch 71/1000\n",
      "34/34 [==============================] - 0s 11ms/step - loss: 1.4031 - val_loss: 1.2531\n",
      "Epoch 72/1000\n",
      "34/34 [==============================] - 0s 9ms/step - loss: 1.4015 - val_loss: 1.2510\n",
      "Epoch 73/1000\n",
      "34/34 [==============================] - 0s 9ms/step - loss: 1.4035 - val_loss: 1.2510\n",
      "Epoch 74/1000\n",
      "34/34 [==============================] - 0s 9ms/step - loss: 1.4003 - val_loss: 1.2551\n",
      "Epoch 75/1000\n",
      "34/34 [==============================] - 0s 9ms/step - loss: 1.4032 - val_loss: 1.2527\n",
      "Epoch 76/1000\n",
      "34/34 [==============================] - 0s 9ms/step - loss: 1.4010 - val_loss: 1.2502\n",
      "Epoch 77/1000\n",
      "34/34 [==============================] - 0s 9ms/step - loss: 1.4019 - val_loss: 1.2485\n",
      "Epoch 78/1000\n",
      "34/34 [==============================] - 0s 9ms/step - loss: 1.3987 - val_loss: 1.2488\n",
      "Epoch 79/1000\n",
      "34/34 [==============================] - 0s 9ms/step - loss: 1.4000 - val_loss: 1.2487\n",
      "Epoch 80/1000\n",
      "34/34 [==============================] - 0s 8ms/step - loss: 1.3999 - val_loss: 1.2486\n",
      "Epoch 81/1000\n",
      "34/34 [==============================] - 0s 9ms/step - loss: 1.3992 - val_loss: 1.2510\n",
      "Epoch 82/1000\n",
      "34/34 [==============================] - 0s 9ms/step - loss: 1.4018 - val_loss: 1.2522\n",
      "Epoch 83/1000\n",
      "34/34 [==============================] - 0s 11ms/step - loss: 1.4005 - val_loss: 1.2522\n",
      "Epoch 84/1000\n",
      "34/34 [==============================] - 0s 9ms/step - loss: 1.3992 - val_loss: 1.2469\n",
      "Epoch 85/1000\n",
      "34/34 [==============================] - 0s 9ms/step - loss: 1.3990 - val_loss: 1.2467\n",
      "Epoch 86/1000\n",
      "34/34 [==============================] - 0s 9ms/step - loss: 1.4010 - val_loss: 1.2545\n",
      "Epoch 87/1000\n",
      "34/34 [==============================] - 0s 9ms/step - loss: 1.4013 - val_loss: 1.2482\n",
      "Epoch 88/1000\n",
      "34/34 [==============================] - 0s 10ms/step - loss: 1.4003 - val_loss: 1.2521\n",
      "Epoch 89/1000\n",
      "34/34 [==============================] - 0s 9ms/step - loss: 1.3999 - val_loss: 1.2471\n",
      "Epoch 90/1000\n",
      "34/34 [==============================] - 0s 9ms/step - loss: 1.3986 - val_loss: 1.2482\n",
      "Epoch 91/1000\n",
      "34/34 [==============================] - 0s 9ms/step - loss: 1.3989 - val_loss: 1.2506\n",
      "Epoch 92/1000\n",
      "34/34 [==============================] - 0s 9ms/step - loss: 1.3994 - val_loss: 1.2479\n",
      "Epoch 93/1000\n",
      "34/34 [==============================] - 0s 9ms/step - loss: 1.3986 - val_loss: 1.2511\n",
      "Epoch 94/1000\n",
      "34/34 [==============================] - 0s 9ms/step - loss: 1.3987 - val_loss: 1.2479\n",
      "Epoch 95/1000\n",
      "34/34 [==============================] - 0s 12ms/step - loss: 1.3971 - val_loss: 1.2470\n"
     ]
    },
    {
     "data": {
      "text/plain": [
       "<keras.callbacks.History at 0x7f1857c26fb0>"
      ]
     },
     "execution_count": 112,
     "metadata": {},
     "output_type": "execute_result"
    }
   ],
   "source": [
    "es = EarlyStopping(patience=10, monitor='val_loss', restore_best_weights=True)\n",
    "gru.fit(X_train_rnn, y_train_rnn, epochs=1000, batch_size=64, validation_split=0.2, callbacks=[es])"
   ]
  },
  {
   "cell_type": "code",
   "execution_count": 113,
   "metadata": {},
   "outputs": [
    {
     "data": {
      "text/plain": [
       "1.3671817779541016"
      ]
     },
     "execution_count": 113,
     "metadata": {},
     "output_type": "execute_result"
    }
   ],
   "source": [
    "gru.evaluate(X_train_rnn, y_train_rnn, verbose=0)"
   ]
  },
  {
   "cell_type": "code",
   "execution_count": 162,
   "id": "30c290f2",
   "metadata": {},
   "outputs": [],
   "source": [
    "gru2 = Sequential([\n",
    "    Input(shape=(X_train_rnn.shape[1], X_train_rnn.shape[2])),\n",
    "    Normalization(),\n",
    "    GRU(32, return_sequences=True),\n",
    "    GRU(32, return_sequences=False),\n",
    "    Dense(8, activation='relu'),\n",
    "    Dense(4, activation='relu'),\n",
    "    Dense(1, activation='linear')\n",
    "])\n",
    "\n",
    "gru2.compile(optimizer=Adam(learning_rate=0.001), loss='mean_absolute_error')"
   ]
  },
  {
   "cell_type": "code",
   "execution_count": 163,
   "id": "966c7246",
   "metadata": {},
   "outputs": [
    {
     "name": "stdout",
     "output_type": "stream",
     "text": [
      "Epoch 1/1000\n",
      "34/34 [==============================] - 4s 23ms/step - loss: 17.7616 - val_loss: 16.4457\n",
      "Epoch 2/1000\n",
      "34/34 [==============================] - 0s 5ms/step - loss: 15.7189 - val_loss: 14.1947\n",
      "Epoch 3/1000\n",
      "34/34 [==============================] - 0s 5ms/step - loss: 13.1338 - val_loss: 11.2996\n",
      "Epoch 4/1000\n",
      "34/34 [==============================] - 0s 5ms/step - loss: 9.7768 - val_loss: 7.3942\n",
      "Epoch 5/1000\n",
      "34/34 [==============================] - 0s 5ms/step - loss: 5.7725 - val_loss: 4.1555\n",
      "Epoch 6/1000\n",
      "34/34 [==============================] - 0s 5ms/step - loss: 3.7870 - val_loss: 3.6533\n",
      "Epoch 7/1000\n",
      "34/34 [==============================] - 0s 5ms/step - loss: 3.5527 - val_loss: 3.6547\n",
      "Epoch 8/1000\n",
      "34/34 [==============================] - 0s 5ms/step - loss: 3.5490 - val_loss: 3.6587\n",
      "Epoch 9/1000\n",
      "34/34 [==============================] - 0s 5ms/step - loss: 3.5508 - val_loss: 3.6549\n",
      "Epoch 10/1000\n",
      "34/34 [==============================] - 0s 5ms/step - loss: 3.5485 - val_loss: 3.6505\n",
      "Epoch 11/1000\n",
      "34/34 [==============================] - 0s 5ms/step - loss: 3.5168 - val_loss: 3.4055\n",
      "Epoch 12/1000\n",
      "34/34 [==============================] - 0s 5ms/step - loss: 2.5657 - val_loss: 1.5631\n",
      "Epoch 13/1000\n",
      "34/34 [==============================] - 0s 5ms/step - loss: 1.5165 - val_loss: 1.3277\n",
      "Epoch 14/1000\n",
      "34/34 [==============================] - 0s 5ms/step - loss: 1.4405 - val_loss: 1.2917\n",
      "Epoch 15/1000\n",
      "34/34 [==============================] - 0s 5ms/step - loss: 1.4275 - val_loss: 1.2825\n",
      "Epoch 16/1000\n",
      "34/34 [==============================] - 0s 5ms/step - loss: 1.4290 - val_loss: 1.2689\n",
      "Epoch 17/1000\n",
      "34/34 [==============================] - 0s 5ms/step - loss: 1.4239 - val_loss: 1.2850\n",
      "Epoch 18/1000\n",
      "34/34 [==============================] - 0s 5ms/step - loss: 1.4252 - val_loss: 1.2595\n",
      "Epoch 19/1000\n",
      "34/34 [==============================] - 0s 5ms/step - loss: 1.4159 - val_loss: 1.2716\n",
      "Epoch 20/1000\n",
      "34/34 [==============================] - 0s 5ms/step - loss: 1.4108 - val_loss: 1.2581\n",
      "Epoch 21/1000\n",
      "34/34 [==============================] - 0s 5ms/step - loss: 1.4106 - val_loss: 1.2530\n",
      "Epoch 22/1000\n",
      "34/34 [==============================] - 0s 5ms/step - loss: 1.4110 - val_loss: 1.2567\n",
      "Epoch 23/1000\n",
      "34/34 [==============================] - 0s 5ms/step - loss: 1.4088 - val_loss: 1.2541\n",
      "Epoch 24/1000\n",
      "34/34 [==============================] - 0s 5ms/step - loss: 1.4090 - val_loss: 1.2597\n",
      "Epoch 25/1000\n",
      "34/34 [==============================] - 0s 5ms/step - loss: 1.4068 - val_loss: 1.2609\n",
      "Epoch 26/1000\n",
      "34/34 [==============================] - 0s 5ms/step - loss: 1.4059 - val_loss: 1.2508\n",
      "Epoch 27/1000\n",
      "34/34 [==============================] - 0s 5ms/step - loss: 1.4027 - val_loss: 1.2498\n",
      "Epoch 28/1000\n",
      "34/34 [==============================] - 0s 5ms/step - loss: 1.4038 - val_loss: 1.2516\n",
      "Epoch 29/1000\n",
      "34/34 [==============================] - 0s 5ms/step - loss: 1.4041 - val_loss: 1.2494\n",
      "Epoch 30/1000\n",
      "34/34 [==============================] - 0s 5ms/step - loss: 1.4065 - val_loss: 1.2530\n",
      "Epoch 31/1000\n",
      "34/34 [==============================] - 0s 5ms/step - loss: 1.4030 - val_loss: 1.2523\n",
      "Epoch 32/1000\n",
      "34/34 [==============================] - 0s 5ms/step - loss: 1.4047 - val_loss: 1.2500\n",
      "Epoch 33/1000\n",
      "34/34 [==============================] - 0s 5ms/step - loss: 1.4013 - val_loss: 1.2486\n",
      "Epoch 34/1000\n",
      "34/34 [==============================] - 0s 5ms/step - loss: 1.3998 - val_loss: 1.2488\n",
      "Epoch 35/1000\n",
      "34/34 [==============================] - 0s 5ms/step - loss: 1.4000 - val_loss: 1.2500\n",
      "Epoch 36/1000\n",
      "34/34 [==============================] - 0s 5ms/step - loss: 1.4014 - val_loss: 1.2578\n",
      "Epoch 37/1000\n",
      "34/34 [==============================] - 0s 5ms/step - loss: 1.4038 - val_loss: 1.2516\n",
      "Epoch 38/1000\n",
      "34/34 [==============================] - 0s 5ms/step - loss: 1.3985 - val_loss: 1.2470\n",
      "Epoch 39/1000\n",
      "34/34 [==============================] - 0s 5ms/step - loss: 1.4000 - val_loss: 1.2505\n",
      "Epoch 40/1000\n",
      "34/34 [==============================] - 0s 5ms/step - loss: 1.3991 - val_loss: 1.2578\n",
      "Epoch 41/1000\n",
      "34/34 [==============================] - 0s 5ms/step - loss: 1.4039 - val_loss: 1.2632\n",
      "Epoch 42/1000\n",
      "34/34 [==============================] - 0s 5ms/step - loss: 1.4013 - val_loss: 1.2474\n",
      "Epoch 43/1000\n",
      "34/34 [==============================] - 0s 5ms/step - loss: 1.3979 - val_loss: 1.2553\n",
      "Epoch 44/1000\n",
      "34/34 [==============================] - 0s 5ms/step - loss: 1.4033 - val_loss: 1.2613\n",
      "Epoch 45/1000\n",
      "34/34 [==============================] - 0s 5ms/step - loss: 1.4037 - val_loss: 1.2519\n",
      "Epoch 46/1000\n",
      "34/34 [==============================] - 0s 5ms/step - loss: 1.4002 - val_loss: 1.2515\n",
      "Epoch 47/1000\n",
      "34/34 [==============================] - 0s 5ms/step - loss: 1.3984 - val_loss: 1.2482\n",
      "Epoch 48/1000\n",
      "34/34 [==============================] - 0s 5ms/step - loss: 1.3987 - val_loss: 1.2451\n",
      "Epoch 49/1000\n",
      "34/34 [==============================] - 0s 5ms/step - loss: 1.4010 - val_loss: 1.2493\n",
      "Epoch 50/1000\n",
      "34/34 [==============================] - 0s 5ms/step - loss: 1.3973 - val_loss: 1.2484\n",
      "Epoch 51/1000\n",
      "34/34 [==============================] - 0s 5ms/step - loss: 1.3990 - val_loss: 1.2467\n",
      "Epoch 52/1000\n",
      "34/34 [==============================] - 0s 5ms/step - loss: 1.3966 - val_loss: 1.2535\n",
      "Epoch 53/1000\n",
      "34/34 [==============================] - 0s 5ms/step - loss: 1.3956 - val_loss: 1.2485\n",
      "Epoch 54/1000\n",
      "34/34 [==============================] - 0s 5ms/step - loss: 1.3952 - val_loss: 1.2594\n",
      "Epoch 55/1000\n",
      "34/34 [==============================] - 0s 5ms/step - loss: 1.4067 - val_loss: 1.2566\n",
      "Epoch 56/1000\n",
      "34/34 [==============================] - 0s 5ms/step - loss: 1.4007 - val_loss: 1.2479\n",
      "Epoch 57/1000\n",
      "34/34 [==============================] - 0s 5ms/step - loss: 1.3974 - val_loss: 1.2455\n",
      "Epoch 58/1000\n",
      "34/34 [==============================] - 0s 5ms/step - loss: 1.3972 - val_loss: 1.2463\n"
     ]
    },
    {
     "data": {
      "text/plain": [
       "<keras.src.callbacks.History at 0x21ae5f7cb50>"
      ]
     },
     "execution_count": 163,
     "metadata": {},
     "output_type": "execute_result"
    }
   ],
   "source": [
    "es = EarlyStopping(patience=10, monitor='val_loss', restore_best_weights=True)\n",
    "gru2.fit(X_train_rnn, y_train_rnn, epochs=1000, batch_size=64, validation_split=0.2, callbacks=[es])"
   ]
  },
  {
   "cell_type": "code",
   "execution_count": 164,
   "id": "19b06437",
   "metadata": {},
   "outputs": [
    {
     "data": {
      "text/plain": [
       "1.3645719289779663"
      ]
     },
     "execution_count": 164,
     "metadata": {},
     "output_type": "execute_result"
    }
   ],
   "source": [
    "gru2.evaluate(X_train_rnn, y_train_rnn, verbose=0)"
   ]
  },
  {
   "cell_type": "code",
   "execution_count": 165,
   "id": "e6aa71a5",
   "metadata": {},
   "outputs": [
    {
     "data": {
      "text/plain": [
       "1.4455574750900269"
      ]
     },
     "execution_count": 165,
     "metadata": {},
     "output_type": "execute_result"
    }
   ],
   "source": [
    "gru2.evaluate(X_test_rnn, y_test_rnn, verbose=0)"
   ]
  },
  {
   "cell_type": "code",
   "execution_count": null,
   "id": "a4e472ed",
   "metadata": {},
   "outputs": [],
   "source": []
  }
 ],
 "metadata": {
  "kernelspec": {
   "display_name": "Python 3 (ipykernel)",
   "language": "python",
   "name": "python3"
  },
  "language_info": {
   "codemirror_mode": {
    "name": "ipython",
    "version": 3
   },
   "file_extension": ".py",
   "mimetype": "text/x-python",
   "name": "python",
   "nbconvert_exporter": "python",
   "pygments_lexer": "ipython3",
   "version": "3.11.4"
  },
  "toc": {
   "base_numbering": 1,
   "nav_menu": {},
   "number_sections": true,
   "sideBar": true,
   "skip_h1_title": false,
   "title_cell": "Table of Contents",
   "title_sidebar": "Contents",
   "toc_cell": false,
   "toc_position": {
    "height": "calc(100% - 180px)",
    "left": "10px",
    "top": "150px",
    "width": "299px"
   },
   "toc_section_display": true,
   "toc_window_display": true
  }
 },
 "nbformat": 4,
 "nbformat_minor": 5
}
