{
 "cells": [
  {
   "cell_type": "code",
   "execution_count": 1,
   "metadata": {},
   "outputs": [],
   "source": [
    "import random\n",
    "import numpy as np\n",
    "import pandas as pd"
   ]
  },
  {
   "cell_type": "code",
   "execution_count": 2,
   "metadata": {},
   "outputs": [
    {
     "data": {
      "text/html": [
       "<div>\n",
       "<style scoped>\n",
       "    .dataframe tbody tr th:only-of-type {\n",
       "        vertical-align: middle;\n",
       "    }\n",
       "\n",
       "    .dataframe tbody tr th {\n",
       "        vertical-align: top;\n",
       "    }\n",
       "\n",
       "    .dataframe thead th {\n",
       "        text-align: right;\n",
       "    }\n",
       "</style>\n",
       "<table border=\"1\" class=\"dataframe\">\n",
       "  <thead>\n",
       "    <tr style=\"text-align: right;\">\n",
       "      <th></th>\n",
       "      <th>City1</th>\n",
       "      <th>City2</th>\n",
       "      <th>Minutes</th>\n",
       "    </tr>\n",
       "  </thead>\n",
       "  <tbody>\n",
       "    <tr>\n",
       "      <th>0</th>\n",
       "      <td>Barcelona</td>\n",
       "      <td>Vic</td>\n",
       "      <td>85</td>\n",
       "    </tr>\n",
       "    <tr>\n",
       "      <th>1</th>\n",
       "      <td>Vic</td>\n",
       "      <td>Barcelona</td>\n",
       "      <td>80</td>\n",
       "    </tr>\n",
       "    <tr>\n",
       "      <th>2</th>\n",
       "      <td>Barcelona</td>\n",
       "      <td>Girona</td>\n",
       "      <td>100</td>\n",
       "    </tr>\n",
       "    <tr>\n",
       "      <th>3</th>\n",
       "      <td>Girona</td>\n",
       "      <td>Barcelona</td>\n",
       "      <td>95</td>\n",
       "    </tr>\n",
       "    <tr>\n",
       "      <th>4</th>\n",
       "      <td>Barcelona</td>\n",
       "      <td>Tarragona</td>\n",
       "      <td>90</td>\n",
       "    </tr>\n",
       "  </tbody>\n",
       "</table>\n",
       "</div>"
      ],
      "text/plain": [
       "       City1      City2  Minutes\n",
       "0  Barcelona        Vic       85\n",
       "1        Vic  Barcelona       80\n",
       "2  Barcelona     Girona      100\n",
       "3     Girona  Barcelona       95\n",
       "4  Barcelona  Tarragona       90"
      ]
     },
     "execution_count": 2,
     "metadata": {},
     "output_type": "execute_result"
    }
   ],
   "source": [
    "df = pd.read_csv('data/tsp.csv')\n",
    "df.head()"
   ]
  },
  {
   "cell_type": "code",
   "execution_count": 3,
   "metadata": {},
   "outputs": [
    {
     "data": {
      "text/plain": [
       "{0: 'Barcelona',\n",
       " 1: 'Vic',\n",
       " 2: 'Girona',\n",
       " 3: 'Tarragona',\n",
       " 4: 'Lleida',\n",
       " 5: 'Figueres',\n",
       " 6: 'Reus',\n",
       " 7: 'Manresa',\n",
       " 8: 'Sabadell'}"
      ]
     },
     "execution_count": 3,
     "metadata": {},
     "output_type": "execute_result"
    }
   ],
   "source": [
    "city_ids = {i: city for i, city in enumerate(df['City1'].unique())}\n",
    "city_ids"
   ]
  },
  {
   "cell_type": "code",
   "execution_count": 4,
   "metadata": {},
   "outputs": [],
   "source": [
    "def create_individual(num_cities):\n",
    "    \"\"\"Create a random individual (route).\"\"\"\n",
    "    route = list(range(num_cities))\n",
    "    random.shuffle(route)\n",
    "    return route"
   ]
  },
  {
   "cell_type": "code",
   "execution_count": 38,
   "metadata": {},
   "outputs": [],
   "source": [
    "def get_city_name(city_id):\n",
    "    \"\"\"Get the city name from the city id.\"\"\"\n",
    "    return city_ids[city_id]\n",
    "\n",
    "def compute_fitness(individual):\n",
    "    \"\"\"Calculate the total distance of the route.\"\"\"\n",
    "    total_distance = 0\n",
    "    for i in range(len(individual)):\n",
    "        current_city_name = get_city_name(individual[i])\n",
    "        next_city_name = get_city_name(individual[(i + 1) % len(individual)])\n",
    "\n",
    "        # Find the distance between the two cities\n",
    "        total_distance += df[(df['City1'] == current_city_name) & (df['City2'] == next_city_name)]['Minutes'].iloc[0]\n",
    "    \n",
    "    return total_distance"
   ]
  },
  {
   "cell_type": "code",
   "execution_count": 9,
   "metadata": {},
   "outputs": [],
   "source": [
    "def select_parents(population, fitnesses):\n",
    "    \"\"\"Select two parents based on their fitness. Less fitness -> higher chance to be selected.\"\"\"\n",
    "    max_fitness = max(fitnesses)\n",
    "    inverted_fitnesses = [max_fitness - fitness for fitness in fitnesses]\n",
    "    total_inverted_fitness = sum(inverted_fitnesses)\n",
    "    selection_probs = [fitness / total_inverted_fitness for fitness in inverted_fitnesses]\n",
    "    return random.choices(population, k=2, weights=selection_probs)"
   ]
  },
  {
   "cell_type": "code",
   "execution_count": 10,
   "metadata": {},
   "outputs": [],
   "source": [
    "def crossover(parent1, parent2):\n",
    "    \"\"\"Perform order crossover.\"\"\"\n",
    "    start, end = sorted(random.sample(range(len(parent1)), 2))\n",
    "    child = [None] * len(parent1)\n",
    "    child[start:end] = parent1[start:end]\n",
    "    parent2_filtered = [item for item in parent2 if item not in child]\n",
    "    child[:start] = parent2_filtered[:start]\n",
    "    child[end:] = parent2_filtered[start:]\n",
    "    return child"
   ]
  },
  {
   "cell_type": "code",
   "execution_count": 33,
   "metadata": {},
   "outputs": [],
   "source": [
    "def mutate(individual, mutation_rate):\n",
    "    \"\"\"Perform swap mutation.\"\"\"\n",
    "    for i in range(len(individual)):\n",
    "        if np.random.random() < mutation_rate:\n",
    "            swap_with = np.random.randint(0, len(individual))\n",
    "            individual[i], individual[swap_with] = individual[swap_with], individual[i]\n",
    "    return individual"
   ]
  },
  {
   "cell_type": "code",
   "execution_count": 36,
   "metadata": {},
   "outputs": [],
   "source": [
    "def run_genetic_algorithm(seq_length, population_size, generations, mutation_rate, keep_best):\n",
    "    \"\"\"\n",
    "    Run the genetic algorithm.\n",
    "\n",
    "    seq_length: length of the bit string\n",
    "    population_size: number of individuals in the population\n",
    "    generations: number of generations to run\n",
    "    mutation_rate: probability of mutation for each gene\n",
    "    keep_best: whether to keep the best individual from the previous generation\n",
    "\n",
    "    Return the final population.\n",
    "    \"\"\"\n",
    "\n",
    "    # Initialize population\n",
    "    population = [create_individual(seq_length) for _ in range(population_size)]\n",
    "    fitnesses = [compute_fitness(individual) for individual in population]\n",
    "\n",
    "    for generation in range(generations):\n",
    "        # Create new generation through selection, crossover, and mutation\n",
    "\n",
    "        # Initialize new population\n",
    "        new_population = []\n",
    "        if keep_best:\n",
    "            sorted_fitness_idxs = np.argsort(fitnesses, axis=0)\n",
    "            new_population.append(population[sorted_fitness_idxs[0]])\n",
    "            new_population.append(population[sorted_fitness_idxs[1]])\n",
    "\n",
    "        for _ in range((population_size - len(new_population)) // 2):\n",
    "            # Select two parents\n",
    "            parent1, parent2 = select_parents(population, fitnesses)\n",
    "\n",
    "            # Crossover parents\n",
    "            child1 = crossover(parent1, parent2)\n",
    "            child2 = crossover(parent1, parent2)\n",
    "\n",
    "            # Mutate children\n",
    "            child1 = mutate(child1, mutation_rate)\n",
    "            child2 = mutate(child2, mutation_rate)\n",
    "\n",
    "            # Add children to new population\n",
    "            new_population.extend([child1, child2])\n",
    "\n",
    "        # Update population and compute new fitnesses\n",
    "        population = new_population\n",
    "        fitnesses = [compute_fitness(individual) for individual in population]\n",
    "\n",
    "        # Print out the best fitness in this generation\n",
    "        best_fitness = min(fitnesses)\n",
    "        print(f\"Generation {generation}, Best Fitness: {best_fitness}\")\n",
    "\n",
    "    return population"
   ]
  },
  {
   "cell_type": "code",
   "execution_count": 43,
   "metadata": {},
   "outputs": [
    {
     "name": "stdout",
     "output_type": "stream",
     "text": [
      "Generation 0, Best Fitness: 620\n",
      "Generation 1, Best Fitness: 620\n",
      "Generation 2, Best Fitness: 605\n",
      "Generation 3, Best Fitness: 605\n",
      "Generation 4, Best Fitness: 605\n",
      "Generation 5, Best Fitness: 605\n",
      "Generation 6, Best Fitness: 605\n",
      "Generation 7, Best Fitness: 605\n",
      "Generation 8, Best Fitness: 605\n",
      "Generation 9, Best Fitness: 605\n",
      "Generation 10, Best Fitness: 605\n",
      "Generation 11, Best Fitness: 605\n",
      "Generation 12, Best Fitness: 605\n",
      "Generation 13, Best Fitness: 550\n",
      "Generation 14, Best Fitness: 550\n",
      "Generation 15, Best Fitness: 550\n",
      "Generation 16, Best Fitness: 550\n",
      "Generation 17, Best Fitness: 550\n",
      "Generation 18, Best Fitness: 550\n",
      "Generation 19, Best Fitness: 550\n",
      "Generation 20, Best Fitness: 550\n",
      "Generation 21, Best Fitness: 550\n",
      "Generation 22, Best Fitness: 550\n",
      "Generation 23, Best Fitness: 550\n",
      "Generation 24, Best Fitness: 550\n",
      "Generation 25, Best Fitness: 550\n",
      "Generation 26, Best Fitness: 550\n",
      "Generation 27, Best Fitness: 550\n",
      "Generation 28, Best Fitness: 550\n",
      "Generation 29, Best Fitness: 550\n",
      "Generation 30, Best Fitness: 550\n",
      "Generation 31, Best Fitness: 550\n",
      "Generation 32, Best Fitness: 550\n",
      "Generation 33, Best Fitness: 550\n",
      "Generation 34, Best Fitness: 550\n",
      "Generation 35, Best Fitness: 550\n",
      "Generation 36, Best Fitness: 550\n",
      "Generation 37, Best Fitness: 550\n",
      "Generation 38, Best Fitness: 550\n",
      "Generation 39, Best Fitness: 550\n",
      "Generation 40, Best Fitness: 550\n",
      "Generation 41, Best Fitness: 550\n",
      "Generation 42, Best Fitness: 550\n",
      "Generation 43, Best Fitness: 550\n",
      "Generation 44, Best Fitness: 550\n",
      "Generation 45, Best Fitness: 550\n",
      "Generation 46, Best Fitness: 550\n",
      "Generation 47, Best Fitness: 550\n",
      "Generation 48, Best Fitness: 550\n",
      "Generation 49, Best Fitness: 550\n"
     ]
    }
   ],
   "source": [
    "# Run the GA\n",
    "final_population = run_genetic_algorithm(seq_length=len(city_ids), population_size=100, generations=50, mutation_rate=0.2, keep_best=True)"
   ]
  },
  {
   "cell_type": "code",
   "execution_count": 44,
   "metadata": {},
   "outputs": [
    {
     "name": "stdout",
     "output_type": "stream",
     "text": [
      "Best individual: [8, 2, 5, 1, 7, 4, 3, 6, 0]\n",
      "Fitness: 550min\n",
      "\n",
      "Itinerary:\n",
      "Sabadell --> Girona: 75min\n",
      "Girona --> Figueres: 50min\n",
      "Figueres --> Vic: 95min\n",
      "Vic --> Manresa: 45min\n",
      "Manresa --> Lleida: 85min\n",
      "Lleida --> Tarragona: 55min\n",
      "Tarragona --> Reus: 20min\n",
      "Reus --> Barcelona: 95min\n",
      "Barcelona --> Sabadell: 30min\n"
     ]
    }
   ],
   "source": [
    "fitnesses = [compute_fitness(individual) for individual in final_population]\n",
    "best_idx = np.argmin(fitnesses)\n",
    "best_individual = final_population[best_idx]\n",
    "\n",
    "print(f\"Best individual: {best_individual}\")\n",
    "print(f\"Fitness: {fitnesses[best_idx]}min\")\n",
    "print()\n",
    "\n",
    "print(\"Itinerary:\")\n",
    "for i in range(len(best_individual)):\n",
    "    current_city = get_city_name(best_individual[i])\n",
    "    next_city = get_city_name(best_individual[(i + 1) % len(best_individual)])\n",
    "    distance = df[(df['City1'] == current_city) & (df['City2'] == next_city)]['Minutes'].iloc[0]\n",
    "    print(f'{current_city} --> {next_city}: {distance}min')"
   ]
  }
 ],
 "metadata": {
  "kernelspec": {
   "display_name": "Python 3",
   "language": "python",
   "name": "python3"
  },
  "language_info": {
   "codemirror_mode": {
    "name": "ipython",
    "version": 3
   },
   "file_extension": ".py",
   "mimetype": "text/x-python",
   "name": "python",
   "nbconvert_exporter": "python",
   "pygments_lexer": "ipython3",
   "version": "3.10.12"
  }
 },
 "nbformat": 4,
 "nbformat_minor": 2
}
