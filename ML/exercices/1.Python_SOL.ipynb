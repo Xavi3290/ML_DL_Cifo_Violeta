{
 "cells": [
  {
   "cell_type": "markdown",
   "id": "aee9a2c9",
   "metadata": {},
   "source": [
    "# Python Exercises\n",
    "\n",
    "Python cheatsheet: https://quickref.me/python.html\n",
    "\n",
    "Feel free to use any Python function from the built-in functions or typical Python libraries when you consider itappropriate. It is important to not repeat code that is already implemented."
   ]
  },
  {
   "cell_type": "markdown",
   "id": "454bea77",
   "metadata": {},
   "source": [
    "## Word Sorting\n",
    "\n",
    "Given a list of words (strings), obtain another list with the words sorted alphabetically."
   ]
  },
  {
   "cell_type": "code",
   "execution_count": null,
   "id": "076b211c",
   "metadata": {},
   "outputs": [],
   "source": [
    "words = [\"banana\", \"apple\", \"cherry\"]\n",
    "sorted(words)"
   ]
  },
  {
   "cell_type": "markdown",
   "id": "58379bdd",
   "metadata": {},
   "source": [
    "## Save a List to a File\n",
    "\n",
    "Given a list of words, create a text file containing the words from the list, in the same order, with one word per line."
   ]
  },
  {
   "cell_type": "code",
   "execution_count": null,
   "id": "8797adab",
   "metadata": {},
   "outputs": [],
   "source": [
    "words = [\"banana\", \"apple\", \"cherry\"]\n",
    "with open(\"files/list_ex2.txt\", 'w') as f:\n",
    "    for e in f:\n",
    "        f.write(e + '\\n')"
   ]
  },
  {
   "cell_type": "markdown",
   "id": "51a44e42",
   "metadata": {},
   "source": [
    "## Read a List from a File\n",
    "\n",
    "Given a text file containing a word on each line, read it and store the words in a list in the same order."
   ]
  },
  {
   "cell_type": "code",
   "execution_count": null,
   "id": "1fd0ab3e",
   "metadata": {},
   "outputs": [],
   "source": [
    "with open('files/list_ex2.txt', 'r') as f:\n",
    "    l3 = [l.strip() for l in f.readlines()]\n",
    "l3"
   ]
  },
  {
   "cell_type": "markdown",
   "id": "b814cc69",
   "metadata": {},
   "source": [
    "## List of Pairs from a Dictionary\n",
    "\n",
    "Given a dictionary, with its keys and values, create a list of pairs where the first element of each pair is a key and the second is the corresponding value.\n",
    "\n",
    "Example: {'a': 1, 'b': 2} → [('a', 1), ('b', 2)]"
   ]
  },
  {
   "cell_type": "code",
   "execution_count": 5,
   "id": "22748c96",
   "metadata": {},
   "outputs": [
    {
     "data": {
      "text/plain": [
       "[('a', 1), ('b', 2), ('c', 3)]"
      ]
     },
     "execution_count": 5,
     "metadata": {},
     "output_type": "execute_result"
    }
   ],
   "source": [
    "d = {\n",
    "    'a': 1,\n",
    "    'b': 2,\n",
    "    'c': 3\n",
    "}\n",
    "\n",
    "[(k, v) for k, v in d.items()]"
   ]
  },
  {
   "cell_type": "markdown",
   "id": "8ee18dd2",
   "metadata": {},
   "source": [
    "## Dictionary from a List of Pairs\n",
    "\n",
    "Given a list of key-value pairs (like the output of the previous exercise), construct the corresponding dictionary.\n",
    "\n",
    "Hint: Python has a function for this."
   ]
  },
  {
   "cell_type": "code",
   "execution_count": 6,
   "id": "103b1ce9",
   "metadata": {},
   "outputs": [
    {
     "data": {
      "text/plain": [
       "{'a': 1, 'b': 2, 'c': 3}"
      ]
     },
     "execution_count": 6,
     "metadata": {},
     "output_type": "execute_result"
    }
   ],
   "source": [
    "l6 = [('a', 1), ('b', 2), ('c', 3)]\n",
    "dict(l6)"
   ]
  },
  {
   "cell_type": "markdown",
   "id": "8dc45cf1",
   "metadata": {},
   "source": [
    "## Prime Numbers and Sieve of Eratosthenes\n",
    "\n",
    "a) Implement a function to determine if a number is prime or composite (without using the Sieve of Eratosthenes).\n",
    "\n",
    "b) Implement the Sieve of Eratosthenes algorithm to find prime numbers smaller than a number $N$."
   ]
  },
  {
   "cell_type": "markdown",
   "id": "cf9f7420",
   "metadata": {},
   "source": [
    "### a"
   ]
  },
  {
   "cell_type": "code",
   "execution_count": 7,
   "id": "7df692a9",
   "metadata": {},
   "outputs": [],
   "source": [
    "import numpy as np"
   ]
  },
  {
   "cell_type": "code",
   "execution_count": 10,
   "id": "fa5e168b",
   "metadata": {},
   "outputs": [],
   "source": [
    "def is_prime(n):\n",
    "    for i in range(2, int(np.sqrt(n)) + 1):\n",
    "        if n % i == 0:\n",
    "            return False\n",
    "    return True"
   ]
  },
  {
   "cell_type": "code",
   "execution_count": 11,
   "id": "1f0d4746",
   "metadata": {},
   "outputs": [
    {
     "data": {
      "text/plain": [
       "False"
      ]
     },
     "execution_count": 11,
     "metadata": {},
     "output_type": "execute_result"
    }
   ],
   "source": [
    "is_prime(57)"
   ]
  },
  {
   "cell_type": "markdown",
   "id": "e92325bf",
   "metadata": {},
   "source": [
    "### b"
   ]
  },
  {
   "cell_type": "code",
   "execution_count": 13,
   "id": "d8b53e28",
   "metadata": {},
   "outputs": [],
   "source": [
    "def eratosthenes(n):\n",
    "    prime = [True for i in range(n + 1)]\n",
    "    p = 2\n",
    "    while (p * p <= n):\n",
    "        if prime[p] == True:\n",
    "            for i in range(p * p, n + 1, p):\n",
    "                prime[i] = False\n",
    "        p += 1\n",
    "  \n",
    "    for p in range(2, n + 1):\n",
    "        if prime[p]:\n",
    "            print(p)"
   ]
  },
  {
   "cell_type": "code",
   "execution_count": 16,
   "id": "4ba05e24",
   "metadata": {},
   "outputs": [
    {
     "name": "stdout",
     "output_type": "stream",
     "text": [
      "2\n",
      "3\n",
      "5\n",
      "7\n",
      "11\n",
      "13\n",
      "17\n",
      "19\n",
      "23\n",
      "29\n",
      "31\n",
      "37\n",
      "41\n",
      "43\n",
      "47\n",
      "53\n",
      "59\n",
      "61\n"
     ]
    }
   ],
   "source": [
    "eratosthenes(61)"
   ]
  },
  {
   "cell_type": "markdown",
   "id": "7ca7acbc",
   "metadata": {},
   "source": [
    "## Combinations\n",
    "\n",
    "Given a set and a number $N$, implement a function that enumerates all combinations of $N$ elements taken from the given set (in this case, repetitions are not allowed).\n",
    "\n",
    "Example: [1, 2, 3, 4] in combinations of 3 elements → [(1, 2, 3), (1, 2, 4), (1, 3, 4), (2, 3, 4)]\n",
    "\n",
    "Hint: There are functions from external libraries that already do this."
   ]
  },
  {
   "cell_type": "code",
   "execution_count": 17,
   "id": "c7efb027",
   "metadata": {},
   "outputs": [],
   "source": [
    "import itertools"
   ]
  },
  {
   "cell_type": "code",
   "execution_count": 18,
   "id": "47aec9f4",
   "metadata": {},
   "outputs": [
    {
     "data": {
      "text/plain": [
       "[(1, 2, 3), (1, 2, 4), (1, 3, 4), (2, 3, 4)]"
      ]
     },
     "execution_count": 18,
     "metadata": {},
     "output_type": "execute_result"
    }
   ],
   "source": [
    "l8 = [1, 2, 3, 4]\n",
    "list(itertools.combinations(l8, 3))"
   ]
  },
  {
   "cell_type": "markdown",
   "id": "e4e0d8b1",
   "metadata": {},
   "source": [
    "## Combinatorial Numbers\n",
    "\n",
    "Implement a function that calculates binomial coefficients (also known as elements of Pascal's Triangle) up to a depth of $N$. Print them in a \"triangle format\".\n",
    "\n",
    "Research the definition of binomial coefficients; many formulae can assist in efficient computation.\n",
    "\n",
    "Example:\n",
    "```\n",
    "      1 \n",
    "     1 1 \n",
    "    1 2 1 \n",
    "   1 3 3 1 \n",
    "  1 4 6 4 1\n",
    "```"
   ]
  },
  {
   "cell_type": "code",
   "execution_count": 19,
   "id": "99d62e8a",
   "metadata": {},
   "outputs": [],
   "source": [
    "from math import factorial\n",
    "\n",
    "def pascal(n):\n",
    "    for i in range(n):\n",
    "        for j in range(n-i+1):\n",
    "            print(end=\" \")\n",
    "\n",
    "        for j in range(i+1):\n",
    "            print(factorial(i) // (factorial(j) * factorial(i-j)), end=' ')\n",
    "\n",
    "        print()"
   ]
  },
  {
   "cell_type": "code",
   "execution_count": 20,
   "id": "d415aff3",
   "metadata": {},
   "outputs": [
    {
     "name": "stdout",
     "output_type": "stream",
     "text": [
      "      1 \n",
      "     1 1 \n",
      "    1 2 1 \n",
      "   1 3 3 1 \n",
      "  1 4 6 4 1 \n"
     ]
    }
   ],
   "source": [
    "pascal(5)"
   ]
  },
  {
   "cell_type": "markdown",
   "id": "44807b5a",
   "metadata": {},
   "source": [
    "## Dual Sorting Criterion\n",
    "\n",
    "Given a list of pairs:\n",
    "1. Sort them based on the first element of the pair\n",
    "    - Example: [(2, 3), (9, 5), (7, 2)] → [(2, 3), (7, 2), (9, 5)]\n",
    "2. Sort them based on the second element of the pair.\n",
    "    - Example: [(2, 3), (9, 5), (7, 2)] → [(7, 2), (2, 3), (9, 5)]"
   ]
  },
  {
   "cell_type": "code",
   "execution_count": 21,
   "id": "de3f0887",
   "metadata": {},
   "outputs": [],
   "source": [
    "def list_of_pairs_sort(l, first=True):\n",
    "    i = 0 if first else 1\n",
    "    return sorted(l, key=lambda e: e[i])"
   ]
  },
  {
   "cell_type": "code",
   "execution_count": 22,
   "id": "421f3150",
   "metadata": {},
   "outputs": [
    {
     "data": {
      "text/plain": [
       "[(2, 3), (7, 2), (9, 5)]"
      ]
     },
     "execution_count": 22,
     "metadata": {},
     "output_type": "execute_result"
    }
   ],
   "source": [
    "l9 = [(2, 3), (9, 5), (7, 2)]\n",
    "list_of_pairs_sort(l9, first=True)"
   ]
  },
  {
   "cell_type": "code",
   "execution_count": 23,
   "id": "6fd22763",
   "metadata": {},
   "outputs": [
    {
     "data": {
      "text/plain": [
       "[(7, 2), (2, 3), (9, 5)]"
      ]
     },
     "execution_count": 23,
     "metadata": {},
     "output_type": "execute_result"
    }
   ],
   "source": [
    "list_of_pairs_sort(l9, first=False)"
   ]
  },
  {
   "cell_type": "markdown",
   "id": "0c8ff76b",
   "metadata": {},
   "source": [
    "## Dictionary for Counting Repetitions\n",
    "\n",
    "Given a list containing repetitions, create a dictionary where keys are unique elements from the list, and the values represent the repetition counts.\n",
    "\n",
    "Example: l = [1, 2, 2, 2, 3, 3] → d = {1: 1, 2: 3, 3: 2}"
   ]
  },
  {
   "cell_type": "code",
   "execution_count": 28,
   "id": "68f94d9f",
   "metadata": {},
   "outputs": [],
   "source": [
    "import pandas as pd"
   ]
  },
  {
   "cell_type": "code",
   "execution_count": 29,
   "id": "699cd973",
   "metadata": {},
   "outputs": [
    {
     "data": {
      "text/plain": [
       "{2: 3, 3: 2, 1: 1}"
      ]
     },
     "execution_count": 29,
     "metadata": {},
     "output_type": "execute_result"
    }
   ],
   "source": [
    "l10 = [1, 2, 2, 2, 3, 3]\n",
    "pd.Series(l10).value_counts().to_dict()"
   ]
  },
  {
   "cell_type": "markdown",
   "id": "478c38e3",
   "metadata": {},
   "source": [
    "## Fibonacci\n",
    "\n",
    "Define a function that computes Fibonacci numbers up to a specific number $N$ (it should return a list of the numbers).\n",
    "\n",
    "Compute all the fibonacci numbers up to 1,000."
   ]
  },
  {
   "cell_type": "code",
   "execution_count": 3,
   "id": "51a05d73",
   "metadata": {},
   "outputs": [],
   "source": [
    "def fibonacci(n):\n",
    "    fibs = [0, 1, 1]\n",
    "    while fibs[-1] < n:\n",
    "        fibs.append(fibs[-1] + fibs[-2])\n",
    "    return fibs[:-1]"
   ]
  },
  {
   "cell_type": "code",
   "execution_count": 5,
   "id": "b99d844c",
   "metadata": {},
   "outputs": [
    {
     "data": {
      "text/plain": [
       "[0, 1, 1, 2, 3, 5, 8, 13, 21, 34, 55, 89, 144, 233, 377, 610, 987]"
      ]
     },
     "execution_count": 5,
     "metadata": {},
     "output_type": "execute_result"
    }
   ],
   "source": [
    "fibonacci(1000)"
   ]
  },
  {
   "cell_type": "markdown",
   "id": "a5306bcc",
   "metadata": {},
   "source": [
    "## Anagrams\n",
    "\n",
    "Given two words composed of lowercase characters, determine if the provided strings are anagrams of each other.\n",
    "\n",
    "An anagram of a string is another string containing the same characters, but possibly in a different order. For example, \"act\" and \"tac\" are anagrams of each other."
   ]
  },
  {
   "cell_type": "code",
   "execution_count": 30,
   "id": "4b1ec8ee",
   "metadata": {},
   "outputs": [],
   "source": [
    "def are_anagrams(a, b):\n",
    "    return pd.Series([*a]).value_counts().to_dict() == pd.Series([*b]).value_counts().to_dict()"
   ]
  },
  {
   "cell_type": "code",
   "execution_count": 31,
   "id": "4e82491a",
   "metadata": {},
   "outputs": [
    {
     "data": {
      "text/plain": [
       "True"
      ]
     },
     "execution_count": 31,
     "metadata": {},
     "output_type": "execute_result"
    }
   ],
   "source": [
    "are_anagrams('act', 'tac')"
   ]
  },
  {
   "cell_type": "code",
   "execution_count": 32,
   "id": "681637c8",
   "metadata": {},
   "outputs": [
    {
     "data": {
      "text/plain": [
       "False"
      ]
     },
     "execution_count": 32,
     "metadata": {},
     "output_type": "execute_result"
    }
   ],
   "source": [
    "are_anagrams('aactt', 'tac')"
   ]
  },
  {
   "cell_type": "markdown",
   "id": "bc2e4f29",
   "metadata": {},
   "source": [
    "## Password Validation\n",
    "\n",
    "A website requires users to enter a username and password for registration. Write a program to check the validity of the entered password based on the following criteria:\n",
    "- At least 1 lowercase letter [a-z].\n",
    "- At least 1 digit [0-9].\n",
    "- At least 1 uppercase letter [A-Z].\n",
    "- At least 1 character from [$#@].\n",
    "- Minimum transaction password length: 6.\n",
    "- Maximum transaction password length: 12.\n",
    "\n",
    "Your program should also accept a sequence of passwords separated by commas and check them against the aforementioned criteria. Valid passwords should be printed, each separated by a comma.\n",
    "\n",
    "Hint: It may be useful to use Python's regex library for some validations."
   ]
  },
  {
   "cell_type": "code",
   "execution_count": 33,
   "id": "822d82be",
   "metadata": {},
   "outputs": [],
   "source": [
    "import re"
   ]
  },
  {
   "cell_type": "code",
   "execution_count": 34,
   "id": "13d501e4",
   "metadata": {},
   "outputs": [],
   "source": [
    "def is_valid_password(pwd):\n",
    "    if len(pwd) < 6 or len(pwd) > 12:\n",
    "        return False\n",
    "    \n",
    "    valid_lower = re.search('[a-z]', pwd)\n",
    "    valid_num = re.search('[0-9]', pwd)\n",
    "    valid_upper = re.search('[A-Z]', pwd)\n",
    "    valid_weird = re.search('[$#@]', pwd)\n",
    "    \n",
    "    if not valid_lower or not valid_num or not valid_upper or not valid_weird:\n",
    "        return False\n",
    "    return True\n",
    "\n",
    "def print_valid_passwords(pwds):\n",
    "    valid_pwds = []\n",
    "    for pwd in pwds.split(','):\n",
    "        if is_valid_password(pwd):\n",
    "            valid_pwds.append(pwd.strip())\n",
    "    return valid_pwds   "
   ]
  },
  {
   "cell_type": "code",
   "execution_count": 35,
   "id": "c59e7bd2",
   "metadata": {},
   "outputs": [
    {
     "data": {
      "text/plain": [
       "['Sd$0123']"
      ]
     },
     "execution_count": 35,
     "metadata": {},
     "output_type": "execute_result"
    }
   ],
   "source": [
    "pwds = 'a123, hola$F, Sd$0, Sd$0123'\n",
    "print_valid_passwords(pwds)"
   ]
  },
  {
   "cell_type": "markdown",
   "id": "76f10e7e",
   "metadata": {},
   "source": [
    "## Robot Movement\n",
    "\n",
    "- A robot moves on a plane starting from point (0,0).\n",
    "- The robot can move UP, DOWN, LEFT, and RIGHT.\n",
    "- The robot's movement trail is given as input like: `UP 5 DOWN 3 LEFT 3 RIGHT 2`, where the numbers after the direction are the steps.\n",
    "\n",
    "Write a program to calculate the distance from the current position after a sequence of movements to the original point. If the distance is a float, only print the nearest integer.\n",
    "\n",
    "Example: \n",
    "- Input: UP 5 DOWN 3 LEFT 3 RIGHT 2\n",
    "- Output: 2"
   ]
  },
  {
   "cell_type": "code",
   "execution_count": 36,
   "id": "28f59082",
   "metadata": {},
   "outputs": [],
   "source": [
    "import math"
   ]
  },
  {
   "cell_type": "code",
   "execution_count": 39,
   "id": "a2bcbc97",
   "metadata": {},
   "outputs": [],
   "source": [
    "def robot_distance(props):\n",
    "    pos = [0, 0]\n",
    "    new_prop = props.split(' ')\n",
    "    \n",
    "    for x in range(len(new_prop)):\n",
    "        if new_prop[x].upper() == 'UP':\n",
    "            pos[0] += int(new_prop[x+1])\n",
    "        elif new_prop[x].upper() == 'DOWN':\n",
    "            pos[0] -= int(new_prop[x+1])\n",
    "        elif new_prop[x].upper() == 'LEFT':\n",
    "            pos[1] -= int(new_prop[x+1])\n",
    "        elif new_prop[x].upper() == 'RIGHT':\n",
    "            pos[1] += int(new_prop[x+1])\n",
    "    \n",
    "    return int(round(math.sqrt(pos[0]**2 + pos[1]**2)))"
   ]
  },
  {
   "cell_type": "code",
   "execution_count": 40,
   "id": "b91c8eeb",
   "metadata": {},
   "outputs": [
    {
     "data": {
      "text/plain": [
       "2"
      ]
     },
     "execution_count": 40,
     "metadata": {},
     "output_type": "execute_result"
    }
   ],
   "source": [
    "robot_distance('UP 5 DOWN 3 LEFT 3 RIGHT 2')"
   ]
  },
  {
   "cell_type": "markdown",
   "id": "19289bf9",
   "metadata": {},
   "source": [
    "## Pig\n",
    "\n",
    "Create a program that simulates the Pig dice game for multiple players. \n",
    "\n",
    "Pig Game Basics:\n",
    "- Players take turns rolling a six-sided die.\n",
    "- On their turn, a player can choose to continue rolling or hold.\n",
    "- If they roll a 1, they score nothing, and their turn ends.\n",
    "- If they roll 2-6, they can \"hold\" and add the sum of their rolls to their total score or risk rolling again.\n",
    "- The first player to reach or exceed 100 points wins.\n",
    "\n",
    "Implement the basic game for $N$ players."
   ]
  },
  {
   "cell_type": "code",
   "execution_count": 9,
   "id": "0653778f",
   "metadata": {},
   "outputs": [],
   "source": [
    "import random\n",
    "import time"
   ]
  },
  {
   "cell_type": "code",
   "execution_count": 10,
   "id": "23a48672",
   "metadata": {},
   "outputs": [],
   "source": [
    "def roll_die():\n",
    "    return random.randint(1, 6)\n",
    "\n",
    "def play_turn(player_name):\n",
    "    turn_total = 0\n",
    "    while True:\n",
    "        roll = roll_die()\n",
    "        print(f\"{player_name} rolled a {roll}\")\n",
    "        \n",
    "        if roll == 1:\n",
    "            return 0\n",
    "        else:\n",
    "            turn_total += roll\n",
    "            print(f\"{player_name}'s turn total is {turn_total}.\")\n",
    "            \n",
    "            choice = input(\"Do you want to roll again or hold? (roll/hold) \").strip().lower()\n",
    "            time.sleep(0.5)\n",
    "            if choice == \"hold\":\n",
    "                return turn_total\n",
    "            elif choice == \"roll\":\n",
    "                continue\n",
    "            elif choice == \"end\":\n",
    "                return -1\n",
    "            else:\n",
    "                print(f\"Invalid choice ({choice}). Only \\\"roll\\\", \\\"hold\\\", or \\\"end\\\" are valid options. Try again.\")\n",
    "                continue\n",
    "\n",
    "def run_pig(n_players):\n",
    "    scores = [0] * n_players\n",
    "    player_names = [f\"Player {i+1}\" for i in range(n_players)]\n",
    "    \n",
    "    while max(scores) < 100:\n",
    "        for i in range(n_players):\n",
    "            print(f\"\\n{player_names[i]}'s turn!\")\n",
    "            print(f\"{player_names[i]}'s total score is {scores[i]}.\")\n",
    "            print('-' * 20)\n",
    "\n",
    "            turn_score = play_turn(player_names[i])\n",
    "            if turn_score == -1:\n",
    "                print(\"Game has been prematurely ended.\")\n",
    "                return\n",
    "            scores[i] += turn_score\n",
    "            \n",
    "            if scores[i] >= 100:\n",
    "                print(f\"{player_names[i]} wins!\")\n",
    "                return"
   ]
  },
  {
   "cell_type": "code",
   "execution_count": 11,
   "id": "af49d788",
   "metadata": {},
   "outputs": [
    {
     "name": "stdout",
     "output_type": "stream",
     "text": [
      "\n",
      "Player 1's turn!\n",
      "Player 1's total score is 0.\n",
      "--------------------\n",
      "Player 1 rolled a 6\n",
      "Player 1's turn total is 6.\n",
      "Player 1 rolled a 5\n",
      "Player 1's turn total is 11.\n",
      "Player 1 rolled a 2\n",
      "Player 1's turn total is 13.\n",
      "Player 1 rolled a 6\n",
      "Player 1's turn total is 19.\n",
      "\n",
      "Player 2's turn!\n",
      "Player 2's total score is 0.\n",
      "--------------------\n",
      "Player 2 rolled a 6\n",
      "Player 2's turn total is 6.\n",
      "Player 2 rolled a 1\n",
      "\n",
      "Player 1's turn!\n",
      "Player 1's total score is 19.\n",
      "--------------------\n",
      "Player 1 rolled a 4\n",
      "Player 1's turn total is 4.\n",
      "Player 1 rolled a 4\n",
      "Player 1's turn total is 8.\n",
      "Player 1 rolled a 2\n",
      "Player 1's turn total is 10.\n",
      "Player 1 rolled a 2\n",
      "Player 1's turn total is 12.\n",
      "Player 1 rolled a 2\n",
      "Player 1's turn total is 14.\n",
      "Player 1 rolled a 3\n",
      "Player 1's turn total is 17.\n",
      "\n",
      "Player 2's turn!\n",
      "Player 2's total score is 0.\n",
      "--------------------\n",
      "Player 2 rolled a 5\n",
      "Player 2's turn total is 5.\n",
      "Game has been prematurely ended.\n"
     ]
    }
   ],
   "source": [
    "n = int(input(\"Enter the number of players: \"))\n",
    "run_pig(n)"
   ]
  },
  {
   "cell_type": "markdown",
   "id": "c706a93c",
   "metadata": {},
   "source": [
    "## Pig AI\n",
    "\n",
    "After establishing the basic game (previous exercise), enhance it with an AI player that uses the Monte Carlo tree search method for decision-making."
   ]
  },
  {
   "cell_type": "code",
   "execution_count": 3,
   "id": "87649fd5",
   "metadata": {},
   "outputs": [
    {
     "name": "stdout",
     "output_type": "stream",
     "text": [
      "\n",
      "Player 1's turn!\n",
      "Player 1's total score is 0.\n",
      "\n",
      "\n",
      "Player 2's turn!\n",
      "Player 2 rolled a 1\n",
      "Player 2's total score is 0.\n",
      "\n",
      "\n",
      "Player 1's turn!\n",
      "Player 1's total score is 0.\n",
      "\n",
      "\n",
      "Player 2's turn!\n",
      "Player 2 rolled a 5\n",
      "Player 2's turn total is 5.\n"
     ]
    }
   ],
   "source": [
    "def simulate_turn(current_score):\n",
    "    # Simulate a turn using a simple Monte Carlo method\n",
    "    simulations = 1000\n",
    "    total_points = 0\n",
    "    \n",
    "    for _ in range(simulations):\n",
    "        turn_total = 0\n",
    "        while True:\n",
    "            roll = roll_die()\n",
    "            if roll == 1:\n",
    "                break\n",
    "            else:\n",
    "                turn_total += roll\n",
    "                # Stop simulation if score goes beyond a certain threshold or wins the game\n",
    "                if current_score + turn_total >= 100 or turn_total > 20:\n",
    "                    break\n",
    "        \n",
    "        total_points += turn_total\n",
    "    \n",
    "    # Average points over simulations\n",
    "    return total_points / simulations\n",
    "\n",
    "def ai_turn(current_score):\n",
    "    turn_total = 0\n",
    "    while True:\n",
    "        expected_points = simulate_turn(current_score + turn_total)\n",
    "        \n",
    "        # If expected points from simulation is low, hold. Otherwise, roll again.\n",
    "        if expected_points < 15:\n",
    "            return turn_total\n",
    "        else:\n",
    "            roll = roll_die()\n",
    "            print(\"AI rolled a\", roll)\n",
    "            if roll == 1:\n",
    "                return 0\n",
    "            turn_total += roll\n",
    "\n",
    "def play_pig_with_ai(n_players, n_ais):\n",
    "    scores = [0] * n_players\n",
    "    player_types = [\"AI\" if i < n_ais else \"Human\" for i in range(n_players)]\n",
    "    \n",
    "    while max(scores) < 100:\n",
    "        for i in range(n_players):\n",
    "            print(f\"\\nPlayer {i+1}'s turn!\")\n",
    "            \n",
    "            if player_types[i] == \"AI\":\n",
    "                scores[i] += ai_turn(scores[i])\n",
    "            else:\n",
    "                scores[i] += play_turn(f\"Player {i+1}\")\n",
    "                \n",
    "            print(f\"Player {i+1}'s total score is {scores[i]}.\")\n",
    "            print('-' * 20)\n",
    "            \n",
    "            if scores[i] >= 100:\n",
    "                print(f\"Player {i+1} wins!\")\n",
    "                return\n",
    "\n",
    "# Play with N players and M AI players\n",
    "n = int(input(\"Enter the total number of players: \"))\n",
    "m = int(input(\"Enter the number of AI players: \"))\n",
    "play_pig_with_ai(n, m)"
   ]
  },
  {
   "cell_type": "markdown",
   "id": "706aceaf",
   "metadata": {},
   "source": [
    "## Tic Tac Toe with AI\n",
    "\n",
    "Create a Tic Tac Toe game where the player plays against an AI opponent. Use the Minimax algorithm to implement AI decision-making."
   ]
  },
  {
   "cell_type": "code",
   "execution_count": 47,
   "id": "ea0a2e12",
   "metadata": {},
   "outputs": [],
   "source": [
    "def print_board(board):\n",
    "    for row in board:\n",
    "        print(\"|\".join(row))\n",
    "        print(\"-\" * 5)\n",
    "\n",
    "def is_win(board, player):\n",
    "    # Check rows, columns and diagonals\n",
    "    return (any(all(cell == player for cell in row) for row in board) or\n",
    "            any(all(row[i] == player for row in board) for i in range(3)) or\n",
    "            all(board[i][i] == player for i in range(3)) or\n",
    "            all(board[i][2 - i] == player for i in range(3)))\n",
    "\n",
    "def minimax(board, depth, is_maximizing):\n",
    "    if is_win(board, 'O'):\n",
    "        return 10 - depth\n",
    "    if is_win(board, 'X'):\n",
    "        return depth - 10\n",
    "    if all(cell != ' ' for row in board for cell in row):\n",
    "        return 0\n",
    "\n",
    "    if is_maximizing:\n",
    "        max_eval = float('-inf')\n",
    "        for i in range(3):\n",
    "            for j in range(3):\n",
    "                if board[i][j] == ' ':\n",
    "                    board[i][j] = 'O'\n",
    "                    eval = minimax(board, depth + 1, False)\n",
    "                    board[i][j] = ' '\n",
    "                    max_eval = max(eval, max_eval)\n",
    "        return max_eval\n",
    "    else:\n",
    "        min_eval = float('inf')\n",
    "        for i in range(3):\n",
    "            for j in range(3):\n",
    "                if board[i][j] == ' ':\n",
    "                    board[i][j] = 'X'\n",
    "                    eval = minimax(board, depth + 1, True)\n",
    "                    board[i][j] = ' '\n",
    "                    min_eval = min(eval, min_eval)\n",
    "        return min_eval\n",
    "\n",
    "def find_best_move(board):\n",
    "    best_val = float('-inf')\n",
    "    best_move = (-1, -1)\n",
    "\n",
    "    for i in range(3):\n",
    "        for j in range(3):\n",
    "            if board[i][j] == ' ':\n",
    "                board[i][j] = 'O'\n",
    "                move_val = minimax(board, 0, False)\n",
    "                board[i][j] = ' '\n",
    "                if move_val > best_val:\n",
    "                    best_val = move_val\n",
    "                    best_move = (i, j)\n",
    "    return best_move\n",
    "\n",
    "# Main game loop\n",
    "def play_game():\n",
    "    board = [[' ' for _ in range(3)] for _ in range(3)]\n",
    "    \n",
    "    for _ in range(9):\n",
    "        if not any(cell == ' ' for row in board for cell in row):\n",
    "            print(\"It's a tie!\")\n",
    "            return\n",
    "        print_board(board)\n",
    "        print()\n",
    "        if _ % 2 == 0:\n",
    "            # Human's turn (X)\n",
    "            x, y = map(int, input(\"Enter your move (X Y): \").split())\n",
    "            if board[x][y] == ' ':\n",
    "                board[x][y] = 'X'\n",
    "                if is_win(board, 'X'):\n",
    "                    print_board(board)\n",
    "                    print(\"Human wins!\")\n",
    "                    return\n",
    "        else:\n",
    "            # AI's turn (O)\n",
    "            x, y = find_best_move(board)\n",
    "            board[x][y] = 'O'\n",
    "            if is_win(board, 'O'):\n",
    "                print_board(board)\n",
    "                print(\"AI wins!\")\n",
    "                return\n",
    "    print(\"It's a tie!\")"
   ]
  },
  {
   "cell_type": "code",
   "execution_count": 48,
   "id": "d99c882a",
   "metadata": {},
   "outputs": [
    {
     "name": "stdout",
     "output_type": "stream",
     "text": [
      " | | \n",
      "-----\n",
      " | | \n",
      "-----\n",
      " | | \n",
      "-----\n",
      "\n",
      "Enter your move (X Y): 1 1\n",
      " | | \n",
      "-----\n",
      " |X| \n",
      "-----\n",
      " | | \n",
      "-----\n",
      "\n",
      "O| | \n",
      "-----\n",
      " |X| \n",
      "-----\n",
      " | | \n",
      "-----\n",
      "\n",
      "Enter your move (X Y): 1 0\n",
      "O| | \n",
      "-----\n",
      "X|X| \n",
      "-----\n",
      " | | \n",
      "-----\n",
      "\n",
      "O| | \n",
      "-----\n",
      "X|X|O\n",
      "-----\n",
      " | | \n",
      "-----\n",
      "\n",
      "Enter your move (X Y): 0 2\n",
      "O| |X\n",
      "-----\n",
      "X|X|O\n",
      "-----\n",
      " | | \n",
      "-----\n",
      "\n",
      "O| |X\n",
      "-----\n",
      "X|X|O\n",
      "-----\n",
      "O| | \n",
      "-----\n",
      "\n",
      "Enter your move (X Y): 0 1\n",
      "O|X|X\n",
      "-----\n",
      "X|X|O\n",
      "-----\n",
      "O| | \n",
      "-----\n",
      "\n",
      "O|X|X\n",
      "-----\n",
      "X|X|O\n",
      "-----\n",
      "O|O| \n",
      "-----\n",
      "\n",
      "Enter your move (X Y): 2 2\n",
      "It's a tie!\n"
     ]
    }
   ],
   "source": [
    "play_game()"
   ]
  }
 ],
 "metadata": {
  "kernelspec": {
   "display_name": "Python 3 (ipykernel)",
   "language": "python",
   "name": "python3"
  },
  "language_info": {
   "codemirror_mode": {
    "name": "ipython",
    "version": 3
   },
   "file_extension": ".py",
   "mimetype": "text/x-python",
   "name": "python",
   "nbconvert_exporter": "python",
   "pygments_lexer": "ipython3",
   "version": "3.10.12"
  },
  "toc": {
   "base_numbering": 1,
   "nav_menu": {},
   "number_sections": true,
   "sideBar": true,
   "skip_h1_title": false,
   "title_cell": "Table of Contents",
   "title_sidebar": "Contents",
   "toc_cell": false,
   "toc_position": {
    "height": "calc(100% - 180px)",
    "left": "10px",
    "top": "150px",
    "width": "281px"
   },
   "toc_section_display": true,
   "toc_window_display": true
  },
  "varInspector": {
   "cols": {
    "lenName": 16,
    "lenType": 16,
    "lenVar": 40
   },
   "kernels_config": {
    "python": {
     "delete_cmd_postfix": "",
     "delete_cmd_prefix": "del ",
     "library": "var_list.py",
     "varRefreshCmd": "print(var_dic_list())"
    },
    "r": {
     "delete_cmd_postfix": ") ",
     "delete_cmd_prefix": "rm(",
     "library": "var_list.r",
     "varRefreshCmd": "cat(var_dic_list()) "
    }
   },
   "types_to_exclude": [
    "module",
    "function",
    "builtin_function_or_method",
    "instance",
    "_Feature"
   ],
   "window_display": false
  }
 },
 "nbformat": 4,
 "nbformat_minor": 5
}
