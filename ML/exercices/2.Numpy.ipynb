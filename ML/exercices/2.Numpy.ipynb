{
 "cells": [
  {
   "attachments": {},
   "cell_type": "markdown",
   "id": "37917056",
   "metadata": {},
   "source": [
    "# Numpy Exercices\n",
    "\n",
    "All the exercises in this section must be 100% Numpy. Each exercise should be at most 1-3 lines of code (so you should use Numpy's functions)."
   ]
  },
  {
   "cell_type": "code",
   "execution_count": 2,
   "id": "f67279d6",
   "metadata": {},
   "outputs": [],
   "source": [
    "import numpy as np"
   ]
  },
  {
   "attachments": {},
   "cell_type": "markdown",
   "id": "4dfd6eff",
   "metadata": {},
   "source": [
    "## Initialize a null vector (with zeroes) of length 20."
   ]
  },
  {
   "cell_type": "code",
   "execution_count": 2,
   "id": "6379c495",
   "metadata": {},
   "outputs": [
    {
     "name": "stdout",
     "output_type": "stream",
     "text": [
      "[0. 0. 0. 0. 0. 0. 0. 0. 0. 0. 0. 0. 0. 0. 0. 0. 0. 0. 0. 0.]\n"
     ]
    }
   ],
   "source": [
    "null_vector = np.zeros(20)\n",
    "print(null_vector)"
   ]
  },
  {
   "attachments": {},
   "cell_type": "markdown",
   "id": "1c06071c",
   "metadata": {},
   "source": [
    "## Initialize a null matrix (with zeros) with size 3x2."
   ]
  },
  {
   "cell_type": "code",
   "execution_count": 6,
   "id": "ef330d58",
   "metadata": {},
   "outputs": [
    {
     "name": "stdout",
     "output_type": "stream",
     "text": [
      "[[0. 0.]\n",
      " [0. 0.]\n",
      " [0. 0.]]\n"
     ]
    }
   ],
   "source": [
    "null_matrix = np.zeros((3,2))\n",
    "print(null_matrix)"
   ]
  },
  {
   "attachments": {},
   "cell_type": "markdown",
   "id": "79f6b00b",
   "metadata": {},
   "source": [
    "## Initialize a vector with 10 random numbers between 0 and 1."
   ]
  },
  {
   "cell_type": "code",
   "execution_count": 13,
   "id": "62f05080",
   "metadata": {},
   "outputs": [
    {
     "name": "stdout",
     "output_type": "stream",
     "text": [
      "[0.88234185 0.13182843 0.38538987 0.15538261 0.7753979  0.12287654\n",
      " 0.55545138 0.76432089 0.48278551 0.42136694]\n"
     ]
    }
   ],
   "source": [
    "random_vector = np.random.random(size=10)\n",
    "print(random_vector)"
   ]
  },
  {
   "attachments": {},
   "cell_type": "markdown",
   "id": "9086b01e",
   "metadata": {},
   "source": [
    "## Replace the minimum element of the previous vector with a 0."
   ]
  },
  {
   "cell_type": "code",
   "execution_count": 16,
   "id": "24423bb8",
   "metadata": {},
   "outputs": [
    {
     "name": "stdout",
     "output_type": "stream",
     "text": [
      "[0.88234185 0.13182843 0.38538987 0.15538261 0.7753979  0.\n",
      " 0.55545138 0.76432089 0.48278551 0.42136694]\n"
     ]
    }
   ],
   "source": [
    "min = random_vector.argmin()\n",
    "random_vector[min] = 0\n",
    "print(random_vector)"
   ]
  },
  {
   "attachments": {},
   "cell_type": "markdown",
   "id": "4cbf94a9",
   "metadata": {},
   "source": [
    "## Create a vector with all consecutive values between 12 and 38."
   ]
  },
  {
   "cell_type": "code",
   "execution_count": 19,
   "id": "a0612de2",
   "metadata": {},
   "outputs": [
    {
     "name": "stdout",
     "output_type": "stream",
     "text": [
      "[12 13 14 15 16 17 18 19 20 21 22 23 24 25 26 27 28 29 30 31 32 33 34 35\n",
      " 36 37 38]\n"
     ]
    }
   ],
   "source": [
    "consec_vector = np.arange(12,39)\n",
    "print(consec_vector)"
   ]
  },
  {
   "attachments": {},
   "cell_type": "markdown",
   "id": "e111c6ba",
   "metadata": {},
   "source": [
    "## Initialize a vector of length 10 with integer random numbers between 1 and 20."
   ]
  },
  {
   "cell_type": "code",
   "execution_count": 23,
   "id": "c4c43671",
   "metadata": {},
   "outputs": [
    {
     "name": "stdout",
     "output_type": "stream",
     "text": [
      "[14  4  8 19  9  3 10  8 20 13]\n"
     ]
    }
   ],
   "source": [
    "random_vector2 = np.random.randint(1,21, size=10)\n",
    "print(random_vector2)"
   ]
  },
  {
   "attachments": {},
   "cell_type": "markdown",
   "id": "ccbe9647",
   "metadata": {},
   "source": [
    "a) Filter the elements that are greater than 3 and less than 12."
   ]
  },
  {
   "cell_type": "code",
   "execution_count": 24,
   "id": "3d7f1335",
   "metadata": {},
   "outputs": [
    {
     "data": {
      "text/plain": [
       "array([ 4,  8,  9, 10,  8])"
      ]
     },
     "execution_count": 24,
     "metadata": {},
     "output_type": "execute_result"
    }
   ],
   "source": [
    "random_vector2[(random_vector2 > 3) & (random_vector2 < 12)]"
   ]
  },
  {
   "attachments": {},
   "cell_type": "markdown",
   "id": "bae1859e",
   "metadata": {},
   "source": [
    "b) Filter the elemetns that are less than or equal to 5 or greater than 15."
   ]
  },
  {
   "cell_type": "code",
   "execution_count": 26,
   "id": "c93d86c9",
   "metadata": {},
   "outputs": [
    {
     "data": {
      "text/plain": [
       "array([14,  4,  8, 19,  9,  3, 10,  8, 20, 13])"
      ]
     },
     "execution_count": 26,
     "metadata": {},
     "output_type": "execute_result"
    }
   ],
   "source": [
    "random_vector2[(random_vector2 <= 5) | (random_vector2 > 1)]"
   ]
  },
  {
   "attachments": {},
   "cell_type": "markdown",
   "id": "0a5ebc0d",
   "metadata": {},
   "source": [
    "## Create a 4x4 matrix with integer random numbers between 0 and 5."
   ]
  },
  {
   "cell_type": "code",
   "execution_count": 27,
   "id": "2fb9b89f",
   "metadata": {},
   "outputs": [
    {
     "name": "stdout",
     "output_type": "stream",
     "text": [
      "[[4 2 0 2]\n",
      " [0 5 2 4]\n",
      " [5 2 4 5]\n",
      " [1 5 3 3]]\n"
     ]
    }
   ],
   "source": [
    "matrix = np.random.randint(0, 6, size=(4,4))\n",
    "print(matrix)"
   ]
  },
  {
   "attachments": {},
   "cell_type": "markdown",
   "id": "33f33aff",
   "metadata": {},
   "source": [
    "## Find the indices of the elements that are not 0 in the vector: [2, 1, 0, 0, 3, 1, 0]."
   ]
  },
  {
   "cell_type": "code",
   "execution_count": 33,
   "id": "69bdde6f",
   "metadata": {},
   "outputs": [
    {
     "name": "stdout",
     "output_type": "stream",
     "text": [
      "(array([2, 3, 6], dtype=int64),)\n"
     ]
    }
   ],
   "source": [
    "v = np.array([2,1,0,0,3,1,0])\n",
    "inde = np.where(v == 0)\n",
    "print(inde)"
   ]
  },
  {
   "attachments": {},
   "cell_type": "markdown",
   "id": "34a1640c",
   "metadata": {},
   "source": [
    "## Create a random vector of length 10 and find the minimum, maximum, mean and standard deviation."
   ]
  },
  {
   "cell_type": "code",
   "execution_count": 34,
   "id": "4ce9bcb2",
   "metadata": {},
   "outputs": [
    {
     "name": "stdout",
     "output_type": "stream",
     "text": [
      "[84 27 76 48 96 66 60 18 46 70]\n",
      "18 96 59.1 23.34287899981491\n"
     ]
    }
   ],
   "source": [
    "random_vector3 = np.random.randint(0,100,size = 10)\n",
    "print(random_vector3)\n",
    "mini = random_vector3.min()\n",
    "maxi = random_vector3.max()\n",
    "avg = random_vector3.mean()\n",
    "stand_dev = random_vector3.std()\n",
    "print(mini, maxi, avg, stand_dev)\n"
   ]
  },
  {
   "attachments": {},
   "cell_type": "markdown",
   "id": "dace7b96",
   "metadata": {},
   "source": [
    "## Create a 10x10 matrix with zeroes inside and ones surrounding them, like the following:\n",
    "\n",
    "```\n",
    "[[1., 1., 1., 1., 1., 1., 1., 1., 1., 1.],\n",
    "[1., 0., 0., 0., 0., 0., 0., 0., 0., 1.],\n",
    "[1., 0., 0., 0., 0., 0., 0., 0., 0., 1.],\n",
    "[1., 0., 0., 0., 0., 0., 0., 0., 0., 1.],\n",
    "[1., 0., 0., 0., 0., 0., 0., 0., 0., 1.],\n",
    "[1., 0., 0., 0., 0., 0., 0., 0., 0., 1.],\n",
    "[1., 0., 0., 0., 0., 0., 0., 0., 0., 1.],\n",
    "[1., 0., 0., 0., 0., 0., 0., 0., 0., 1.],\n",
    "[1., 0., 0., 0., 0., 0., 0., 0., 0., 1.],\n",
    "[1., 1., 1., 1., 1., 1., 1., 1., 1., 1.]]\n",
    "```"
   ]
  },
  {
   "cell_type": "code",
   "execution_count": 14,
   "id": "df2132b4",
   "metadata": {},
   "outputs": [
    {
     "name": "stdout",
     "output_type": "stream",
     "text": [
      "[[1. 1. 1. 1. 1. 1. 1. 1. 1. 1.]\n",
      " [1. 0. 0. 0. 0. 0. 0. 0. 0. 1.]\n",
      " [1. 0. 0. 0. 0. 0. 0. 0. 0. 1.]\n",
      " [1. 0. 0. 0. 0. 0. 0. 0. 0. 1.]\n",
      " [1. 0. 0. 0. 0. 0. 0. 0. 0. 1.]\n",
      " [1. 0. 0. 0. 0. 0. 0. 0. 0. 1.]\n",
      " [1. 0. 0. 0. 0. 0. 0. 0. 0. 1.]\n",
      " [1. 0. 0. 0. 0. 0. 0. 0. 0. 1.]\n",
      " [1. 0. 0. 0. 0. 0. 0. 0. 0. 1.]\n",
      " [1. 1. 1. 1. 1. 1. 1. 1. 1. 1.]]\n",
      "[[1. 1. 1. 1. 1. 1. 1. 1. 1. 1.]\n",
      " [1. 0. 0. 0. 0. 0. 0. 0. 0. 1.]\n",
      " [1. 0. 0. 0. 0. 0. 0. 0. 0. 1.]\n",
      " [1. 0. 0. 0. 0. 0. 0. 0. 0. 1.]\n",
      " [1. 0. 0. 0. 0. 0. 0. 0. 0. 1.]\n",
      " [1. 0. 0. 0. 0. 0. 0. 0. 0. 1.]\n",
      " [1. 0. 0. 0. 0. 0. 0. 0. 0. 1.]\n",
      " [1. 0. 0. 0. 0. 0. 0. 0. 0. 1.]\n",
      " [1. 0. 0. 0. 0. 0. 0. 0. 0. 1.]\n",
      " [1. 1. 1. 1. 1. 1. 1. 1. 1. 1.]]\n"
     ]
    }
   ],
   "source": [
    "matrix = np.zeros((10,10))\n",
    "matrix[0:1] = [1]\n",
    "matrix[9:10] = [1]\n",
    "matrix[:,0:1] = [1]\n",
    "matrix[:,9:10] = [1]\n",
    "matrix2 = np.ones((10,10))\n",
    "matrix2[1:9,1:-1] = [0]\n",
    "print(matrix)\n",
    "print(matrix2)"
   ]
  },
  {
   "attachments": {},
   "cell_type": "markdown",
   "id": "0b1c9eda",
   "metadata": {},
   "source": [
    "## Defina a function that, given a vector, returns all the elements greater than 10 replaced by 0.\n",
    "\n",
    "Example: [4, 7, 15, 21, 3, 34] → [4, 7, 0, 0, 3, 0]"
   ]
  },
  {
   "cell_type": "code",
   "execution_count": 15,
   "id": "607c66e1",
   "metadata": {},
   "outputs": [
    {
     "name": "stdout",
     "output_type": "stream",
     "text": [
      "[4 7 0 0 3 0]\n"
     ]
    }
   ],
   "source": [
    "v = np.array([4, 7, 15, 21, 3, 34])\n",
    "v[v > 10] = 0\n",
    "print(v)\n"
   ]
  },
  {
   "attachments": {},
   "cell_type": "markdown",
   "id": "85eb94f4",
   "metadata": {},
   "source": [
    "## Define a function that negates (changes the sign) all the elements of a vector between 2 and 6.\n",
    "\n",
    "Example: [4, 7, 15, 21, 3, 34] → [-4,  7, -6, 21, -3, 34]"
   ]
  },
  {
   "cell_type": "code",
   "execution_count": 16,
   "id": "b2dc792d",
   "metadata": {},
   "outputs": [
    {
     "name": "stdout",
     "output_type": "stream",
     "text": [
      "[-4  7 15 21 -3 34]\n"
     ]
    }
   ],
   "source": [
    "v = np.array([4, 7, 15, 21, 3, 34])\n",
    "v[(v>=2) & (v <=6)] *= (-1)\n",
    "print(v)"
   ]
  },
  {
   "attachments": {},
   "cell_type": "markdown",
   "id": "9e07776d",
   "metadata": {},
   "source": [
    "## Define a function that returns the common elements between two vectors."
   ]
  },
  {
   "cell_type": "code",
   "execution_count": 17,
   "id": "af9503ca",
   "metadata": {},
   "outputs": [
    {
     "name": "stdout",
     "output_type": "stream",
     "text": [
      "[2 2 3 2 2 0 4 0 3 0] [3 3 4 3 1 3 1 3 3 1]\n",
      "[3 4]\n"
     ]
    }
   ],
   "source": [
    "v1 = np.random.randint(0,5,size=10)\n",
    "v2 = np.random.randint(0,5,size=10)\n",
    "print(v1, v2)\n",
    "com = np.intersect1d(v1,v2)\n",
    "print(com)\n"
   ]
  },
  {
   "attachments": {},
   "cell_type": "markdown",
   "id": "d37eb6c4",
   "metadata": {},
   "source": [
    "## Get the dates for today, yesterday and tomorrow."
   ]
  },
  {
   "cell_type": "code",
   "execution_count": 21,
   "id": "ca67456b",
   "metadata": {},
   "outputs": [
    {
     "name": "stdout",
     "output_type": "stream",
     "text": [
      "2023-10-26 2023-10-25 2023-10-27\n"
     ]
    }
   ],
   "source": [
    "today = np.datetime64(\"now\", \"D\")\n",
    "yesterday = today - np.timedelta64(1, \"D\")\n",
    "tomorrow = today + np.timedelta64(1, \"D\")\n",
    "print(today, yesterday, tomorrow)"
   ]
  },
  {
   "attachments": {},
   "cell_type": "markdown",
   "id": "63025a56",
   "metadata": {},
   "source": [
    "## Get all dates in September 2023."
   ]
  },
  {
   "cell_type": "code",
   "execution_count": 29,
   "id": "46335d2f",
   "metadata": {},
   "outputs": [
    {
     "name": "stdout",
     "output_type": "stream",
     "text": [
      "['2023-09-01' '2023-09-02' '2023-09-03' '2023-09-04' '2023-09-05'\n",
      " '2023-09-06' '2023-09-07' '2023-09-08' '2023-09-09' '2023-09-10'\n",
      " '2023-09-11' '2023-09-12' '2023-09-13' '2023-09-14' '2023-09-15'\n",
      " '2023-09-16' '2023-09-17' '2023-09-18' '2023-09-19' '2023-09-20'\n",
      " '2023-09-21' '2023-09-22' '2023-09-23' '2023-09-24' '2023-09-25'\n",
      " '2023-09-26' '2023-09-27' '2023-09-28' '2023-09-29' '2023-09-30']\n"
     ]
    }
   ],
   "source": [
    "sept = np.arange(\"2023-09\", \"2023-10\", dtype=\"datetime64[D]\")\n",
    "print(sept)"
   ]
  },
  {
   "attachments": {},
   "cell_type": "markdown",
   "id": "dc8c1167",
   "metadata": {},
   "source": [
    "## Create an array of dates starting from today and covering the next 7 days."
   ]
  },
  {
   "cell_type": "code",
   "execution_count": 30,
   "id": "f5d7f77e",
   "metadata": {},
   "outputs": [
    {
     "name": "stdout",
     "output_type": "stream",
     "text": [
      "['2023-10-26' '2023-10-27' '2023-10-28' '2023-10-29' '2023-10-30'\n",
      " '2023-10-31' '2023-11-01']\n"
     ]
    }
   ],
   "source": [
    "today = np.datetime64(\"now\", \"D\")\n",
    "arr = np.arange(today, +7, dtype=\"datetime64[D]\")\n",
    "print(arr)"
   ]
  },
  {
   "attachments": {},
   "cell_type": "markdown",
   "id": "c7a83337",
   "metadata": {},
   "source": [
    "## Given an array of dates, find the differences (in days) between each date and the first date in days."
   ]
  },
  {
   "cell_type": "code",
   "execution_count": 32,
   "id": "c15a46bc",
   "metadata": {},
   "outputs": [
    {
     "name": "stdout",
     "output_type": "stream",
     "text": [
      "[ 0  4  9 14]\n"
     ]
    }
   ],
   "source": [
    "dates = np.array(['2023-10-01', '2023-10-05', '2023-10-10', '2023-10-15'], dtype='datetime64')\n",
    "difer = (dates - dates[0]).astype('timedelta64[D]')\n",
    "print(difer)"
   ]
  },
  {
   "attachments": {},
   "cell_type": "markdown",
   "id": "f8f7a040",
   "metadata": {},
   "source": [
    "## Create a random vector of length 10 with values between 0 and 1 (both included) and with 3 decimal points.\n",
    "\n",
    "Note that by default `np.random.random()` does not include 1."
   ]
  },
  {
   "cell_type": "code",
   "execution_count": 36,
   "id": "9bac3cdb",
   "metadata": {},
   "outputs": [
    {
     "name": "stdout",
     "output_type": "stream",
     "text": [
      "[0.53  0.675 0.252 0.701 0.356 0.928 0.051 0.304 0.329 0.139]\n"
     ]
    }
   ],
   "source": [
    "v = np.random.uniform(0,1, size= 10).round(3)\n",
    "print(v)"
   ]
  },
  {
   "attachments": {},
   "cell_type": "markdown",
   "id": "55168d21",
   "metadata": {},
   "source": [
    "## Create a random vector of length 10 and replace the maximum element with a 1 and the minimum with a 0."
   ]
  },
  {
   "cell_type": "code",
   "execution_count": 39,
   "id": "b2a6d36a",
   "metadata": {},
   "outputs": [
    {
     "name": "stdout",
     "output_type": "stream",
     "text": [
      "[7.35492133 7.90132295 8.4571296  3.023562   0.45516514 6.87737456\n",
      " 4.45644138 2.23949543 2.59720106 7.85133085]\n",
      "[7.35492133 7.90132295 1.         3.023562   0.         6.87737456\n",
      " 4.45644138 2.23949543 2.59720106 7.85133085]\n"
     ]
    }
   ],
   "source": [
    "v = np.random.uniform(0,10, size = 10)\n",
    "print(v)\n",
    "v[v.argmin()] = 0\n",
    "v[v.argmax()] = 1\n",
    "print(v)"
   ]
  },
  {
   "attachments": {},
   "cell_type": "markdown",
   "id": "3132a74a",
   "metadata": {},
   "source": [
    "## Define a function that, given a number N and a vector, returns the element closest to N. In case of a tie return the previous element."
   ]
  },
  {
   "cell_type": "code",
   "execution_count": 50,
   "id": "98e17bce",
   "metadata": {},
   "outputs": [],
   "source": [
    "def closest(arr, num):\n",
    "    arr = np.array(arr)\n",
    "    if num in arr:\n",
    "        return num\n",
    "    else:\n",
    "        dif = np.abs(arr - num)\n",
    "        ind = np.argmin(dif)\n",
    "        return arr[ind]\n"
   ]
  },
  {
   "cell_type": "code",
   "execution_count": 45,
   "id": "5f4b4985",
   "metadata": {},
   "outputs": [],
   "source": [
    "assert closest([1, 2, 3, 4], 2) == 2\n",
    "assert closest([1, 2, 3, 4], 5) == 4\n",
    "assert closest([1, 2, 3, 4], -3) == 1\n",
    "assert closest([1, 2, 2, 3, 4], 2) == 2\n",
    "assert closest([1, 2, 2, 3, 4], 2.4) == 2\n",
    "assert closest([1, 2, 2, 3, 4], 2.6) == 3"
   ]
  },
  {
   "attachments": {},
   "cell_type": "markdown",
   "id": "aa1b4cbb",
   "metadata": {},
   "source": [
    "## Define a function that returns the N greater elements from a vector."
   ]
  },
  {
   "cell_type": "code",
   "execution_count": 4,
   "id": "b86b18af",
   "metadata": {},
   "outputs": [
    {
     "data": {
      "text/plain": [
       "array([4, 5, 9])"
      ]
     },
     "execution_count": 4,
     "metadata": {},
     "output_type": "execute_result"
    }
   ],
   "source": [
    "def elements(arr, n):\n",
    "    return np.sort(arr)[-n:] \n",
    "\n",
    "l = [1,5,3,9,2,4]\n",
    "elements(l,3)\n"
   ]
  },
  {
   "attachments": {},
   "cell_type": "markdown",
   "id": "060038d9",
   "metadata": {},
   "source": [
    "## Create a random vector of length 20 with values between 1 and 8. Which unique elements (without repetition) where created?"
   ]
  },
  {
   "cell_type": "code",
   "execution_count": 7,
   "id": "f2108bbc",
   "metadata": {},
   "outputs": [
    {
     "name": "stdout",
     "output_type": "stream",
     "text": [
      "[1 7 1 3 2 2 2 5 1 6 1 3 7 2 6 5 4 6 3 5]\n",
      "[1 2 3 4 5 6 7]\n"
     ]
    }
   ],
   "source": [
    "random_vector4 = np.random.randint(1,8, size = 20)\n",
    "print(random_vector4)\n",
    "print(np.unique(random_vector4))"
   ]
  },
  {
   "attachments": {},
   "cell_type": "markdown",
   "id": "e99656aa",
   "metadata": {},
   "source": [
    "## What will be the result of the following statements?\n",
    "\n",
    "First try to understand the concepts of `np.nan`, `np.inf` and `set`. Next, try to mentally solve the statements by using your logic. Finally, test if your expected results are correct. \n",
    "\n",
    "```python\n",
    "0 * np.nan\n",
    "np.nan == np.nan\n",
    "np.inf > np.nan\n",
    "np.nan - np.nan\n",
    "np.nan in set([np.nan])\n",
    "```"
   ]
  },
  {
   "cell_type": "code",
   "execution_count": 11,
   "id": "ee474b70",
   "metadata": {},
   "outputs": [
    {
     "name": "stdout",
     "output_type": "stream",
     "text": [
      "nan\n",
      "False\n",
      "False\n",
      "nan\n",
      "True\n"
     ]
    }
   ],
   "source": [
    "print(0 * np.nan)\n",
    "print(np.nan == np.nan)\n",
    "print(np.inf > np.nan)\n",
    "print(np.nan - np.nan)\n",
    "print(np.nan in set([np.nan]))"
   ]
  },
  {
   "attachments": {},
   "cell_type": "markdown",
   "id": "547e3d90",
   "metadata": {},
   "source": [
    "## Given a 10x10 matrix of random values between 0 and 1, find and print the row with the highest mean value."
   ]
  },
  {
   "cell_type": "code",
   "execution_count": 19,
   "id": "95cf4d71",
   "metadata": {},
   "outputs": [
    {
     "name": "stdout",
     "output_type": "stream",
     "text": [
      "[0.91108286 0.69385189 0.92922581 0.02279903 0.69295992 0.4374531\n",
      " 0.92323716 0.36805042 0.73796206 0.51320943]\n"
     ]
    }
   ],
   "source": [
    "matrix3 = np.random.uniform(0,1, size=(10,10))\n",
    "high = np.argmax(np.mean(matrix3, axis=1))\n",
    "print(matrix3[high])"
   ]
  },
  {
   "attachments": {},
   "cell_type": "markdown",
   "id": "0d7cc171",
   "metadata": {},
   "source": [
    "## Take two vectors of size 10 with random integers between 1 and 20. Compute the outer product of the two vectors, then flatten the resultant matrix into a one-dimensional array."
   ]
  },
  {
   "cell_type": "code",
   "execution_count": 24,
   "id": "240a5929",
   "metadata": {},
   "outputs": [
    {
     "name": "stdout",
     "output_type": "stream",
     "text": [
      "[[  8 104 128   8  16   8  32 104  56  56]\n",
      " [ 17 221 272  17  34  17  68 221 119 119]\n",
      " [ 16 208 256  16  32  16  64 208 112 112]\n",
      " [ 11 143 176  11  22  11  44 143  77  77]\n",
      " [ 14 182 224  14  28  14  56 182  98  98]\n",
      " [  7  91 112   7  14   7  28  91  49  49]\n",
      " [  8 104 128   8  16   8  32 104  56  56]\n",
      " [ 12 156 192  12  24  12  48 156  84  84]\n",
      " [ 11 143 176  11  22  11  44 143  77  77]\n",
      " [ 19 247 304  19  38  19  76 247 133 133]]\n",
      "\n",
      "[  8 104 128   8  16   8  32 104  56  56  17 221 272  17  34  17  68 221\n",
      " 119 119  16 208 256  16  32  16  64 208 112 112  11 143 176  11  22  11\n",
      "  44 143  77  77  14 182 224  14  28  14  56 182  98  98   7  91 112   7\n",
      "  14   7  28  91  49  49   8 104 128   8  16   8  32 104  56  56  12 156\n",
      " 192  12  24  12  48 156  84  84  11 143 176  11  22  11  44 143  77  77\n",
      "  19 247 304  19  38  19  76 247 133 133]\n"
     ]
    }
   ],
   "source": [
    "v1 = np.random.randint(1,20, size = 10)\n",
    "v2 = np.random.randint(1,20, size = 10)\n",
    "matrix = np.outer(v1,v2)\n",
    "print(matrix)\n",
    "print()\n",
    "matrix = matrix.flatten()\n",
    "print(matrix)"
   ]
  },
  {
   "attachments": {},
   "cell_type": "markdown",
   "id": "44bd4dbd",
   "metadata": {},
   "source": [
    "## Create an array of 100 consecutive dates starting from today. From this array, filter out all the dates that fall on a weekend (Saturday and Sunday)."
   ]
  },
  {
   "cell_type": "code",
   "execution_count": 29,
   "id": "8be3a488",
   "metadata": {},
   "outputs": [
    {
     "name": "stderr",
     "output_type": "stream",
     "text": [
      "C:\\Users\\Alumne_mati1\\AppData\\Local\\Temp\\ipykernel_9120\\317624638.py:3: DeprecationWarning: elementwise comparison failed; this will raise an error in the future.\n",
      "  arr[(arr != 1) & (arr != 2) & ((arr % 8 == 0) | (arr % 9 == 0))]\n"
     ]
    },
    {
     "ename": "UFuncTypeError",
     "evalue": "ufunc 'remainder' cannot use operands with types dtype('<M8[D]') and dtype('int32')",
     "output_type": "error",
     "traceback": [
      "\u001b[1;31m---------------------------------------------------------------------------\u001b[0m",
      "\u001b[1;31mUFuncTypeError\u001b[0m                            Traceback (most recent call last)",
      "Cell \u001b[1;32mIn[29], line 3\u001b[0m\n\u001b[0;32m      1\u001b[0m today \u001b[39m=\u001b[39m np\u001b[39m.\u001b[39mdatetime64(\u001b[39m\"\u001b[39m\u001b[39mnow\u001b[39m\u001b[39m\"\u001b[39m, \u001b[39m\"\u001b[39m\u001b[39mD\u001b[39m\u001b[39m\"\u001b[39m)\n\u001b[0;32m      2\u001b[0m arr \u001b[39m=\u001b[39m np\u001b[39m.\u001b[39marange(today, \u001b[39m+\u001b[39m\u001b[39m100\u001b[39m, dtype\u001b[39m=\u001b[39m\u001b[39m\"\u001b[39m\u001b[39mdatetime64[D]\u001b[39m\u001b[39m\"\u001b[39m)\n\u001b[1;32m----> 3\u001b[0m arr[(arr \u001b[39m!=\u001b[39m \u001b[39m1\u001b[39m) \u001b[39m&\u001b[39m (arr \u001b[39m!=\u001b[39m \u001b[39m2\u001b[39m) \u001b[39m&\u001b[39m ((arr \u001b[39m%\u001b[39m \u001b[39m8\u001b[39m \u001b[39m==\u001b[39m \u001b[39m0\u001b[39m) \u001b[39m|\u001b[39m (arr \u001b[39m%\u001b[39m \u001b[39m9\u001b[39m \u001b[39m==\u001b[39m \u001b[39m0\u001b[39m))]\n\u001b[0;32m      4\u001b[0m \u001b[39mprint\u001b[39m(arr)\n",
      "\u001b[1;31mUFuncTypeError\u001b[0m: ufunc 'remainder' cannot use operands with types dtype('<M8[D]') and dtype('int32')"
     ]
    }
   ],
   "source": [
    "today = np.datetime64(\"now\", \"D\")\n",
    "arr = np.arange(today, +100, dtype=\"datetime64[D]\")\n",
    "arr[(arr != 1) & (arr != 2) & ((arr % 8 == 0) | (arr % 9 == 0))]\n",
    "print(arr)"
   ]
  },
  {
   "attachments": {},
   "cell_type": "markdown",
   "id": "177ae4d1",
   "metadata": {},
   "source": [
    "# Python vs Numpy\n",
    "\n",
    " For each one of the following exercises implement the functions using only Python, without any external libraries. Then compare the execution time with the `%%timeit` magic command (see the first example)."
   ]
  },
  {
   "attachments": {},
   "cell_type": "markdown",
   "id": "150bc812",
   "metadata": {},
   "source": [
    "## Maximum\n",
    "\n",
    "Write a function that find the maximum value of a list. Do not use the Python's `max()` function."
   ]
  },
  {
   "cell_type": "code",
   "execution_count": 1,
   "id": "c49ca677",
   "metadata": {},
   "outputs": [],
   "source": [
    "def my_max(l):\n",
    "    # Find the maximum of a list of numbers\n",
    "    mx = l[0]\n",
    "    for e in l[1:]:\n",
    "        if e > mx:\n",
    "            mx = e\n",
    "    return mx"
   ]
  },
  {
   "cell_type": "code",
   "execution_count": 2,
   "id": "db996f68",
   "metadata": {},
   "outputs": [],
   "source": [
    "tmp = np.random.randint(10, size=10000)"
   ]
  },
  {
   "cell_type": "code",
   "execution_count": 5,
   "id": "23c76960",
   "metadata": {},
   "outputs": [
    {
     "name": "stdout",
     "output_type": "stream",
     "text": [
      "594 µs ± 6.11 µs per loop (mean ± std. dev. of 7 runs, 1,000 loops each)\n"
     ]
    }
   ],
   "source": [
    "%%timeit\n",
    "\n",
    "# My max\n",
    "my_max(tmp)"
   ]
  },
  {
   "cell_type": "code",
   "execution_count": 7,
   "id": "950e9fa2",
   "metadata": {},
   "outputs": [
    {
     "name": "stdout",
     "output_type": "stream",
     "text": [
      "455 µs ± 4.74 µs per loop (mean ± std. dev. of 7 runs, 1,000 loops each)\n"
     ]
    }
   ],
   "source": [
    "%%timeit\n",
    "\n",
    "# Python's max\n",
    "max(tmp)"
   ]
  },
  {
   "cell_type": "code",
   "execution_count": 6,
   "id": "aa3bbc0a",
   "metadata": {},
   "outputs": [
    {
     "name": "stdout",
     "output_type": "stream",
     "text": [
      "8.1 µs ± 31.8 ns per loop (mean ± std. dev. of 7 runs, 100,000 loops each)\n"
     ]
    }
   ],
   "source": [
    "%%timeit\n",
    "\n",
    "# Numpy's max\n",
    "np.max(tmp)"
   ]
  },
  {
   "attachments": {},
   "cell_type": "markdown",
   "id": "9cfeaaa5",
   "metadata": {},
   "source": [
    "## Mean\n",
    "\n",
    "Write a function that returns the mean of a list."
   ]
  },
  {
   "cell_type": "code",
   "execution_count": null,
   "id": "07103cd6",
   "metadata": {},
   "outputs": [],
   "source": []
  },
  {
   "attachments": {},
   "cell_type": "markdown",
   "id": "7d19cae0",
   "metadata": {},
   "source": [
    "## Argmax\n",
    "\n",
    "Write a function that returns the index of the greatest element of a list."
   ]
  },
  {
   "cell_type": "code",
   "execution_count": null,
   "id": "ade553a4",
   "metadata": {},
   "outputs": [],
   "source": []
  },
  {
   "attachments": {},
   "cell_type": "markdown",
   "id": "e29d7bd8",
   "metadata": {},
   "source": [
    "## Scalar Product\n",
    "\n",
    "Write a function that returns the scalar product of two vectors."
   ]
  },
  {
   "cell_type": "code",
   "execution_count": null,
   "id": "2319d339",
   "metadata": {},
   "outputs": [],
   "source": []
  },
  {
   "attachments": {},
   "cell_type": "markdown",
   "id": "3367bef8",
   "metadata": {},
   "source": [
    "# Bonus"
   ]
  },
  {
   "attachments": {},
   "cell_type": "markdown",
   "id": "bcf4d6c8",
   "metadata": {},
   "source": [
    "##  One-hot Encoding\n",
    "\n",
    "Implement a function that returns a matrix with the one-hot encoding of a vector.\n",
    "\n",
    "- Example: \n",
    "    - Input: [0, 2, 1, 2, 0, 1]\n",
    "    - Output:\n",
    "```\n",
    "[[1., 0., 0.],\n",
    "[0., 0., 1.],\n",
    "[0., 1., 0.],\n",
    "[0., 0., 1.],\n",
    "[1., 0., 0.],\n",
    "[0., 1., 0.]]\n",
    "```"
   ]
  },
  {
   "cell_type": "code",
   "execution_count": null,
   "id": "95a3b242",
   "metadata": {},
   "outputs": [],
   "source": []
  },
  {
   "attachments": {},
   "cell_type": "markdown",
   "id": "7a98ca69",
   "metadata": {},
   "source": [
    "## Fruit Ninja\n",
    "\n",
    "You are a Fruit Ninja master, slicing fruits with precision. You have sliced 100 fruits, each giving you a random score between 1 and 100. However, due to a ninja technique, every third score is doubled. Calculate your total score."
   ]
  },
  {
   "cell_type": "code",
   "execution_count": null,
   "id": "82e69dfe",
   "metadata": {},
   "outputs": [],
   "source": []
  },
  {
   "attachments": {},
   "cell_type": "markdown",
   "id": "7b937b83",
   "metadata": {},
   "source": [
    "## Time Traveler\n",
    "\n",
    "A historian time traveler wants to study major events in the past century. Create an array of dates starting from 1923-08-14 to 2023-08-14 in 10-year increments, then randomly select 3 dates to travel to."
   ]
  },
  {
   "cell_type": "code",
   "execution_count": null,
   "id": "08db1ecd",
   "metadata": {},
   "outputs": [],
   "source": []
  },
  {
   "attachments": {},
   "cell_type": "markdown",
   "id": "3083b179",
   "metadata": {},
   "source": [
    "## Aliens\n",
    "\n",
    "Aliens are sending messages, but it seems they're padding the real messages with a lot of zeros. Their messages are arrays of 100 elements with values either 0 or 1, but the real messages start and end with `1`. Extract their real message.\n",
    "\n",
    "Challenge: Give a solution with at most 3 lines of code."
   ]
  },
  {
   "cell_type": "code",
   "execution_count": null,
   "id": "a5c8ebe5",
   "metadata": {},
   "outputs": [],
   "source": []
  },
  {
   "attachments": {},
   "cell_type": "markdown",
   "id": "84e93f70",
   "metadata": {},
   "source": [
    "## Temperature Log\n",
    "\n",
    "You have a 365-day temperature log for a city, represented as an array of floats. Identify the days where the temperature is at least 2 standard deviations away from the mean."
   ]
  },
  {
   "cell_type": "code",
   "execution_count": null,
   "id": "770d6d38",
   "metadata": {},
   "outputs": [],
   "source": []
  },
  {
   "attachments": {},
   "cell_type": "markdown",
   "id": "927ad644",
   "metadata": {},
   "source": [
    "## Seismic Activity\n",
    "\n",
    "Given a sequence of data representing seismic activity, where the values are floats, identify \"earthquake\" events. An earthquake is defined as a sequence where the readings rise continuously for at least 5 readings, peak, and then fall continuously for at least 5 readings.\n",
    "\n",
    "Hint: Utilize Numpy's `gradient()` function to determine the rising and falling patterns in the sequence."
   ]
  },
  {
   "cell_type": "code",
   "execution_count": null,
   "id": "11586789",
   "metadata": {},
   "outputs": [],
   "source": []
  },
  {
   "attachments": {},
   "cell_type": "markdown",
   "id": "9ba3cd11",
   "metadata": {},
   "source": [
    "## Coin Flipping\n",
    "\n",
    "A magician flips a coin 100 times, but his coin is tricky. It has a 70% chance of landing on heads (represented by 1) and 30% chance of tails (represented by 0). He asks you to predict how many times in a row the coin landed on heads at least 3 times.\n",
    "\n",
    "Count every occurrence of 3 consecutive heads, including overlapping sequences. For example, in the sequence [1,1,1,1,0], the count is 2."
   ]
  },
  {
   "cell_type": "code",
   "execution_count": null,
   "id": "1ea88b0c",
   "metadata": {},
   "outputs": [],
   "source": []
  },
  {
   "attachments": {},
   "cell_type": "markdown",
   "id": "d71ac435",
   "metadata": {},
   "source": [
    "## The Game of Life\n",
    "\n",
    "Implement \"The Game of Live\" using Numpy."
   ]
  },
  {
   "cell_type": "code",
   "execution_count": null,
   "id": "35e8c281",
   "metadata": {},
   "outputs": [],
   "source": []
  }
 ],
 "metadata": {
  "kernelspec": {
   "display_name": "Python 3 (ipykernel)",
   "language": "python",
   "name": "python3"
  },
  "language_info": {
   "codemirror_mode": {
    "name": "ipython",
    "version": 3
   },
   "file_extension": ".py",
   "mimetype": "text/x-python",
   "name": "python",
   "nbconvert_exporter": "python",
   "pygments_lexer": "ipython3",
   "version": "3.11.4"
  },
  "toc": {
   "base_numbering": 1,
   "nav_menu": {},
   "number_sections": true,
   "sideBar": true,
   "skip_h1_title": false,
   "title_cell": "Table of Contents",
   "title_sidebar": "Contents",
   "toc_cell": false,
   "toc_position": {
    "height": "calc(100% - 180px)",
    "left": "10px",
    "top": "150px",
    "width": "329px"
   },
   "toc_section_display": true,
   "toc_window_display": true
  },
  "varInspector": {
   "cols": {
    "lenName": 16,
    "lenType": 16,
    "lenVar": 40
   },
   "kernels_config": {
    "python": {
     "delete_cmd_postfix": "",
     "delete_cmd_prefix": "del ",
     "library": "var_list.py",
     "varRefreshCmd": "print(var_dic_list())"
    },
    "r": {
     "delete_cmd_postfix": ") ",
     "delete_cmd_prefix": "rm(",
     "library": "var_list.r",
     "varRefreshCmd": "cat(var_dic_list()) "
    }
   },
   "types_to_exclude": [
    "module",
    "function",
    "builtin_function_or_method",
    "instance",
    "_Feature"
   ],
   "window_display": false
  }
 },
 "nbformat": 4,
 "nbformat_minor": 5
}
