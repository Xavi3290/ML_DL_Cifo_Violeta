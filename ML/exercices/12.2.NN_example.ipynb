{
 "cells": [
  {
   "cell_type": "markdown",
   "metadata": {},
   "source": [
    "# Libraries"
   ]
  },
  {
   "cell_type": "code",
   "execution_count": 25,
   "metadata": {},
   "outputs": [],
   "source": [
    "import pandas as pd\n",
    "import numpy as np\n",
    "import matplotlib.pyplot as plt\n",
    "\n",
    "from sklearn.model_selection import train_test_split\n",
    "from sklearn.preprocessing import MinMaxScaler\n",
    "\n",
    "from tensorflow.keras import Sequential\n",
    "from tensorflow.keras.layers import Dense, Input\n",
    "from tensorflow.keras.optimizers import Adam"
   ]
  },
  {
   "cell_type": "markdown",
   "metadata": {},
   "source": [
    "# Regression"
   ]
  },
  {
   "cell_type": "code",
   "execution_count": 2,
   "metadata": {},
   "outputs": [
    {
     "data": {
      "text/html": [
       "<div>\n",
       "<style scoped>\n",
       "    .dataframe tbody tr th:only-of-type {\n",
       "        vertical-align: middle;\n",
       "    }\n",
       "\n",
       "    .dataframe tbody tr th {\n",
       "        vertical-align: top;\n",
       "    }\n",
       "\n",
       "    .dataframe thead th {\n",
       "        text-align: right;\n",
       "    }\n",
       "</style>\n",
       "<table border=\"1\" class=\"dataframe\">\n",
       "  <thead>\n",
       "    <tr style=\"text-align: right;\">\n",
       "      <th></th>\n",
       "      <th>age</th>\n",
       "      <th>sex</th>\n",
       "      <th>bmi</th>\n",
       "      <th>bp</th>\n",
       "      <th>s1</th>\n",
       "      <th>s2</th>\n",
       "      <th>s3</th>\n",
       "      <th>s4</th>\n",
       "      <th>s5</th>\n",
       "      <th>s6</th>\n",
       "      <th>target</th>\n",
       "    </tr>\n",
       "  </thead>\n",
       "  <tbody>\n",
       "    <tr>\n",
       "      <th>0</th>\n",
       "      <td>0.038076</td>\n",
       "      <td>0.050680</td>\n",
       "      <td>0.061696</td>\n",
       "      <td>0.021872</td>\n",
       "      <td>-0.044223</td>\n",
       "      <td>-0.034821</td>\n",
       "      <td>-0.043401</td>\n",
       "      <td>-0.002592</td>\n",
       "      <td>0.019907</td>\n",
       "      <td>-0.017646</td>\n",
       "      <td>151.0</td>\n",
       "    </tr>\n",
       "    <tr>\n",
       "      <th>1</th>\n",
       "      <td>-0.001882</td>\n",
       "      <td>-0.044642</td>\n",
       "      <td>-0.051474</td>\n",
       "      <td>-0.026328</td>\n",
       "      <td>-0.008449</td>\n",
       "      <td>-0.019163</td>\n",
       "      <td>0.074412</td>\n",
       "      <td>-0.039493</td>\n",
       "      <td>-0.068332</td>\n",
       "      <td>-0.092204</td>\n",
       "      <td>75.0</td>\n",
       "    </tr>\n",
       "    <tr>\n",
       "      <th>2</th>\n",
       "      <td>0.085299</td>\n",
       "      <td>0.050680</td>\n",
       "      <td>0.044451</td>\n",
       "      <td>-0.005670</td>\n",
       "      <td>-0.045599</td>\n",
       "      <td>-0.034194</td>\n",
       "      <td>-0.032356</td>\n",
       "      <td>-0.002592</td>\n",
       "      <td>0.002861</td>\n",
       "      <td>-0.025930</td>\n",
       "      <td>141.0</td>\n",
       "    </tr>\n",
       "    <tr>\n",
       "      <th>3</th>\n",
       "      <td>-0.089063</td>\n",
       "      <td>-0.044642</td>\n",
       "      <td>-0.011595</td>\n",
       "      <td>-0.036656</td>\n",
       "      <td>0.012191</td>\n",
       "      <td>0.024991</td>\n",
       "      <td>-0.036038</td>\n",
       "      <td>0.034309</td>\n",
       "      <td>0.022688</td>\n",
       "      <td>-0.009362</td>\n",
       "      <td>206.0</td>\n",
       "    </tr>\n",
       "    <tr>\n",
       "      <th>4</th>\n",
       "      <td>0.005383</td>\n",
       "      <td>-0.044642</td>\n",
       "      <td>-0.036385</td>\n",
       "      <td>0.021872</td>\n",
       "      <td>0.003935</td>\n",
       "      <td>0.015596</td>\n",
       "      <td>0.008142</td>\n",
       "      <td>-0.002592</td>\n",
       "      <td>-0.031988</td>\n",
       "      <td>-0.046641</td>\n",
       "      <td>135.0</td>\n",
       "    </tr>\n",
       "  </tbody>\n",
       "</table>\n",
       "</div>"
      ],
      "text/plain": [
       "        age       sex       bmi        bp        s1        s2        s3  \\\n",
       "0  0.038076  0.050680  0.061696  0.021872 -0.044223 -0.034821 -0.043401   \n",
       "1 -0.001882 -0.044642 -0.051474 -0.026328 -0.008449 -0.019163  0.074412   \n",
       "2  0.085299  0.050680  0.044451 -0.005670 -0.045599 -0.034194 -0.032356   \n",
       "3 -0.089063 -0.044642 -0.011595 -0.036656  0.012191  0.024991 -0.036038   \n",
       "4  0.005383 -0.044642 -0.036385  0.021872  0.003935  0.015596  0.008142   \n",
       "\n",
       "         s4        s5        s6  target  \n",
       "0 -0.002592  0.019907 -0.017646   151.0  \n",
       "1 -0.039493 -0.068332 -0.092204    75.0  \n",
       "2 -0.002592  0.002861 -0.025930   141.0  \n",
       "3  0.034309  0.022688 -0.009362   206.0  \n",
       "4 -0.002592 -0.031988 -0.046641   135.0  "
      ]
     },
     "execution_count": 2,
     "metadata": {},
     "output_type": "execute_result"
    }
   ],
   "source": [
    "from sklearn.datasets import load_diabetes\n",
    "\n",
    "data = load_diabetes()\n",
    "df = pd.DataFrame(data=np.c_[ data.data, data.target ],  \n",
    "                  columns=np.append(data.feature_names, 'target'))\n",
    "df.head()"
   ]
  },
  {
   "cell_type": "code",
   "execution_count": 3,
   "metadata": {},
   "outputs": [],
   "source": [
    "X = df.drop('target', axis=1)\n",
    "y = df['target']\n",
    "\n",
    "# Train / Test split\n",
    "X_train, X_test, y_train, y_test = train_test_split(X, y, test_size=0.2, random_state=42)\n",
    "\n",
    "# Train / Validation split\n",
    "X_train, X_val, y_train, y_val = train_test_split(X_train, y_train, test_size=0.2, random_state=42)"
   ]
  },
  {
   "cell_type": "code",
   "execution_count": 4,
   "metadata": {},
   "outputs": [],
   "source": [
    "# Scale the data\n",
    "\n",
    "scaler = MinMaxScaler().fit(X_train)\n",
    "X_train = scaler.transform(X_train)\n",
    "X_val = scaler.transform(X_val)\n",
    "X_test = scaler.transform(X_test)"
   ]
  },
  {
   "cell_type": "code",
   "execution_count": 26,
   "metadata": {},
   "outputs": [],
   "source": [
    "# Define the NN model\n",
    "\n",
    "model = Sequential([\n",
    "    Input(X_train.shape[1]),\n",
    "    Dense(16, activation='relu'),\n",
    "    Dense(8, activation='relu'),\n",
    "    Dense(1, activation='linear'),\n",
    "])\n",
    "\n",
    "model.compile(optimizer=Adam(learning_rate=0.01),\n",
    "              loss='mean_squared_error',\n",
    "              metrics=['mae', 'mse'])"
   ]
  },
  {
   "cell_type": "code",
   "execution_count": 6,
   "metadata": {},
   "outputs": [
    {
     "name": "stdout",
     "output_type": "stream",
     "text": [
      "Model: \"sequential\"\n",
      "_________________________________________________________________\n",
      " Layer (type)                Output Shape              Param #   \n",
      "=================================================================\n",
      " dense (Dense)               (None, 16)                176       \n",
      "                                                                 \n",
      " dense_1 (Dense)             (None, 8)                 136       \n",
      "                                                                 \n",
      " dense_2 (Dense)             (None, 1)                 9         \n",
      "                                                                 \n",
      "=================================================================\n",
      "Total params: 321\n",
      "Trainable params: 321\n",
      "Non-trainable params: 0\n",
      "_________________________________________________________________\n"
     ]
    }
   ],
   "source": [
    "model.summary()"
   ]
  },
  {
   "cell_type": "code",
   "execution_count": 7,
   "metadata": {},
   "outputs": [
    {
     "name": "stdout",
     "output_type": "stream",
     "text": [
      "Epoch 1/50\n"
     ]
    },
    {
     "name": "stdout",
     "output_type": "stream",
     "text": [
      "18/18 [==============================] - 0s 1ms/step - loss: 27116.8691 - mae: 144.9494 - mse: 27116.8691\n",
      "Epoch 2/50\n",
      "18/18 [==============================] - 0s 1ms/step - loss: 20225.2246 - mae: 119.6966 - mse: 20225.2246\n",
      "Epoch 3/50\n",
      "18/18 [==============================] - 0s 1ms/step - loss: 8370.3262 - mae: 70.0969 - mse: 8370.3262\n",
      "Epoch 4/50\n",
      "18/18 [==============================] - 0s 1ms/step - loss: 5176.7427 - mae: 61.5066 - mse: 5176.7427\n",
      "Epoch 5/50\n",
      "18/18 [==============================] - 0s 1ms/step - loss: 4745.1421 - mae: 57.9260 - mse: 4745.1421\n",
      "Epoch 6/50\n",
      "18/18 [==============================] - 0s 1ms/step - loss: 4683.9526 - mae: 57.9376 - mse: 4683.9526\n",
      "Epoch 7/50\n",
      "18/18 [==============================] - 0s 1ms/step - loss: 4404.7139 - mae: 56.1336 - mse: 4404.7139\n",
      "Epoch 8/50\n",
      "18/18 [==============================] - 0s 1ms/step - loss: 4311.0386 - mae: 55.3440 - mse: 4311.0386\n",
      "Epoch 9/50\n",
      "18/18 [==============================] - 0s 2ms/step - loss: 4173.8584 - mae: 54.8528 - mse: 4173.8584\n",
      "Epoch 10/50\n",
      "18/18 [==============================] - 0s 1ms/step - loss: 4062.6099 - mae: 53.6891 - mse: 4062.6099\n",
      "Epoch 11/50\n",
      "18/18 [==============================] - 0s 1ms/step - loss: 3891.9517 - mae: 52.6451 - mse: 3891.9517\n",
      "Epoch 12/50\n",
      "18/18 [==============================] - 0s 1ms/step - loss: 3822.6223 - mae: 52.2111 - mse: 3822.6223\n",
      "Epoch 13/50\n",
      "18/18 [==============================] - 0s 1ms/step - loss: 3707.2085 - mae: 51.1529 - mse: 3707.2085\n",
      "Epoch 14/50\n",
      "18/18 [==============================] - 0s 1ms/step - loss: 3603.3433 - mae: 50.2957 - mse: 3603.3433\n",
      "Epoch 15/50\n",
      "18/18 [==============================] - 0s 1ms/step - loss: 3556.8372 - mae: 49.9449 - mse: 3556.8372\n",
      "Epoch 16/50\n",
      "18/18 [==============================] - 0s 1ms/step - loss: 3453.6667 - mae: 48.5229 - mse: 3453.6667\n",
      "Epoch 17/50\n",
      "18/18 [==============================] - 0s 2ms/step - loss: 3368.3887 - mae: 48.2834 - mse: 3368.3887\n",
      "Epoch 18/50\n",
      "18/18 [==============================] - 0s 1ms/step - loss: 3311.0269 - mae: 47.3337 - mse: 3311.0269\n",
      "Epoch 19/50\n",
      "18/18 [==============================] - 0s 1ms/step - loss: 3232.8987 - mae: 46.6179 - mse: 3232.8987\n",
      "Epoch 20/50\n",
      "18/18 [==============================] - 0s 1ms/step - loss: 3188.1382 - mae: 45.9653 - mse: 3188.1382\n",
      "Epoch 21/50\n",
      "18/18 [==============================] - 0s 1ms/step - loss: 3193.0750 - mae: 46.2058 - mse: 3193.0750\n",
      "Epoch 22/50\n",
      "18/18 [==============================] - 0s 1ms/step - loss: 3106.2671 - mae: 45.5349 - mse: 3106.2671\n",
      "Epoch 23/50\n",
      "18/18 [==============================] - 0s 1ms/step - loss: 3081.2917 - mae: 44.8041 - mse: 3081.2917\n",
      "Epoch 24/50\n",
      "18/18 [==============================] - 0s 1ms/step - loss: 3051.9824 - mae: 44.8112 - mse: 3051.9824\n",
      "Epoch 25/50\n",
      "18/18 [==============================] - 0s 1ms/step - loss: 3026.6863 - mae: 44.2394 - mse: 3026.6863\n",
      "Epoch 26/50\n",
      "18/18 [==============================] - 0s 1ms/step - loss: 3002.0171 - mae: 44.0252 - mse: 3002.0171\n",
      "Epoch 27/50\n",
      "18/18 [==============================] - 0s 1ms/step - loss: 3008.5278 - mae: 43.9917 - mse: 3008.5278\n",
      "Epoch 28/50\n",
      "18/18 [==============================] - 0s 1ms/step - loss: 2989.3618 - mae: 44.0030 - mse: 2989.3618\n",
      "Epoch 29/50\n",
      "18/18 [==============================] - 0s 1ms/step - loss: 3024.8796 - mae: 44.0897 - mse: 3024.8796\n",
      "Epoch 30/50\n",
      "18/18 [==============================] - 0s 2ms/step - loss: 2978.8242 - mae: 43.8689 - mse: 2978.8242\n",
      "Epoch 31/50\n",
      "18/18 [==============================] - 0s 1ms/step - loss: 3057.4170 - mae: 44.3439 - mse: 3057.4170\n",
      "Epoch 32/50\n",
      "18/18 [==============================] - 0s 3ms/step - loss: 2978.0251 - mae: 43.6308 - mse: 2978.0251\n",
      "Epoch 33/50\n",
      "18/18 [==============================] - 0s 2ms/step - loss: 2992.2046 - mae: 43.7405 - mse: 2992.2046\n",
      "Epoch 34/50\n",
      "18/18 [==============================] - 0s 1ms/step - loss: 3008.5620 - mae: 44.0077 - mse: 3008.5620\n",
      "Epoch 35/50\n",
      "18/18 [==============================] - 0s 2ms/step - loss: 2957.8059 - mae: 43.6920 - mse: 2957.8059\n",
      "Epoch 36/50\n",
      "18/18 [==============================] - 0s 2ms/step - loss: 2962.0073 - mae: 43.3648 - mse: 2962.0073\n",
      "Epoch 37/50\n",
      "18/18 [==============================] - 0s 3ms/step - loss: 2975.2009 - mae: 43.8123 - mse: 2975.2009\n",
      "Epoch 38/50\n",
      "18/18 [==============================] - 0s 2ms/step - loss: 2946.0964 - mae: 43.3210 - mse: 2946.0964\n",
      "Epoch 39/50\n",
      "18/18 [==============================] - 0s 1ms/step - loss: 2958.9626 - mae: 43.5834 - mse: 2958.9626\n",
      "Epoch 40/50\n",
      "18/18 [==============================] - 0s 1ms/step - loss: 2972.3613 - mae: 43.6518 - mse: 2972.3613\n",
      "Epoch 41/50\n",
      "18/18 [==============================] - 0s 1ms/step - loss: 2952.5361 - mae: 43.7032 - mse: 2952.5361\n",
      "Epoch 42/50\n",
      "18/18 [==============================] - 0s 1ms/step - loss: 2977.0686 - mae: 43.4804 - mse: 2977.0686\n",
      "Epoch 43/50\n",
      "18/18 [==============================] - 0s 1ms/step - loss: 2964.3330 - mae: 43.4114 - mse: 2964.3330\n",
      "Epoch 44/50\n",
      "18/18 [==============================] - 0s 1ms/step - loss: 2964.6152 - mae: 43.8018 - mse: 2964.6152\n",
      "Epoch 45/50\n",
      "18/18 [==============================] - 0s 1ms/step - loss: 2982.5005 - mae: 43.3956 - mse: 2982.5005\n",
      "Epoch 46/50\n",
      "18/18 [==============================] - 0s 1ms/step - loss: 2933.5566 - mae: 43.0653 - mse: 2933.5566\n",
      "Epoch 47/50\n",
      "18/18 [==============================] - 0s 1ms/step - loss: 2982.9971 - mae: 43.7698 - mse: 2982.9971\n",
      "Epoch 48/50\n",
      "18/18 [==============================] - 0s 1ms/step - loss: 2955.7212 - mae: 43.4788 - mse: 2955.7212\n",
      "Epoch 49/50\n",
      "18/18 [==============================] - 0s 2ms/step - loss: 2984.6907 - mae: 43.7980 - mse: 2984.6907\n",
      "Epoch 50/50\n",
      "18/18 [==============================] - 0s 1ms/step - loss: 2923.9893 - mae: 43.2203 - mse: 2923.9893\n"
     ]
    }
   ],
   "source": [
    "results = model.fit(X_train, y_train, epochs=50, batch_size=16)"
   ]
  },
  {
   "cell_type": "code",
   "execution_count": 8,
   "metadata": {},
   "outputs": [
    {
     "data": {
      "text/plain": [
       "dict_keys(['loss', 'mae', 'mse'])"
      ]
     },
     "execution_count": 8,
     "metadata": {},
     "output_type": "execute_result"
    }
   ],
   "source": [
    "# The `results` object contains the loss and metrics values for the training data\n",
    "\n",
    "results.history.keys()"
   ]
  },
  {
   "cell_type": "code",
   "execution_count": 9,
   "metadata": {},
   "outputs": [
    {
     "data": {
      "text/plain": [
       "[43.06529998779297,\n",
       " 43.76976776123047,\n",
       " 43.478755950927734,\n",
       " 43.79795837402344,\n",
       " 43.2203254699707]"
      ]
     },
     "execution_count": 9,
     "metadata": {},
     "output_type": "execute_result"
    }
   ],
   "source": [
    "# Last 5 values of MAE on the training data\n",
    "results.history['mae'][-5:]"
   ]
  },
  {
   "cell_type": "code",
   "execution_count": 10,
   "metadata": {},
   "outputs": [
    {
     "data": {
      "image/png": "[encoded data removed]",
      "text/plain": [
       "<Figure size 640x480 with 1 Axes>"
      ]
     },
     "metadata": {},
     "output_type": "display_data"
    }
   ],
   "source": [
    "# Visualize the training MAE over the epochs\n",
    "\n",
    "plt.plot(results.history['mae'])\n",
    "plt.xlabel('Epochs')\n",
    "plt.ylabel('MAE')\n",
    "plt.show()"
   ]
  },
  {
   "cell_type": "code",
   "execution_count": 11,
   "metadata": {},
   "outputs": [
    {
     "name": "stdout",
     "output_type": "stream",
     "text": [
      "9/9 [==============================] - 0s 2ms/step - loss: 2935.0024 - mae: 43.5804 - mse: 2935.0024\n",
      "3/3 [==============================] - 0s 2ms/step - loss: 2795.5393 - mae: 44.0796 - mse: 2795.5393\n"
     ]
    }
   ],
   "source": [
    "# Evaluates on the given metrics (when we compiled the model) and the loss function\n",
    "\n",
    "train_loss, train_mae, train_mse = model.evaluate(X_train, y_train)\n",
    "val_loss, val_mae, val_mse = model.evaluate(X_val, y_val)"
   ]
  },
  {
   "cell_type": "code",
   "execution_count": 12,
   "metadata": {},
   "outputs": [
    {
     "name": "stdout",
     "output_type": "stream",
     "text": [
      "Train MAE: 43.58\n",
      "Validation MAE: 44.08\n",
      "\n",
      "Train MSE: 2935.00\n",
      "Validation MSE: 2795.54\n"
     ]
    }
   ],
   "source": [
    "print(f'Train MAE: {train_mae:.2f}')\n",
    "print(f'Validation MAE: {val_mae:.2f}')\n",
    "print()\n",
    "print(f'Train MSE: {train_mse:.2f}')\n",
    "print(f'Validation MSE: {val_mse:.2f}')"
   ]
  },
  {
   "cell_type": "markdown",
   "metadata": {},
   "source": [
    "# Classification"
   ]
  },
  {
   "cell_type": "code",
   "execution_count": 13,
   "metadata": {},
   "outputs": [],
   "source": [
    "from tensorflow.keras.metrics import Precision, Recall"
   ]
  },
  {
   "cell_type": "code",
   "execution_count": 14,
   "metadata": {},
   "outputs": [
    {
     "data": {
      "text/html": [
       "<div>\n",
       "<style scoped>\n",
       "    .dataframe tbody tr th:only-of-type {\n",
       "        vertical-align: middle;\n",
       "    }\n",
       "\n",
       "    .dataframe tbody tr th {\n",
       "        vertical-align: top;\n",
       "    }\n",
       "\n",
       "    .dataframe thead th {\n",
       "        text-align: right;\n",
       "    }\n",
       "</style>\n",
       "<table border=\"1\" class=\"dataframe\">\n",
       "  <thead>\n",
       "    <tr style=\"text-align: right;\">\n",
       "      <th></th>\n",
       "      <th>mean radius</th>\n",
       "      <th>mean texture</th>\n",
       "      <th>mean perimeter</th>\n",
       "      <th>mean area</th>\n",
       "      <th>mean smoothness</th>\n",
       "      <th>mean compactness</th>\n",
       "      <th>mean concavity</th>\n",
       "      <th>mean concave points</th>\n",
       "      <th>mean symmetry</th>\n",
       "      <th>mean fractal dimension</th>\n",
       "      <th>...</th>\n",
       "      <th>worst texture</th>\n",
       "      <th>worst perimeter</th>\n",
       "      <th>worst area</th>\n",
       "      <th>worst smoothness</th>\n",
       "      <th>worst compactness</th>\n",
       "      <th>worst concavity</th>\n",
       "      <th>worst concave points</th>\n",
       "      <th>worst symmetry</th>\n",
       "      <th>worst fractal dimension</th>\n",
       "      <th>target</th>\n",
       "    </tr>\n",
       "  </thead>\n",
       "  <tbody>\n",
       "    <tr>\n",
       "      <th>0</th>\n",
       "      <td>17.99</td>\n",
       "      <td>10.38</td>\n",
       "      <td>122.80</td>\n",
       "      <td>1001.0</td>\n",
       "      <td>0.11840</td>\n",
       "      <td>0.27760</td>\n",
       "      <td>0.3001</td>\n",
       "      <td>0.14710</td>\n",
       "      <td>0.2419</td>\n",
       "      <td>0.07871</td>\n",
       "      <td>...</td>\n",
       "      <td>17.33</td>\n",
       "      <td>184.60</td>\n",
       "      <td>2019.0</td>\n",
       "      <td>0.1622</td>\n",
       "      <td>0.6656</td>\n",
       "      <td>0.7119</td>\n",
       "      <td>0.2654</td>\n",
       "      <td>0.4601</td>\n",
       "      <td>0.11890</td>\n",
       "      <td>0.0</td>\n",
       "    </tr>\n",
       "    <tr>\n",
       "      <th>1</th>\n",
       "      <td>20.57</td>\n",
       "      <td>17.77</td>\n",
       "      <td>132.90</td>\n",
       "      <td>1326.0</td>\n",
       "      <td>0.08474</td>\n",
       "      <td>0.07864</td>\n",
       "      <td>0.0869</td>\n",
       "      <td>0.07017</td>\n",
       "      <td>0.1812</td>\n",
       "      <td>0.05667</td>\n",
       "      <td>...</td>\n",
       "      <td>23.41</td>\n",
       "      <td>158.80</td>\n",
       "      <td>1956.0</td>\n",
       "      <td>0.1238</td>\n",
       "      <td>0.1866</td>\n",
       "      <td>0.2416</td>\n",
       "      <td>0.1860</td>\n",
       "      <td>0.2750</td>\n",
       "      <td>0.08902</td>\n",
       "      <td>0.0</td>\n",
       "    </tr>\n",
       "    <tr>\n",
       "      <th>2</th>\n",
       "      <td>19.69</td>\n",
       "      <td>21.25</td>\n",
       "      <td>130.00</td>\n",
       "      <td>1203.0</td>\n",
       "      <td>0.10960</td>\n",
       "      <td>0.15990</td>\n",
       "      <td>0.1974</td>\n",
       "      <td>0.12790</td>\n",
       "      <td>0.2069</td>\n",
       "      <td>0.05999</td>\n",
       "      <td>...</td>\n",
       "      <td>25.53</td>\n",
       "      <td>152.50</td>\n",
       "      <td>1709.0</td>\n",
       "      <td>0.1444</td>\n",
       "      <td>0.4245</td>\n",
       "      <td>0.4504</td>\n",
       "      <td>0.2430</td>\n",
       "      <td>0.3613</td>\n",
       "      <td>0.08758</td>\n",
       "      <td>0.0</td>\n",
       "    </tr>\n",
       "    <tr>\n",
       "      <th>3</th>\n",
       "      <td>11.42</td>\n",
       "      <td>20.38</td>\n",
       "      <td>77.58</td>\n",
       "      <td>386.1</td>\n",
       "      <td>0.14250</td>\n",
       "      <td>0.28390</td>\n",
       "      <td>0.2414</td>\n",
       "      <td>0.10520</td>\n",
       "      <td>0.2597</td>\n",
       "      <td>0.09744</td>\n",
       "      <td>...</td>\n",
       "      <td>26.50</td>\n",
       "      <td>98.87</td>\n",
       "      <td>567.7</td>\n",
       "      <td>0.2098</td>\n",
       "      <td>0.8663</td>\n",
       "      <td>0.6869</td>\n",
       "      <td>0.2575</td>\n",
       "      <td>0.6638</td>\n",
       "      <td>0.17300</td>\n",
       "      <td>0.0</td>\n",
       "    </tr>\n",
       "    <tr>\n",
       "      <th>4</th>\n",
       "      <td>20.29</td>\n",
       "      <td>14.34</td>\n",
       "      <td>135.10</td>\n",
       "      <td>1297.0</td>\n",
       "      <td>0.10030</td>\n",
       "      <td>0.13280</td>\n",
       "      <td>0.1980</td>\n",
       "      <td>0.10430</td>\n",
       "      <td>0.1809</td>\n",
       "      <td>0.05883</td>\n",
       "      <td>...</td>\n",
       "      <td>16.67</td>\n",
       "      <td>152.20</td>\n",
       "      <td>1575.0</td>\n",
       "      <td>0.1374</td>\n",
       "      <td>0.2050</td>\n",
       "      <td>0.4000</td>\n",
       "      <td>0.1625</td>\n",
       "      <td>0.2364</td>\n",
       "      <td>0.07678</td>\n",
       "      <td>0.0</td>\n",
       "    </tr>\n",
       "  </tbody>\n",
       "</table>\n",
       "<p>5 rows × 31 columns</p>\n",
       "</div>"
      ],
      "text/plain": [
       "   mean radius  mean texture  mean perimeter  mean area  mean smoothness  \\\n",
       "0        17.99         10.38          122.80     1001.0          0.11840   \n",
       "1        20.57         17.77          132.90     1326.0          0.08474   \n",
       "2        19.69         21.25          130.00     1203.0          0.10960   \n",
       "3        11.42         20.38           77.58      386.1          0.14250   \n",
       "4        20.29         14.34          135.10     1297.0          0.10030   \n",
       "\n",
       "   mean compactness  mean concavity  mean concave points  mean symmetry  \\\n",
       "0           0.27760          0.3001              0.14710         0.2419   \n",
       "1           0.07864          0.0869              0.07017         0.1812   \n",
       "2           0.15990          0.1974              0.12790         0.2069   \n",
       "3           0.28390          0.2414              0.10520         0.2597   \n",
       "4           0.13280          0.1980              0.10430         0.1809   \n",
       "\n",
       "   mean fractal dimension  ...  worst texture  worst perimeter  worst area  \\\n",
       "0                 0.07871  ...          17.33           184.60      2019.0   \n",
       "1                 0.05667  ...          23.41           158.80      1956.0   \n",
       "2                 0.05999  ...          25.53           152.50      1709.0   \n",
       "3                 0.09744  ...          26.50            98.87       567.7   \n",
       "4                 0.05883  ...          16.67           152.20      1575.0   \n",
       "\n",
       "   worst smoothness  worst compactness  worst concavity  worst concave points  \\\n",
       "0            0.1622             0.6656           0.7119                0.2654   \n",
       "1            0.1238             0.1866           0.2416                0.1860   \n",
       "2            0.1444             0.4245           0.4504                0.2430   \n",
       "3            0.2098             0.8663           0.6869                0.2575   \n",
       "4            0.1374             0.2050           0.4000                0.1625   \n",
       "\n",
       "   worst symmetry  worst fractal dimension  target  \n",
       "0          0.4601                  0.11890     0.0  \n",
       "1          0.2750                  0.08902     0.0  \n",
       "2          0.3613                  0.08758     0.0  \n",
       "3          0.6638                  0.17300     0.0  \n",
       "4          0.2364                  0.07678     0.0  \n",
       "\n",
       "[5 rows x 31 columns]"
      ]
     },
     "execution_count": 14,
     "metadata": {},
     "output_type": "execute_result"
    }
   ],
   "source": [
    "from sklearn.datasets import load_breast_cancer\n",
    "\n",
    "# Load the dataset\n",
    "data = load_breast_cancer()\n",
    "df = pd.DataFrame(data=np.c_[ data.data, data.target ],  \n",
    "                  columns=np.append(data.feature_names, 'target'))\n",
    "df.head()"
   ]
  },
  {
   "cell_type": "code",
   "execution_count": 15,
   "metadata": {},
   "outputs": [],
   "source": [
    "X = df.drop('target', axis=1)\n",
    "y = df['target']\n",
    "\n",
    "# Train / Test split\n",
    "X_train, X_test, y_train, y_test = train_test_split(X, y, test_size=0.2, random_state=42)\n",
    "\n",
    "# Train / Validation split\n",
    "X_train, X_val, y_train, y_val = train_test_split(X_train, y_train, test_size=0.2, random_state=42)"
   ]
  },
  {
   "cell_type": "code",
   "execution_count": 16,
   "metadata": {},
   "outputs": [],
   "source": [
    "# Scale the data\n",
    "\n",
    "scaler = MinMaxScaler().fit(X_train)\n",
    "X_train = scaler.transform(X_train)\n",
    "X_val = scaler.transform(X_val)\n",
    "X_test = scaler.transform(X_test)"
   ]
  },
  {
   "cell_type": "markdown",
   "metadata": {},
   "source": [
    "## 1 Sigmoid Neuron"
   ]
  },
  {
   "cell_type": "code",
   "execution_count": 17,
   "metadata": {},
   "outputs": [],
   "source": [
    "# Define the NN model\n",
    "\n",
    "model = Sequential([\n",
    "    Input(X_train.shape[1]),\n",
    "    Dense(16, activation='relu'),\n",
    "    Dense(8, activation='relu'),\n",
    "    Dense(1, activation='sigmoid'),\n",
    "])\n",
    "\n",
    "model.compile(optimizer=Adam(learning_rate=0.01),\n",
    "              loss='binary_crossentropy',\n",
    "              metrics=[Precision(), Recall()])"
   ]
  },
  {
   "cell_type": "code",
   "execution_count": 18,
   "metadata": {},
   "outputs": [
    {
     "name": "stdout",
     "output_type": "stream",
     "text": [
      "Model: \"sequential_1\"\n",
      "_________________________________________________________________\n",
      " Layer (type)                Output Shape              Param #   \n",
      "=================================================================\n",
      " dense_3 (Dense)             (None, 16)                496       \n",
      "                                                                 \n",
      " dense_4 (Dense)             (None, 8)                 136       \n",
      "                                                                 \n",
      " dense_5 (Dense)             (None, 1)                 9         \n",
      "                                                                 \n",
      "=================================================================\n",
      "Total params: 641\n",
      "Trainable params: 641\n",
      "Non-trainable params: 0\n",
      "_________________________________________________________________\n"
     ]
    }
   ],
   "source": [
    "model.summary()"
   ]
  },
  {
   "cell_type": "code",
   "execution_count": 19,
   "metadata": {},
   "outputs": [
    {
     "name": "stdout",
     "output_type": "stream",
     "text": [
      "Epoch 1/50\n"
     ]
    },
    {
     "name": "stdout",
     "output_type": "stream",
     "text": [
      "23/23 [==============================] - 1s 1ms/step - loss: 0.5392 - precision: 0.8679 - recall: 0.7965\n",
      "Epoch 2/50\n",
      "23/23 [==============================] - 0s 2ms/step - loss: 0.2754 - precision: 0.9177 - recall: 0.9177\n",
      "Epoch 3/50\n",
      "23/23 [==============================] - 0s 2ms/step - loss: 0.1789 - precision: 0.9432 - recall: 0.9351\n",
      "Epoch 4/50\n",
      "23/23 [==============================] - 0s 2ms/step - loss: 0.1668 - precision: 0.9328 - recall: 0.9610\n",
      "Epoch 5/50\n",
      "23/23 [==============================] - 0s 2ms/step - loss: 0.1078 - precision: 0.9534 - recall: 0.9740\n",
      "Epoch 6/50\n",
      "23/23 [==============================] - 0s 2ms/step - loss: 0.1094 - precision: 0.9609 - recall: 0.9567\n",
      "Epoch 7/50\n",
      "23/23 [==============================] - 0s 2ms/step - loss: 0.1373 - precision: 0.9372 - recall: 0.9697\n",
      "Epoch 8/50\n",
      "23/23 [==============================] - 0s 2ms/step - loss: 0.1369 - precision: 0.9600 - recall: 0.9351\n",
      "Epoch 9/50\n",
      "23/23 [==============================] - 0s 2ms/step - loss: 0.1181 - precision: 0.9528 - recall: 0.9610\n",
      "Epoch 10/50\n",
      "23/23 [==============================] - 0s 2ms/step - loss: 0.0751 - precision: 0.9784 - recall: 0.9784\n",
      "Epoch 11/50\n",
      "23/23 [==============================] - 0s 2ms/step - loss: 0.0750 - precision: 0.9655 - recall: 0.9697\n",
      "Epoch 12/50\n",
      "23/23 [==============================] - 0s 2ms/step - loss: 0.0572 - precision: 0.9828 - recall: 0.9913\n",
      "Epoch 13/50\n",
      "23/23 [==============================] - 0s 2ms/step - loss: 0.0556 - precision: 0.9786 - recall: 0.9913\n",
      "Epoch 14/50\n",
      "23/23 [==============================] - 0s 2ms/step - loss: 0.0601 - precision: 0.9870 - recall: 0.9870\n",
      "Epoch 15/50\n",
      "23/23 [==============================] - 0s 2ms/step - loss: 0.0531 - precision: 0.9868 - recall: 0.9697\n",
      "Epoch 16/50\n",
      "23/23 [==============================] - 0s 2ms/step - loss: 0.0536 - precision: 0.9784 - recall: 0.9784\n",
      "Epoch 17/50\n",
      "23/23 [==============================] - 0s 2ms/step - loss: 0.0681 - precision: 0.9784 - recall: 0.9827\n",
      "Epoch 18/50\n",
      "23/23 [==============================] - 0s 2ms/step - loss: 0.0413 - precision: 0.9871 - recall: 0.9913\n",
      "Epoch 19/50\n",
      "23/23 [==============================] - 0s 2ms/step - loss: 0.0367 - precision: 0.9913 - recall: 0.9913\n",
      "Epoch 20/50\n",
      "23/23 [==============================] - 0s 1ms/step - loss: 0.0662 - precision: 0.9701 - recall: 0.9827\n",
      "Epoch 21/50\n",
      "23/23 [==============================] - 0s 7ms/step - loss: 0.0423 - precision: 0.9957 - recall: 0.9913\n",
      "Epoch 22/50\n",
      "23/23 [==============================] - 0s 2ms/step - loss: 0.0497 - precision: 0.9828 - recall: 0.9870\n",
      "Epoch 23/50\n",
      "23/23 [==============================] - 0s 3ms/step - loss: 0.0471 - precision: 0.9828 - recall: 0.9870\n",
      "Epoch 24/50\n",
      "23/23 [==============================] - 0s 2ms/step - loss: 0.0397 - precision: 0.9829 - recall: 0.9957\n",
      "Epoch 25/50\n",
      "23/23 [==============================] - 0s 1ms/step - loss: 0.0370 - precision: 0.9828 - recall: 0.9913\n",
      "Epoch 26/50\n",
      "23/23 [==============================] - 0s 2ms/step - loss: 0.0420 - precision: 0.9913 - recall: 0.9827\n",
      "Epoch 27/50\n",
      "23/23 [==============================] - 0s 2ms/step - loss: 0.0405 - precision: 0.9871 - recall: 0.9913\n",
      "Epoch 28/50\n",
      "23/23 [==============================] - 0s 2ms/step - loss: 0.0336 - precision: 0.9871 - recall: 0.9913\n",
      "Epoch 29/50\n",
      "23/23 [==============================] - 0s 2ms/step - loss: 0.0356 - precision: 0.9870 - recall: 0.9870\n",
      "Epoch 30/50\n",
      "23/23 [==============================] - 0s 2ms/step - loss: 0.0404 - precision: 0.9828 - recall: 0.9870\n",
      "Epoch 31/50\n",
      "23/23 [==============================] - 0s 2ms/step - loss: 0.0485 - precision: 0.9826 - recall: 0.9784\n",
      "Epoch 32/50\n",
      "23/23 [==============================] - 0s 2ms/step - loss: 0.0457 - precision: 0.9828 - recall: 0.9913\n",
      "Epoch 33/50\n",
      "23/23 [==============================] - 0s 1ms/step - loss: 0.0299 - precision: 0.9828 - recall: 0.9913\n",
      "Epoch 34/50\n",
      "23/23 [==============================] - 0s 2ms/step - loss: 0.0436 - precision: 0.9956 - recall: 0.9870\n",
      "Epoch 35/50\n",
      "23/23 [==============================] - 0s 2ms/step - loss: 0.0366 - precision: 0.9913 - recall: 0.9913\n",
      "Epoch 36/50\n",
      "23/23 [==============================] - 0s 3ms/step - loss: 0.0270 - precision: 0.9871 - recall: 0.9957\n",
      "Epoch 37/50\n",
      "23/23 [==============================] - 0s 2ms/step - loss: 0.0272 - precision: 0.9956 - recall: 0.9870\n",
      "Epoch 38/50\n",
      "23/23 [==============================] - 0s 2ms/step - loss: 0.0276 - precision: 0.9913 - recall: 0.9913\n",
      "Epoch 39/50\n",
      "23/23 [==============================] - 0s 2ms/step - loss: 0.0376 - precision: 0.9828 - recall: 0.9913\n",
      "Epoch 40/50\n",
      "23/23 [==============================] - 0s 2ms/step - loss: 0.0380 - precision: 0.9913 - recall: 0.9870\n",
      "Epoch 41/50\n",
      "23/23 [==============================] - 0s 2ms/step - loss: 0.0434 - precision: 0.9786 - recall: 0.9913\n",
      "Epoch 42/50\n",
      "23/23 [==============================] - 0s 2ms/step - loss: 0.0276 - precision: 0.9913 - recall: 0.9913\n",
      "Epoch 43/50\n",
      "23/23 [==============================] - 0s 2ms/step - loss: 0.0317 - precision: 0.9913 - recall: 0.9870\n",
      "Epoch 44/50\n",
      "23/23 [==============================] - 0s 2ms/step - loss: 0.0304 - precision: 0.9870 - recall: 0.9870\n",
      "Epoch 45/50\n",
      "23/23 [==============================] - 0s 1ms/step - loss: 0.0294 - precision: 0.9913 - recall: 0.9913\n",
      "Epoch 46/50\n",
      "23/23 [==============================] - 0s 2ms/step - loss: 0.0337 - precision: 0.9957 - recall: 0.9913\n",
      "Epoch 47/50\n",
      "23/23 [==============================] - 0s 1ms/step - loss: 0.0520 - precision: 0.9869 - recall: 0.9784\n",
      "Epoch 48/50\n",
      "23/23 [==============================] - 0s 2ms/step - loss: 0.0550 - precision: 0.9744 - recall: 0.9870\n",
      "Epoch 49/50\n",
      "23/23 [==============================] - 0s 2ms/step - loss: 0.0258 - precision: 0.9914 - recall: 0.9957\n",
      "Epoch 50/50\n",
      "23/23 [==============================] - 0s 2ms/step - loss: 0.0300 - precision: 0.9871 - recall: 0.9913\n"
     ]
    }
   ],
   "source": [
    "results = model.fit(X_train, y_train, epochs=50, batch_size=16)"
   ]
  },
  {
   "cell_type": "code",
   "execution_count": 20,
   "metadata": {},
   "outputs": [
    {
     "name": "stdout",
     "output_type": "stream",
     "text": [
      "3/3 [==============================] - 0s 2ms/step\n"
     ]
    },
    {
     "data": {
      "text/plain": [
       "array([[1.7029109e-06],\n",
       "       [9.9982071e-01],\n",
       "       [9.9996072e-01],\n",
       "       [1.0000000e+00],\n",
       "       [1.1408901e-01]], dtype=float32)"
      ]
     },
     "execution_count": 20,
     "metadata": {},
     "output_type": "execute_result"
    }
   ],
   "source": [
    "# Returns the probabilities given by the sigmoid function\n",
    "\n",
    "y_val_probs_1 = model.predict(X_val)\n",
    "y_val_probs_1[:5]"
   ]
  },
  {
   "cell_type": "code",
   "execution_count": 22,
   "metadata": {},
   "outputs": [
    {
     "data": {
      "image/png": "[encoded data removed]",
      "text/plain": [
       "<Figure size 640x480 with 1 Axes>"
      ]
     },
     "metadata": {},
     "output_type": "display_data"
    }
   ],
   "source": [
    "# Visualize the training metrics over the epochs\n",
    "\n",
    "plt.plot(results.history['precision'], label='Precision')\n",
    "plt.plot(results.history['recall'], label='Recall')\n",
    "plt.xlabel('Epochs')\n",
    "plt.ylabel('Metric values')\n",
    "plt.legend()\n",
    "plt.show()"
   ]
  },
  {
   "cell_type": "code",
   "execution_count": 23,
   "metadata": {},
   "outputs": [
    {
     "name": "stdout",
     "output_type": "stream",
     "text": [
      "12/12 [==============================] - 0s 1ms/step - loss: 0.0485 - precision: 0.9665 - recall: 1.0000\n",
      "3/3 [==============================] - 0s 2ms/step - loss: 0.1657 - precision: 0.9649 - recall: 1.0000\n"
     ]
    }
   ],
   "source": [
    "# Evaluates on the given metrics (when we compiled the model) and the loss function\n",
    "\n",
    "train_loss, train_prec, train_rec = model.evaluate(X_train, y_train)\n",
    "val_loss, val_prec, val_rec = model.evaluate(X_val, y_val)"
   ]
  },
  {
   "cell_type": "code",
   "execution_count": 24,
   "metadata": {},
   "outputs": [
    {
     "name": "stdout",
     "output_type": "stream",
     "text": [
      "Train Precision: 0.97\n",
      "Validation Precision: 0.96\n",
      "\n",
      "Train Recall: 1.00\n",
      "Validation Recall: 1.00\n"
     ]
    }
   ],
   "source": [
    "print(f'Train Precision: {train_prec:.2f}')\n",
    "print(f'Validation Precision: {val_prec:.2f}')\n",
    "print()\n",
    "print(f'Train Recall: {train_rec:.2f}')\n",
    "print(f'Validation Recall: {val_rec:.2f}')"
   ]
  }
 ],
 "metadata": {
  "kernelspec": {
   "display_name": "Python 3",
   "language": "python",
   "name": "python3"
  },
  "language_info": {
   "codemirror_mode": {
    "name": "ipython",
    "version": 3
   },
   "file_extension": ".py",
   "mimetype": "text/x-python",
   "name": "python",
   "nbconvert_exporter": "python",
   "pygments_lexer": "ipython3",
   "version": "3.10.12"
  }
 },
 "nbformat": 4,
 "nbformat_minor": 2
}
