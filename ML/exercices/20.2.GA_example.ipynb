{
 "cells": [
  {
   "cell_type": "markdown",
   "metadata": {},
   "source": [
    "# Maximizing Ones in a Binary Sequence\n",
    "\n",
    "- Develop a Genetic Algorithm (GA) that evolves binary sequences to maximize the number of 1s.\n",
    "- The algorithm should start with a population of randomly generated binary sequences and evolve them over successive generations to find the sequence with the highest possible number of 1s."
   ]
  },
  {
   "cell_type": "code",
   "execution_count": 1,
   "metadata": {},
   "outputs": [],
   "source": [
    "import random\n",
    "import numpy as np"
   ]
  },
  {
   "cell_type": "code",
   "execution_count": 2,
   "metadata": {},
   "outputs": [],
   "source": [
    "def create_individual(length):\n",
    "    \"\"\"Create a random individual.\"\"\"\n",
    "    return [np.random.randint(0, 2) for _ in range(length)]"
   ]
  },
  {
   "cell_type": "code",
   "execution_count": 3,
   "metadata": {},
   "outputs": [],
   "source": [
    "def compute_fitness(individual):\n",
    "    \"\"\"Compute the fitness of an individual. More 1s means higher fitness.\"\"\"\n",
    "    return sum(individual)"
   ]
  },
  {
   "cell_type": "code",
   "execution_count": 4,
   "metadata": {},
   "outputs": [],
   "source": [
    "def select_parents(population, fitnesses):\n",
    "    \"\"\"Select two parents based on their fitness. Higher fitness -> higher chance to be selected.\"\"\"\n",
    "    total_fitness = sum(fitnesses)\n",
    "    selection_probs = [fitness/total_fitness for fitness in fitnesses]\n",
    "    return random.choices(population, k=2, weights=selection_probs)"
   ]
  },
  {
   "cell_type": "code",
   "execution_count": 5,
   "metadata": {},
   "outputs": [],
   "source": [
    "def crossover(parent1, parent2):\n",
    "    \"\"\"Perform a simple one-point crossover. Return two children.\"\"\"\n",
    "    crossover_point = np.random.randint(1, len(parent1))\n",
    "    child1 = parent1[:crossover_point] + parent2[crossover_point:]\n",
    "    child2 = parent2[:crossover_point] + parent1[crossover_point:]\n",
    "    return child1, child2"
   ]
  },
  {
   "cell_type": "code",
   "execution_count": 8,
   "metadata": {},
   "outputs": [],
   "source": [
    "def mutate(individual, mutation_rate):\n",
    "    \"\"\"Flip random bits based on mutation_rate.\"\"\"\n",
    "    for i in range(len(individual)):\n",
    "        if random.random() < mutation_rate:\n",
    "            individual[i] = 1 - individual[i]\n",
    "    return individual"
   ]
  },
  {
   "cell_type": "code",
   "execution_count": 48,
   "metadata": {},
   "outputs": [],
   "source": [
    "def run_genetic_algorithm(seq_length, population_size, generations, mutation_rate):\n",
    "    \"\"\"\n",
    "    Run the genetic algorithm.\n",
    "\n",
    "    seq_length: length of the bit string\n",
    "    population_size: number of individuals in the population\n",
    "    generations: number of generations to run\n",
    "    mutation_prob: probability of mutation\n",
    "    keep_best: whether to keep the best individual from the previous generation\n",
    "\n",
    "    Return the final population.\n",
    "    \"\"\"\n",
    "\n",
    "    # Initialize population\n",
    "    population = [create_individual(seq_length) for _ in range(population_size)]\n",
    "    fitnesses = [compute_fitness(individual) for individual in population]\n",
    "\n",
    "    for generation in range(generations):\n",
    "        # Create new generation through selection, crossover, and mutation\n",
    "\n",
    "        # Initialize new population\n",
    "        new_population = []\n",
    "\n",
    "        for _ in range(population_size // 2):\n",
    "            # Select two parents\n",
    "            parent1, parent2 = select_parents(population, fitnesses)\n",
    "\n",
    "            # Crossover parents\n",
    "            child1, child2 = crossover(parent1, parent2)\n",
    "\n",
    "            # Mutate children\n",
    "            child1 = mutate(child1, mutation_rate)\n",
    "            child2 = mutate(child2, mutation_rate)\n",
    "\n",
    "            # Add children to new population\n",
    "            new_population.extend([child1, child2])\n",
    "\n",
    "        # Update population and compute new fitnesses\n",
    "        population = new_population\n",
    "        fitnesses = [compute_fitness(individual) for individual in population]\n",
    "\n",
    "        # Print out the best fitness in this generation\n",
    "        best_fitness = max(fitnesses)\n",
    "        print(f\"Generation {generation}, Best Fitness: {best_fitness}\")\n",
    "\n",
    "    return population"
   ]
  },
  {
   "cell_type": "code",
   "execution_count": 54,
   "metadata": {},
   "outputs": [
    {
     "name": "stdout",
     "output_type": "stream",
     "text": [
      "Generation 0, Best Fitness: 13\n",
      "Generation 1, Best Fitness: 13\n",
      "Generation 2, Best Fitness: 12\n",
      "Generation 3, Best Fitness: 12\n",
      "Generation 4, Best Fitness: 12\n",
      "Generation 5, Best Fitness: 13\n",
      "Generation 6, Best Fitness: 13\n",
      "Generation 7, Best Fitness: 12\n",
      "Generation 8, Best Fitness: 13\n",
      "Generation 9, Best Fitness: 13\n",
      "Generation 10, Best Fitness: 13\n",
      "Generation 11, Best Fitness: 13\n",
      "Generation 12, Best Fitness: 13\n",
      "Generation 13, Best Fitness: 13\n",
      "Generation 14, Best Fitness: 15\n",
      "Generation 15, Best Fitness: 13\n",
      "Generation 16, Best Fitness: 14\n",
      "Generation 17, Best Fitness: 13\n",
      "Generation 18, Best Fitness: 13\n",
      "Generation 19, Best Fitness: 13\n",
      "Generation 20, Best Fitness: 14\n",
      "Generation 21, Best Fitness: 13\n",
      "Generation 22, Best Fitness: 14\n",
      "Generation 23, Best Fitness: 14\n",
      "Generation 24, Best Fitness: 13\n",
      "Generation 25, Best Fitness: 13\n",
      "Generation 26, Best Fitness: 13\n",
      "Generation 27, Best Fitness: 13\n",
      "Generation 28, Best Fitness: 12\n",
      "Generation 29, Best Fitness: 14\n",
      "Generation 30, Best Fitness: 14\n",
      "Generation 31, Best Fitness: 14\n",
      "Generation 32, Best Fitness: 13\n",
      "Generation 33, Best Fitness: 13\n",
      "Generation 34, Best Fitness: 14\n",
      "Generation 35, Best Fitness: 13\n",
      "Generation 36, Best Fitness: 13\n",
      "Generation 37, Best Fitness: 12\n",
      "Generation 38, Best Fitness: 13\n",
      "Generation 39, Best Fitness: 13\n",
      "Generation 40, Best Fitness: 13\n",
      "Generation 41, Best Fitness: 13\n",
      "Generation 42, Best Fitness: 14\n",
      "Generation 43, Best Fitness: 13\n",
      "Generation 44, Best Fitness: 14\n",
      "Generation 45, Best Fitness: 13\n",
      "Generation 46, Best Fitness: 13\n",
      "Generation 47, Best Fitness: 13\n",
      "Generation 48, Best Fitness: 13\n",
      "Generation 49, Best Fitness: 13\n",
      "Generation 50, Best Fitness: 13\n",
      "Generation 51, Best Fitness: 13\n",
      "Generation 52, Best Fitness: 13\n",
      "Generation 53, Best Fitness: 13\n",
      "Generation 54, Best Fitness: 13\n",
      "Generation 55, Best Fitness: 14\n",
      "Generation 56, Best Fitness: 14\n",
      "Generation 57, Best Fitness: 13\n",
      "Generation 58, Best Fitness: 14\n",
      "Generation 59, Best Fitness: 13\n",
      "Generation 60, Best Fitness: 14\n",
      "Generation 61, Best Fitness: 13\n",
      "Generation 62, Best Fitness: 14\n",
      "Generation 63, Best Fitness: 13\n",
      "Generation 64, Best Fitness: 15\n",
      "Generation 65, Best Fitness: 14\n",
      "Generation 66, Best Fitness: 13\n",
      "Generation 67, Best Fitness: 12\n",
      "Generation 68, Best Fitness: 12\n",
      "Generation 69, Best Fitness: 13\n",
      "Generation 70, Best Fitness: 14\n",
      "Generation 71, Best Fitness: 13\n",
      "Generation 72, Best Fitness: 13\n",
      "Generation 73, Best Fitness: 13\n",
      "Generation 74, Best Fitness: 14\n",
      "Generation 75, Best Fitness: 13\n",
      "Generation 76, Best Fitness: 14\n",
      "Generation 77, Best Fitness: 15\n",
      "Generation 78, Best Fitness: 15\n",
      "Generation 79, Best Fitness: 14\n",
      "Generation 80, Best Fitness: 14\n",
      "Generation 81, Best Fitness: 13\n",
      "Generation 82, Best Fitness: 13\n",
      "Generation 83, Best Fitness: 14\n",
      "Generation 84, Best Fitness: 13\n",
      "Generation 85, Best Fitness: 13\n",
      "Generation 86, Best Fitness: 14\n",
      "Generation 87, Best Fitness: 14\n",
      "Generation 88, Best Fitness: 13\n",
      "Generation 89, Best Fitness: 13\n",
      "Generation 90, Best Fitness: 13\n",
      "Generation 91, Best Fitness: 15\n",
      "Generation 92, Best Fitness: 14\n",
      "Generation 93, Best Fitness: 13\n",
      "Generation 94, Best Fitness: 14\n",
      "Generation 95, Best Fitness: 13\n",
      "Generation 96, Best Fitness: 12\n",
      "Generation 97, Best Fitness: 12\n",
      "Generation 98, Best Fitness: 14\n",
      "Generation 99, Best Fitness: 15\n"
     ]
    }
   ],
   "source": [
    "# Run the GA\n",
    "final_population = run_genetic_algorithm(seq_length=15, population_size=100, generations=100, mutation_rate=0.1)"
   ]
  },
  {
   "cell_type": "code",
   "execution_count": 44,
   "metadata": {},
   "outputs": [
    {
     "name": "stdout",
     "output_type": "stream",
     "text": [
      "Best individual: [1, 1, 1, 1, 1, 1, 1, 1, 1, 1, 1, 1, 1, 1, 1]\n",
      "Fitness: 15\n"
     ]
    }
   ],
   "source": [
    "fitnesses = [compute_fitness(individual) for individual in final_population]\n",
    "best_idx = np.argmax(fitnesses)\n",
    "best_individual = final_population[best_idx]\n",
    "\n",
    "print(f\"Best individual: {best_individual}\")\n",
    "print(f\"Fitness: {fitnesses[best_idx]}\")"
   ]
  }
 ],
 "metadata": {
  "kernelspec": {
   "display_name": "Python 3",
   "language": "python",
   "name": "python3"
  },
  "language_info": {
   "codemirror_mode": {
    "name": "ipython",
    "version": 3
   },
   "file_extension": ".py",
   "mimetype": "text/x-python",
   "name": "python",
   "nbconvert_exporter": "python",
   "pygments_lexer": "ipython3",
   "version": "3.10.12"
  }
 },
 "nbformat": 4,
 "nbformat_minor": 2
}
